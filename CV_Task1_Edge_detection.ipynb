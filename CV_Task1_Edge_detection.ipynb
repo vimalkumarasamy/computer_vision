{
  "nbformat": 4,
  "nbformat_minor": 0,
  "metadata": {
    "colab": {
      "name": "CV_Task1_Edge_detection.ipynb",
      "provenance": [],
      "collapsed_sections": [],
      "authorship_tag": "ABX9TyMlmfAFqsGjvs3NwyFnA3p2",
      "include_colab_link": true
    },
    "kernelspec": {
      "name": "python3",
      "display_name": "Python 3"
    }
  },
  "cells": [
    {
      "cell_type": "markdown",
      "metadata": {
        "id": "view-in-github",
        "colab_type": "text"
      },
      "source": [
        "<a href=\"https://colab.research.google.com/github/vimalkumarasamy/computer_vision/blob/master/CV_Task1_Edge_detection.ipynb\" target=\"_parent\"><img src=\"https://colab.research.google.com/assets/colab-badge.svg\" alt=\"Open In Colab\"/></a>"
      ]
    },
    {
      "cell_type": "code",
      "metadata": {
        "id": "2yWIXTKzwYvi",
        "colab_type": "code",
        "colab": {
          "base_uri": "https://localhost:8080/",
          "height": 35
        },
        "outputId": "15258752-2b21-4a13-de31-fa73c83ec0d0"
      },
      "source": [
        "from google.colab import drive\n",
        "drive.mount('/content/gdrive')"
      ],
      "execution_count": 29,
      "outputs": [
        {
          "output_type": "stream",
          "text": [
            "Drive already mounted at /content/gdrive; to attempt to forcibly remount, call drive.mount(\"/content/gdrive\", force_remount=True).\n"
          ],
          "name": "stdout"
        }
      ]
    },
    {
      "cell_type": "code",
      "metadata": {
        "id": "vSrKyvs0wj8q",
        "colab_type": "code",
        "colab": {
          "base_uri": "https://localhost:8080/",
          "height": 35
        },
        "outputId": "53c6d11d-277f-4a9c-f2b9-fa3e19e5b1dd"
      },
      "source": [
        "cd /content/gdrive/My Drive/Computer_Vision"
      ],
      "execution_count": 35,
      "outputs": [
        {
          "output_type": "stream",
          "text": [
            "/content/gdrive/My Drive/Computer_Vision\n"
          ],
          "name": "stdout"
        }
      ]
    },
    {
      "cell_type": "code",
      "metadata": {
        "id": "UJj5DUjbyMHM",
        "colab_type": "code",
        "colab": {}
      },
      "source": [
        "import argparse\n",
        "import copy\n",
        "import os\n",
        "\n",
        "import cv2\n",
        "import numpy as np\n",
        "\n",
        "import utils\n",
        "\n",
        "\n",
        "\n",
        "# Prewitt operator\n",
        "prewitt_x = [[1, 0, -1]] * 3\n",
        "prewitt_y = [[1] * 3, [0] * 3, [-1] * 3]\n",
        "\n",
        "# Sobel operator\n",
        "sobel_x = [[1, 0, -1], [2, 0, -2], [1, 0, -1]]\n",
        "sobel_y = [[-1, -2, -1], [0, 0, 0], [1, 2, 1]]\n",
        "\n",
        "\n",
        "def parse_args():\n",
        "    parser = argparse.ArgumentParser(description=\"cse 473/573 project 1.\")\n",
        "    parser.add_argument(\n",
        "        \"--img_path\", type=str, default=\"\",\n",
        "        help=\"path to the image used for edge detection\")\n",
        "    parser.add_argument(\n",
        "        \"--kernel\", type=str, default=\"sobel\",\n",
        "        choices=[\"prewitt\", \"sobel\", \"Prewitt\", \"Sobel\"],\n",
        "        help=\"type of edge detector used for edge detection\")\n",
        "    parser.add_argument(\n",
        "        \"--result_saving_directory\", dest=\"rs_directory\", type=str, default=\"./results/\",\n",
        "        help=\"directory to which results are saved (do not change this arg)\")\n",
        "    args = parser.parse_args()\n",
        "    return args\n",
        "\n",
        "\n",
        "def read_image(img_path, show=False):\n",
        "    \"\"\"Reads an image into memory as a grayscale array.\n",
        "    \"\"\"\n",
        "    img = cv2.imread(img_path, cv2.IMREAD_GRAYSCALE)\n",
        "    if not img.dtype == np.uint8:\n",
        "        pass\n",
        "\n",
        "    if show:\n",
        "        show_image(img)\n",
        "\n",
        "    img = [list(row) for row in img]\n",
        "    return img\n",
        "\n",
        "def show_image(img, delay=1000):\n",
        "    \"\"\"Shows an image.\n",
        "    \"\"\"\n",
        "    cv2.namedWindow('image', cv2.WINDOW_AUTOSIZE)\n",
        "    cv2.imshow('image', img)\n",
        "    cv2.waitKey(delay)\n",
        "    cv2.destroyAllWindows()\n",
        "\n",
        "def write_image(img, img_saving_path):\n",
        "    \"\"\"Writes an image to a given path.\n",
        "    \"\"\"\n",
        "    if isinstance(img, list):\n",
        "        img = np.asarray(img, dtype=np.uint8)\n",
        "    elif isinstance(img, np.ndarray):\n",
        "        if not img.dtype == np.uint8:\n",
        "            assert np.max(img) <= 1, \"Maximum pixel value {:.3f} is greater than 1\".format(np.max(img))\n",
        "            img = (255 * img).astype(np.uint8)\n",
        "    else:\n",
        "        raise TypeError(\"img is neither a list nor a ndarray.\")"
      ],
      "execution_count": 0,
      "outputs": []
    },
    {
      "cell_type": "code",
      "metadata": {
        "id": "HPX8z-VmyNXb",
        "colab_type": "code",
        "colab": {}
      },
      "source": [
        "def convolve2d(img, kernel):\n",
        "    \"\"\"Convolves a given image and a given kernel.\n",
        "\n",
        "    Steps:\n",
        "        (1) flips the either the img or the kernel.\n",
        "        (2) pads the img or the flipped img.\n",
        "            this step handles pixels along the border of the img,\n",
        "            and makes sure that the output img is of the same size as the input image.\n",
        "        (3) applies the flipped kernel to the image or the kernel to the flipped image,\n",
        "            using nested for loop.\n",
        "\n",
        "    Args:\n",
        "        img: nested list (int), image.\n",
        "        kernel: nested list (int), kernel.\n",
        "\n",
        "    Returns:\n",
        "        img_conv: nested list (int), image.\n",
        "    \"\"\"\n",
        "    # TODO: implement this function.\n",
        "    ker=copy.deepcopy(kernel)\n",
        "    l=len(ker)\n",
        "    b=len(ker[0])\n",
        "    rev_ker=[ker[l-1-i] for i in range(l)]\n",
        "    for i in range(l):\n",
        "      rev_ker[i]=[rev_ker[i][b-1-j] for j in range(b)]\n",
        "\n",
        "\n",
        "\n",
        "    pre_padded_img = copy.deepcopy(img)\n",
        "    l=len(pre_padded_img)\n",
        "    b=len(pre_padded_img[0])\n",
        "    img_conv=[[0]*b]*l\n",
        "    pad_size=int((len(kernel)-1)/2)\n",
        "    # print(pad_size)\n",
        "    padded_img=zero_pad(pre_padded_img,pad_size,pad_size)\n",
        "    # print(padded_img)\n",
        "    for i in range(l):\n",
        "      for j in range(b):\n",
        "        # print(np.array([k[j:j+len(kernel)] for k in padded_img[i:i+len(kernel)]]))\n",
        "        # print(np.array(kernel))\n",
        "        img_conv[i][j]= int(np.multiply(np.array([k[j:j+len(rev_ker)] for k in padded_img[i:i+len(kernel)]]),np.array(rev_ker)).sum())\n",
        "    # raise NotImplementedError\n",
        "    return img_conv"
      ],
      "execution_count": 0,
      "outputs": []
    },
    {
      "cell_type": "code",
      "metadata": {
        "id": "oNB7J4JUys0h",
        "colab_type": "code",
        "colab": {}
      },
      "source": [
        "def normalize(img):\n",
        "    \"\"\"Normalizes a given image.\n",
        "\n",
        "    Hints:\n",
        "        Noralize a given image using the following equation:\n",
        "\n",
        "        normalized_img = frac{img - min(img)}{max(img) - min(img)},\n",
        "\n",
        "        so that the maximum pixel value is 255 and the minimum pixel value is 0.\n",
        "\n",
        "    Args:\n",
        "        img: nested list (int), image.\n",
        "\n",
        "    Returns:\n",
        "        normalized_img: nested list (int), normalized image.\n",
        "    \"\"\"\n",
        "    # TODO: implement this function.\n",
        "    import numpy as np\n",
        "    img_np=np.array(img)\n",
        "    img_np=(img_np-img_np.min())*255/(img_np.max()-img_np.min())\n",
        "    img=img_np.tolist()\n",
        "\n",
        "    # raise NotImplementedError\n",
        "    return img"
      ],
      "execution_count": 0,
      "outputs": []
    },
    {
      "cell_type": "code",
      "metadata": {
        "id": "_ZgiZ7Ohyzig",
        "colab_type": "code",
        "colab": {}
      },
      "source": [
        "def detect_edges(img, kernel, norm=True):\n",
        "    \"\"\"Detects edges using a given kernel.\n",
        "\n",
        "    Args:\n",
        "        img: nested list (int), image.\n",
        "        kernel: nested list (int), kernel used to detect edges.\n",
        "        norm (bool): whether to normalize the image or not.\n",
        "\n",
        "    Returns:\n",
        "        img_edge: nested list (int), image containing detected edges.\n",
        "    \"\"\"\n",
        "    # TODO: detect edges using convolve2d and normalize the image containing detected edges using normalize.\n",
        "    # raise NotImplementedError\n",
        "    img_edges=convolve2d(img, kernel)\n",
        "    if norm:\n",
        "      img_edges=normalize(img)\n",
        "    return img_edges\n"
      ],
      "execution_count": 0,
      "outputs": []
    },
    {
      "cell_type": "code",
      "metadata": {
        "id": "fHM8cjaUy5n2",
        "colab_type": "code",
        "colab": {}
      },
      "source": [
        "def edge_magnitude(edge_x, edge_y):\n",
        "    \"\"\"Calculate magnitude of edges by combining edges along two orthogonal directions.\n",
        "\n",
        "    Hints:\n",
        "        Combine edges along two orthogonal directions using the following equation:\n",
        "\n",
        "        edge_mag = sqrt(edge_x ** 2 + edge_y **).\n",
        "\n",
        "        Make sure that you normalize the edge_mag, so that the maximum pixel value is 1.\n",
        "\n",
        "    Args:\n",
        "        edge_x: nested list (int), image containing detected edges along one direction.\n",
        "        edge_y: nested list (int), image containing detected edges along another direction.\n",
        "\n",
        "    Returns:\n",
        "        edge_mag: nested list (int), image containing magnitude of detected edges.\n",
        "    \"\"\"\n",
        "    # TODO: implement this function.\n",
        "    # raise NotImplementedError\n",
        "    import numpy as np\n",
        "    x=np.array(edge_x)\n",
        "    y=np.array(edge_y)\n",
        "    edge_mag=np.sqrt(np.add(np.square(x),np.square(y)))\n",
        "    return edge_mag"
      ],
      "execution_count": 0,
      "outputs": []
    },
    {
      "cell_type": "code",
      "metadata": {
        "id": "CFHiK3-ey-Bx",
        "colab_type": "code",
        "colab": {}
      },
      "source": [
        "\n",
        "def main():\n",
        "    args = parse_args()\n",
        "\n",
        "    img = read_image(args.img_path)\n",
        "\n",
        "    if args.kernel in [\"prewitt\", \"Prewitt\"]:\n",
        "        kernel_x = prewitt_x\n",
        "        kernel_y = prewitt_y\n",
        "    elif args.kernel in [\"sobel\", \"Sobel\"]:\n",
        "        kernel_x = sobel_x\n",
        "        kernel_y = sobel_y\n",
        "    else:\n",
        "        raise ValueError(\"Kernel type not recognized.\")\n",
        "\n",
        "    if not os.path.exists(args.rs_directory):\n",
        "        os.makedirs(args.rs_directory)\n",
        "\n",
        "    img_edge_x = detect_edges(img, kernel_x, False)\n",
        "    img_edge_x = np.asarray(img_edge_x)\n",
        "    write_image(normalize(img_edge_x), os.path.join(args.rs_directory, \"{}_edge_x.jpg\".format(args.kernel.lower())))\n",
        "\n",
        "    img_edge_y = detect_edges(img, kernel_y, False)\n",
        "    img_edge_y = np.asarray(img_edge_y)\n",
        "    write_image(normalize(img_edge_y), os.path.join(args.rs_directory, \"{}_edge_y.jpg\".format(args.kernel.lower())))\n",
        "\n",
        "    img_edges = edge_magnitude(img_edge_x, img_edge_y)\n",
        "    write_image(img_edges, os.path.join(args.rs_directory, \"{}_edge_mag.jpg\".format(args.kernel.lower())))\n",
        "\n",
        "\n",
        "if __name__ == \"__main__\":\n",
        "    main()"
      ],
      "execution_count": 0,
      "outputs": []
    }
  ]
}