{
  "nbformat": 4,
  "nbformat_minor": 0,
  "metadata": {
    "colab": {
      "name": "CV_understanding_convolutions.ipynb",
      "provenance": [],
      "collapsed_sections": [],
      "authorship_tag": "ABX9TyNK5sYGAkUb/wSL6IZbPDTF",
      "include_colab_link": true
    },
    "kernelspec": {
      "name": "python3",
      "display_name": "Python 3"
    }
  },
  "cells": [
    {
      "cell_type": "markdown",
      "metadata": {
        "id": "view-in-github",
        "colab_type": "text"
      },
      "source": [
        "<a href=\"https://colab.research.google.com/github/vimalkumarasamy/computer_vision/blob/master/CV_understanding_convolutions.ipynb\" target=\"_parent\"><img src=\"https://colab.research.google.com/assets/colab-badge.svg\" alt=\"Open In Colab\"/></a>"
      ]
    },
    {
      "cell_type": "code",
      "metadata": {
        "id": "1be5lP6ETXx0",
        "colab_type": "code",
        "colab": {}
      },
      "source": [
        "import numpy as np\n",
        "import copy\n",
        "img=[[0,0,0],[0,1,0],[0,0,0]]\n",
        "kernel=[[-1,0,1],[-2,0,2],[-1,0,1]]\n",
        "\n",
        "def zero_pad(img, pwx, pwy):\n",
        "    padded_img = copy.deepcopy(img)\n",
        "    for i in range(pwx):\n",
        "        padded_img.insert(0, [0 for value in enumerate(padded_img[i])])\n",
        "        padded_img.insert(len(padded_img), [0 for value in enumerate(padded_img[-1])])\n",
        "    for i, row in enumerate(padded_img):\n",
        "        for j in range(pwy):\n",
        "            row.insert(0, 0)\n",
        "            row.insert(len(row), 0)\n",
        "    return padded_img\n",
        "\n",
        "def correlation(img,kernel):\n",
        "  pre_padded_img=copy.deepcopy(img)\n",
        "  ker=copy.deepcopy(kernel)\n",
        "  padded_img=zero_pad(pre_padded_img,1,1)\n",
        "  l=len(pre_padded_img)\n",
        "  b=len(pre_padded_img[0])\n",
        "  img_conv=np.zeros((l, b)).tolist()\n",
        "  s=len(ker)\n",
        "  for i in range(l):\n",
        "    for j in range(b):\n",
        "      for m in range(s):\n",
        "        for n in range(s):\n",
        "          img_conv[i][j]=img_conv[i][j]+(padded_img[i+m][j+n]*ker[m][n])\n",
        "  return img_conv\n",
        "\n",
        "def flip(kernel):\n",
        "  ker=copy.deepcopy(kernel)\n",
        "  s=len(ker)\n",
        "  rev_ker=[ker[s-1-i] for i in range(s)]\n",
        "  for i in range(s):\n",
        "    rev_ker[i]=[rev_ker[i][s-1-j] for j in range(s)]\n",
        "  return(rev_ker)"
      ],
      "execution_count": 0,
      "outputs": []
    },
    {
      "cell_type": "code",
      "metadata": {
        "id": "oyPHvskPWqYO",
        "colab_type": "code",
        "colab": {
          "base_uri": "https://localhost:8080/",
          "height": 35
        },
        "outputId": "7d5b587d-5c06-4db6-f487-9c8ee9ce3daf"
      },
      "source": [
        "# Exercise 1\n",
        "# correlation\n",
        "correlation(img,kernel)"
      ],
      "execution_count": 80,
      "outputs": [
        {
          "output_type": "execute_result",
          "data": {
            "text/plain": [
              "[[1.0, 0.0, -1.0], [2.0, 0.0, -2.0], [1.0, 0.0, -1.0]]"
            ]
          },
          "metadata": {
            "tags": []
          },
          "execution_count": 80
        }
      ]
    },
    {
      "cell_type": "code",
      "metadata": {
        "id": "gnmIt042W29o",
        "colab_type": "code",
        "colab": {
          "base_uri": "https://localhost:8080/",
          "height": 35
        },
        "outputId": "338e6248-cdfe-4a60-f59f-4f0bd60cff2e"
      },
      "source": [
        "# correlation with a flipped kernel is convolution, which is different from the above solution\n",
        "correlation(img,flip(kernel))"
      ],
      "execution_count": 16,
      "outputs": [
        {
          "output_type": "execute_result",
          "data": {
            "text/plain": [
              "[[-1.0, 0.0, 1.0], [0.0, 0.0, 0.0], [0.0, 0.0, 0.0]]"
            ]
          },
          "metadata": {
            "tags": []
          },
          "execution_count": 16
        }
      ]
    },
    {
      "cell_type": "code",
      "metadata": {
        "id": "V-47WK3mbwaw",
        "colab_type": "code",
        "colab": {}
      },
      "source": [
        "# Exercise 2"
      ],
      "execution_count": 0,
      "outputs": []
    },
    {
      "cell_type": "code",
      "metadata": {
        "id": "PoYekGPAcdk5",
        "colab_type": "code",
        "colab": {}
      },
      "source": [
        "F = [[0,0,0],[1,0,0],[0,0,0]]\n",
        "G = [[0,1,0],[0,0,0],[0,0,0]]\n",
        "I = [[0,0,0],[0,1,0],[0,0,0]]\n",
        "i = [[1,2,3],[4,5,6],[7,8,9]]"
      ],
      "execution_count": 0,
      "outputs": []
    },
    {
      "cell_type": "code",
      "metadata": {
        "id": "b8rQ4VHrnlwP",
        "colab_type": "code",
        "colab": {
          "base_uri": "https://localhost:8080/",
          "height": 433
        },
        "outputId": "5c692045-7591-406c-fb25-a5ce58519eff"
      },
      "source": [
        "# Simple image\n",
        "# Applying correlation directly, without flipping\n",
        "\n",
        "print('\\nStep 1.1 - (G X I)')\n",
        "print(correlation(I,G))\n",
        "print('\\nStep 1.2 - F X (G X I)')\n",
        "print(correlation(correlation(I,G),F))\n",
        "print('\\nStep 2.1 - (F X G)')\n",
        "print(correlation(G,F))\n",
        "print('\\nStep 2.2 - (F X G) X I')\n",
        "print(correlation(I,correlation(G,F)))\n",
        "\n",
        "# Applying correlation while flipping the kernel\n",
        "\n",
        "print('\\nStep 3.1 - (Flipped G X I)')\n",
        "print(correlation(I,flip(G)))\n",
        "print('\\nStep 3.2 - Flipped F X (Flipped G X I)')\n",
        "print(correlation(correlation(I,flip(G)),flip(F)))\n",
        "print('\\nStep 4.1 - (Flipped F X G)')\n",
        "print(correlation(G,flip(F)))\n",
        "print('\\nStep 4.2 - Flipped(Flipped F X G) X I')\n",
        "print(correlation(I,flip(correlation(G,flip(F)))))"
      ],
      "execution_count": 101,
      "outputs": [
        {
          "output_type": "stream",
          "text": [
            "\n",
            "Step 1.1 - (G X I)\n",
            "[[0.0, 0.0, 0.0], [0.0, 0.0, 0.0], [0.0, 1.0, 0.0]]\n",
            "\n",
            "Step 1.2 - F X (G X I)\n",
            "[[0.0, 0.0, 0.0], [0.0, 0.0, 0.0], [0.0, 0.0, 1.0]]\n",
            "\n",
            "Step 2.1 - (F X G)\n",
            "[[0.0, 0.0, 1.0], [0.0, 0.0, 0.0], [0.0, 0.0, 0.0]]\n",
            "\n",
            "Step 2.2 - (F X G) X I\n",
            "[[0.0, 0.0, 0.0], [0.0, 0.0, 0.0], [1.0, 0.0, 0.0]]\n",
            "\n",
            "Step 3.1 - (Flipped G X I)\n",
            "[[0.0, 1.0, 0.0], [0.0, 0.0, 0.0], [0.0, 0.0, 0.0]]\n",
            "\n",
            "Step 3.2 - Flipped F X (Flipped G X I)\n",
            "[[1.0, 0.0, 0.0], [0.0, 0.0, 0.0], [0.0, 0.0, 0.0]]\n",
            "\n",
            "Step 4.1 - (Flipped F X G)\n",
            "[[1.0, 0.0, 0.0], [0.0, 0.0, 0.0], [0.0, 0.0, 0.0]]\n",
            "\n",
            "Step 4.2 - Flipped(Flipped F X G) X I\n",
            "[[1.0, 0.0, 0.0], [0.0, 0.0, 0.0], [0.0, 0.0, 0.0]]\n"
          ],
          "name": "stdout"
        }
      ]
    },
    {
      "cell_type": "code",
      "metadata": {
        "id": "vhOjU2Ron7z7",
        "colab_type": "code",
        "colab": {
          "base_uri": "https://localhost:8080/",
          "height": 433
        },
        "outputId": "c8416d1f-45e5-4a11-89e9-cb9bab71568d"
      },
      "source": [
        "# Slightly detailed image\n",
        "# Applying correlation directly, without flipping\n",
        "\n",
        "print('\\nStep 1.1 - (G X i)')\n",
        "print(correlation(i,G))\n",
        "print('\\nStep 1.2 - F X (G X i)')\n",
        "print(correlation(correlation(i,G),F))\n",
        "print('\\nStep 2.1 - (F X G)')\n",
        "print(correlation(G,F))\n",
        "print('\\nStep 2.2 - (F X G) X i')\n",
        "print(correlation(i,correlation(G,F)))\n",
        "\n",
        "# Applying correlation while flipping the kernel\n",
        "\n",
        "print('\\nStep 3.1 - (Flipped G X i)')\n",
        "print(correlation(i,flip(G)))\n",
        "print('\\nStep 3.2 - Flipped F X (Flipped G X i)')\n",
        "print(correlation(correlation(i,flip(G)),flip(F)))\n",
        "print('\\nStep 4.1 - (Flipped F X G)')\n",
        "print(correlation(G,flip(F)))\n",
        "print('\\nStep 4.2 - Flipped(Flipped F X G) X i')\n",
        "print(correlation(i,flip(correlation(G,flip(F)))))"
      ],
      "execution_count": 103,
      "outputs": [
        {
          "output_type": "stream",
          "text": [
            "\n",
            "Step 1.1 - (G X i)\n",
            "[[0.0, 0.0, 0.0], [1.0, 2.0, 3.0], [4.0, 5.0, 6.0]]\n",
            "\n",
            "Step 1.2 - F X (G X i)\n",
            "[[0.0, 0.0, 0.0], [0.0, 1.0, 2.0], [0.0, 4.0, 5.0]]\n",
            "\n",
            "Step 2.1 - (F X G)\n",
            "[[0.0, 0.0, 1.0], [0.0, 0.0, 0.0], [0.0, 0.0, 0.0]]\n",
            "\n",
            "Step 2.2 - (F X G) X i\n",
            "[[0.0, 0.0, 0.0], [2.0, 3.0, 0.0], [5.0, 6.0, 0.0]]\n",
            "\n",
            "Step 3.1 - (Flipped G X i)\n",
            "[[4.0, 5.0, 6.0], [7.0, 8.0, 9.0], [0.0, 0.0, 0.0]]\n",
            "\n",
            "Step 3.2 - Flipped F X (Flipped G X i)\n",
            "[[5.0, 6.0, 0.0], [8.0, 9.0, 0.0], [0.0, 0.0, 0.0]]\n",
            "\n",
            "Step 4.1 - (Flipped F X G)\n",
            "[[1.0, 0.0, 0.0], [0.0, 0.0, 0.0], [0.0, 0.0, 0.0]]\n",
            "\n",
            "Step 4.2 - Flipped(Flipped F X G) X i\n",
            "[[5.0, 6.0, 0.0], [8.0, 9.0, 0.0], [0.0, 0.0, 0.0]]\n"
          ],
          "name": "stdout"
        }
      ]
    },
    {
      "cell_type": "code",
      "metadata": {
        "id": "9CBEGsIBpELw",
        "colab_type": "code",
        "colab": {}
      },
      "source": [
        ""
      ],
      "execution_count": 0,
      "outputs": []
    }
  ]
}