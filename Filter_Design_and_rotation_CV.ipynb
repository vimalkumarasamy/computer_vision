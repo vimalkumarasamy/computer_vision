{
  "nbformat": 4,
  "nbformat_minor": 0,
  "metadata": {
    "colab": {
      "name": "Filter Design and rotation CV.ipynb",
      "provenance": [],
      "collapsed_sections": [],
      "authorship_tag": "ABX9TyOObWy5dGO2qswi5HG7bSkF",
      "include_colab_link": true
    },
    "kernelspec": {
      "name": "python3",
      "display_name": "Python 3"
    }
  },
  "cells": [
    {
      "cell_type": "markdown",
      "metadata": {
        "id": "view-in-github",
        "colab_type": "text"
      },
      "source": [
        "<a href=\"https://colab.research.google.com/github/vimalkumarasamy/computer_vision/blob/master/Filter_Design_and_rotation_CV.ipynb\" target=\"_parent\"><img src=\"https://colab.research.google.com/assets/colab-badge.svg\" alt=\"Open In Colab\"/></a>"
      ]
    },
    {
      "cell_type": "code",
      "metadata": {
        "id": "_qtSkUOXw4Qz",
        "colab_type": "code",
        "colab": {}
      },
      "source": [
        "# Design a 5x5 flter which can shift image down by 2 pixels and to the left 1 pixel."
      ],
      "execution_count": 0,
      "outputs": []
    },
    {
      "cell_type": "code",
      "metadata": {
        "id": "x2NQFKIqz2br",
        "colab_type": "code",
        "colab": {}
      },
      "source": [
        "def padding(mat,value):\n",
        "  a,b=mat.shape\n",
        "  out_mat=np.zeros((a+(2*value), b+(2*value)))\n",
        "  for i in range(a):\n",
        "    for j in range(b):\n",
        "      out_mat[i+value][j+value]=mat[i][j]\n",
        "  return(out_mat)"
      ],
      "execution_count": 0,
      "outputs": []
    },
    {
      "cell_type": "code",
      "metadata": {
        "id": "29_D86gm530t",
        "colab_type": "code",
        "colab": {}
      },
      "source": [
        "import numpy as np \n",
        "import random\n",
        "N=3\n",
        "arr=np.array([[random.random()]*N for x in range(N)])\n",
        "\n",
        "F1 = np.array([[0, 0, 1, 0, 0], \n",
        "               [0, 0, 0, 0, 0],\n",
        "               [0, 0, 0, 0, 0],\n",
        "               [0, 0, 0, 0, 0],\n",
        "               [0, 0, 0, 0, 0]])\n",
        "\n",
        "def apply_filter(input_array,filter):\n",
        "  arr=input_array.copy()\n",
        "  F1=filter.copy()\n",
        "  a,b=arr.shape\n",
        "  arr_pad=padding(arr,2)\n",
        "  out_mat=np.zeros((a, b))\n",
        "  for i in range(a):\n",
        "    for j in range(b):\n",
        "      out_mat[i][j]=(np.multiply(arr_pad[i:i+5,j:j+5],F1)).sum()\n",
        "  return(out_mat)\n",
        "\n"
      ],
      "execution_count": 0,
      "outputs": []
    },
    {
      "cell_type": "code",
      "metadata": {
        "id": "mbXarkJ_57Su",
        "colab_type": "code",
        "colab": {
          "base_uri": "https://localhost:8080/",
          "height": 69
        },
        "outputId": "d56a528f-c6ef-4f3d-f520-4e7ab5c17a41"
      },
      "source": [
        "F1 = np.array([[0, 0, 1, 0, 0], \n",
        "               [0, 0, 0, 0, 0],\n",
        "               [0, 0, 0, 0, 0],\n",
        "               [0, 0, 0, 0, 0],\n",
        "               [0, 0, 0, 0, 0]])\n",
        "\n",
        "F2 = np.array([[0, 0, 0, 0, 0], \n",
        "               [0, 0, 0, 0, 0],\n",
        "               [0, 0, 0, 1, 0],\n",
        "               [0, 0, 0, 0, 0],\n",
        "               [0, 0, 0, 0, 0]])\n",
        "\n",
        "F3=np.matmul(F1,F2)\n",
        "print(arr)\n",
        "# apply_filter(arr,F2)"
      ],
      "execution_count": 4,
      "outputs": [
        {
          "output_type": "stream",
          "text": [
            "[[0.04193627 0.04193627 0.04193627]\n",
            " [0.16832363 0.16832363 0.16832363]\n",
            " [0.65135636 0.65135636 0.65135636]]\n"
          ],
          "name": "stdout"
        }
      ]
    },
    {
      "cell_type": "code",
      "metadata": {
        "id": "w8x3H0T457xJ",
        "colab_type": "code",
        "colab": {
          "base_uri": "https://localhost:8080/",
          "height": 69
        },
        "outputId": "c2540c77-60ff-43d7-9530-88e991f87ea4"
      },
      "source": [
        "arr"
      ],
      "execution_count": 5,
      "outputs": [
        {
          "output_type": "execute_result",
          "data": {
            "text/plain": [
              "array([[0.04193627, 0.04193627, 0.04193627],\n",
              "       [0.16832363, 0.16832363, 0.16832363],\n",
              "       [0.65135636, 0.65135636, 0.65135636]])"
            ]
          },
          "metadata": {
            "tags": []
          },
          "execution_count": 5
        }
      ]
    },
    {
      "cell_type": "code",
      "metadata": {
        "id": "qdy-XQ507iYX",
        "colab_type": "code",
        "colab": {
          "base_uri": "https://localhost:8080/",
          "height": 69
        },
        "outputId": "cc6edb9d-b7fd-4d5a-ba6c-619d109f48db"
      },
      "source": [
        "apply_filter(arr,F1)"
      ],
      "execution_count": 6,
      "outputs": [
        {
          "output_type": "execute_result",
          "data": {
            "text/plain": [
              "array([[0.        , 0.        , 0.        ],\n",
              "       [0.        , 0.        , 0.        ],\n",
              "       [0.04193627, 0.04193627, 0.04193627]])"
            ]
          },
          "metadata": {
            "tags": []
          },
          "execution_count": 6
        }
      ]
    },
    {
      "cell_type": "code",
      "metadata": {
        "id": "Ca7cmWoO8-d5",
        "colab_type": "code",
        "colab": {
          "base_uri": "https://localhost:8080/",
          "height": 69
        },
        "outputId": "21a9c983-a3f1-4500-b0e9-7244e40050ff"
      },
      "source": [
        "apply_filter(arr,F2)"
      ],
      "execution_count": 7,
      "outputs": [
        {
          "output_type": "execute_result",
          "data": {
            "text/plain": [
              "array([[0.04193627, 0.04193627, 0.        ],\n",
              "       [0.16832363, 0.16832363, 0.        ],\n",
              "       [0.65135636, 0.65135636, 0.        ]])"
            ]
          },
          "metadata": {
            "tags": []
          },
          "execution_count": 7
        }
      ]
    },
    {
      "cell_type": "code",
      "metadata": {
        "id": "d2wK-53D8_yy",
        "colab_type": "code",
        "colab": {
          "base_uri": "https://localhost:8080/",
          "height": 69
        },
        "outputId": "344a75e6-38d4-43fd-8cbc-f9e2262b87c7"
      },
      "source": [
        "apply_filter(arr,F3)"
      ],
      "execution_count": 8,
      "outputs": [
        {
          "output_type": "execute_result",
          "data": {
            "text/plain": [
              "array([[0.        , 0.        , 0.        ],\n",
              "       [0.        , 0.        , 0.        ],\n",
              "       [0.04193627, 0.04193627, 0.        ]])"
            ]
          },
          "metadata": {
            "tags": []
          },
          "execution_count": 8
        }
      ]
    },
    {
      "cell_type": "code",
      "metadata": {
        "id": "z9dFrWa19CO9",
        "colab_type": "code",
        "colab": {
          "base_uri": "https://localhost:8080/",
          "height": 69
        },
        "outputId": "4a7e64e8-b5af-461e-d85d-af4651c13ee1"
      },
      "source": [
        "arr"
      ],
      "execution_count": 9,
      "outputs": [
        {
          "output_type": "execute_result",
          "data": {
            "text/plain": [
              "array([[0.04193627, 0.04193627, 0.04193627],\n",
              "       [0.16832363, 0.16832363, 0.16832363],\n",
              "       [0.65135636, 0.65135636, 0.65135636]])"
            ]
          },
          "metadata": {
            "tags": []
          },
          "execution_count": 9
        }
      ]
    },
    {
      "cell_type": "code",
      "metadata": {
        "id": "0thrmG7c9Ryv",
        "colab_type": "code",
        "colab": {
          "base_uri": "https://localhost:8080/",
          "height": 104
        },
        "outputId": "b1a6e06f-5664-4430-e8ec-2ba9f96abd73"
      },
      "source": [
        "F3"
      ],
      "execution_count": 10,
      "outputs": [
        {
          "output_type": "execute_result",
          "data": {
            "text/plain": [
              "array([[0, 0, 0, 1, 0],\n",
              "       [0, 0, 0, 0, 0],\n",
              "       [0, 0, 0, 0, 0],\n",
              "       [0, 0, 0, 0, 0],\n",
              "       [0, 0, 0, 0, 0]])"
            ]
          },
          "metadata": {
            "tags": []
          },
          "execution_count": 10
        }
      ]
    },
    {
      "cell_type": "code",
      "metadata": {
        "id": "6LY6KdKFEFQP",
        "colab_type": "code",
        "colab": {
          "base_uri": "https://localhost:8080/",
          "height": 104
        },
        "outputId": "b27909e0-e753-41ce-a0ba-451c2ba3d77f"
      },
      "source": [
        "F1"
      ],
      "execution_count": 11,
      "outputs": [
        {
          "output_type": "execute_result",
          "data": {
            "text/plain": [
              "array([[0, 0, 1, 0, 0],\n",
              "       [0, 0, 0, 0, 0],\n",
              "       [0, 0, 0, 0, 0],\n",
              "       [0, 0, 0, 0, 0],\n",
              "       [0, 0, 0, 0, 0]])"
            ]
          },
          "metadata": {
            "tags": []
          },
          "execution_count": 11
        }
      ]
    },
    {
      "cell_type": "code",
      "metadata": {
        "id": "DvSddrHkEp7Y",
        "colab_type": "code",
        "colab": {
          "base_uri": "https://localhost:8080/",
          "height": 104
        },
        "outputId": "91e4ef35-c1e7-4379-eb2a-0dcabe213a10"
      },
      "source": [
        "F2"
      ],
      "execution_count": 12,
      "outputs": [
        {
          "output_type": "execute_result",
          "data": {
            "text/plain": [
              "array([[0, 0, 0, 0, 0],\n",
              "       [0, 0, 0, 0, 0],\n",
              "       [0, 0, 0, 1, 0],\n",
              "       [0, 0, 0, 0, 0],\n",
              "       [0, 0, 0, 0, 0]])"
            ]
          },
          "metadata": {
            "tags": []
          },
          "execution_count": 12
        }
      ]
    },
    {
      "cell_type": "code",
      "metadata": {
        "id": "lmbOWO3xEqkZ",
        "colab_type": "code",
        "colab": {}
      },
      "source": [
        "# Rotation across XY plane in 2 dimension"
      ],
      "execution_count": 0,
      "outputs": []
    },
    {
      "cell_type": "code",
      "metadata": {
        "id": "-myi9DL8AEEC",
        "colab_type": "code",
        "colab": {}
      },
      "source": [
        "import math\n",
        "import numpy as np\n",
        "theta=math.pi/2\n",
        "d_2 = np.array([[math.cos(theta), -math.sin(theta)], \n",
        "                [math.sin(theta), math.cos(theta)]])\n",
        "\n",
        "co_ord = np.array([[1],[1]])"
      ],
      "execution_count": 0,
      "outputs": []
    },
    {
      "cell_type": "code",
      "metadata": {
        "id": "yCJxX7HrAhab",
        "colab_type": "code",
        "colab": {
          "base_uri": "https://localhost:8080/",
          "height": 52
        },
        "outputId": "66f367eb-f9a4-48b9-9b85-2fd8ce51e489"
      },
      "source": [
        "np.matmul(d_2,co_ord)"
      ],
      "execution_count": 15,
      "outputs": [
        {
          "output_type": "execute_result",
          "data": {
            "text/plain": [
              "array([[-1.],\n",
              "       [ 1.]])"
            ]
          },
          "metadata": {
            "tags": []
          },
          "execution_count": 15
        }
      ]
    },
    {
      "cell_type": "code",
      "metadata": {
        "id": "sIx2bX7mA18W",
        "colab_type": "code",
        "colab": {
          "base_uri": "https://localhost:8080/",
          "height": 52
        },
        "outputId": "c89a030c-2d19-4bfa-ac04-6fd493fc1c18"
      },
      "source": [
        "co_ord"
      ],
      "execution_count": 16,
      "outputs": [
        {
          "output_type": "execute_result",
          "data": {
            "text/plain": [
              "array([[1],\n",
              "       [1]])"
            ]
          },
          "metadata": {
            "tags": []
          },
          "execution_count": 16
        }
      ]
    },
    {
      "cell_type": "code",
      "metadata": {
        "id": "ezFjXdIMBrvc",
        "colab_type": "code",
        "colab": {}
      },
      "source": [
        "# dimensional rotations\n",
        "\n",
        "Rx=np.array([[1,0,0],  \n",
        "             [0,math.cos(theta), -math.sin(theta)],\n",
        "             [0, math.sin(theta),math.cos(theta)]])\n",
        "\n",
        "Ry=np.array([[math.cos(theta),0,math.sin(theta)],  \n",
        "             [0,1, 0],\n",
        "             [-math.sin(theta),0,math.cos(theta)]])\n",
        "\n",
        "Rz=np.array([[math.cos(theta),-math.sin(theta),0],  \n",
        "             [math.sin(theta),math.cos(theta), 0],\n",
        "             [0, 0,1]])\n",
        "\n",
        "\n"
      ],
      "execution_count": 0,
      "outputs": []
    },
    {
      "cell_type": "code",
      "metadata": {
        "id": "kV8B_56n3bsK",
        "colab_type": "code",
        "colab": {
          "base_uri": "https://localhost:8080/",
          "height": 69
        },
        "outputId": "6dc9e161-4bf5-4e45-d407-d5bf31fa1a90"
      },
      "source": [
        "theta=math.pi/2\n",
        "A = np.array([[10],[0],[20]])\n",
        "Rzy=np.matmul(Ry,Rz)\n",
        "np.matmul(Rzy,A)\n",
        "# [20,10,0]"
      ],
      "execution_count": 31,
      "outputs": [
        {
          "output_type": "execute_result",
          "data": {
            "text/plain": [
              "array([[2.000000e+01],\n",
              "       [1.000000e+01],\n",
              "       [6.123234e-16]])"
            ]
          },
          "metadata": {
            "tags": []
          },
          "execution_count": 31
        }
      ]
    },
    {
      "cell_type": "code",
      "metadata": {
        "id": "znc9raUe3c15",
        "colab_type": "code",
        "colab": {
          "base_uri": "https://localhost:8080/",
          "height": 69
        },
        "outputId": "eaca3e20-e486-44c6-cf20-d2205c1b22fe"
      },
      "source": [
        "print(Rzy)\n",
        "# [ 0, 0, 1]\n",
        "# [ 1, 0, 0]\n",
        "# [ 0, 1, 0]\n",
        "\n"
      ],
      "execution_count": 33,
      "outputs": [
        {
          "output_type": "stream",
          "text": [
            "[[ 3.74939946e-33 -6.12323400e-17  1.00000000e+00]\n",
            " [ 1.00000000e+00  6.12323400e-17  0.00000000e+00]\n",
            " [-6.12323400e-17  1.00000000e+00  6.12323400e-17]]\n"
          ],
          "name": "stdout"
        }
      ]
    },
    {
      "cell_type": "code",
      "metadata": {
        "id": "aJlxaUbK4PgY",
        "colab_type": "code",
        "colab": {}
      },
      "source": [
        ""
      ],
      "execution_count": 0,
      "outputs": []
    },
    {
      "cell_type": "code",
      "metadata": {
        "id": "cWZAI2pz4R6_",
        "colab_type": "code",
        "colab": {}
      },
      "source": [
        ""
      ],
      "execution_count": 0,
      "outputs": []
    },
    {
      "cell_type": "code",
      "metadata": {
        "id": "-idNFbsm4tdz",
        "colab_type": "code",
        "colab": {}
      },
      "source": [
        ""
      ],
      "execution_count": 0,
      "outputs": []
    }
  ]
}