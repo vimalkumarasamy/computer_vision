{
  "nbformat": 4,
  "nbformat_minor": 0,
  "metadata": {
    "colab": {
      "name": "Filter Design and rotation CV.ipynb",
      "provenance": [],
      "collapsed_sections": [],
      "authorship_tag": "ABX9TyNrfp5NM4i2xAQ9v4av4byg",
      "include_colab_link": true
    },
    "kernelspec": {
      "name": "python3",
      "display_name": "Python 3"
    }
  },
  "cells": [
    {
      "cell_type": "markdown",
      "metadata": {
        "id": "view-in-github",
        "colab_type": "text"
      },
      "source": [
        "<a href=\"https://colab.research.google.com/github/vimalkumarasamy/computer_vision/blob/master/Filter_Design_and_rotation_CV.ipynb\" target=\"_parent\"><img src=\"https://colab.research.google.com/assets/colab-badge.svg\" alt=\"Open In Colab\"/></a>"
      ]
    },
    {
      "cell_type": "code",
      "metadata": {
        "id": "_qtSkUOXw4Qz",
        "colab_type": "code",
        "outputId": "a84da143-5a22-41c5-9e51-92250666221c",
        "colab": {
          "base_uri": "https://localhost:8080/",
          "height": 119
        }
      },
      "source": [
        "# 1. Rotating an image across different axes\n",
        "import math\n",
        "# dimensional rotations\n",
        "theta=math.pi/2\n",
        "Rx=np.array([[1,0,0],  \n",
        "             [0,math.cos(theta), -math.sin(theta)],\n",
        "             [0, math.sin(theta),math.cos(theta)]])\n",
        "\n",
        "Ry=np.array([[math.cos(theta),0,math.sin(theta)],  \n",
        "             [0,1, 0],\n",
        "             [-math.sin(theta),0,math.cos(theta)]])\n",
        "\n",
        "Rz=np.array([[math.cos(theta),-math.sin(theta),0],  \n",
        "             [math.sin(theta),math.cos(theta), 0],\n",
        "             [0, 0,1]])\n",
        "A = np.array([[10],[0],[20]])\n",
        "Rzy=np.matmul(Ry,Rz)\n",
        "print(np.matmul(Rzy,A))\n",
        "# [20,10,0]\n",
        "print(Rzy)\n",
        "# [ 0, 0, 1]\n",
        "# [ 1, 0, 0]\n",
        "# [ 0, 1, 0]"
      ],
      "execution_count": 0,
      "outputs": [
        {
          "output_type": "stream",
          "text": [
            "[[2.000000e+01]\n",
            " [1.000000e+01]\n",
            " [6.123234e-16]]\n",
            "[[ 3.74939946e-33 -6.12323400e-17  1.00000000e+00]\n",
            " [ 1.00000000e+00  6.12323400e-17  0.00000000e+00]\n",
            " [-6.12323400e-17  1.00000000e+00  6.12323400e-17]]\n"
          ],
          "name": "stdout"
        }
      ]
    },
    {
      "cell_type": "code",
      "metadata": {
        "id": "oQ61MCa4YgfG",
        "colab_type": "code",
        "outputId": "3badbb53-37ae-4e75-e734-f741c92ae7d7",
        "colab": {
          "base_uri": "https://localhost:8080/",
          "height": 68
        }
      },
      "source": [
        "# 2. Scene coordinates to image coordinates translation \n",
        "# Suppose we have the following intrinsic parameters of camera: focal length is 2, the coordinate of\n",
        "# image center is [10; 10] . There is unit aspect ratio and no skew of the pixels.\n",
        "# If the coordinate of a point is [0; 2; 1] in the camera coordinate, calculate its coordinate on the image\n",
        "# plane.\n",
        "# Determine the intrinsic matrix.\n",
        "# Give the coordinate on the image plane\n",
        "\n",
        "# Scene to image translation \n",
        "k=np.array([[2,0,10],\n",
        "            [0,2,10],\n",
        "            [0,0,1]])\n",
        "\n",
        "R_t=np.array([[1,0,0,0],\n",
        "              [0,1,0,0],\n",
        "              [0,0,1,0]])\n",
        "\n",
        "A=np.array([[0],[2],[1],[1]])\n",
        "\n",
        "np.matmul(np.matmul(k,R_t),A)"
      ],
      "execution_count": 0,
      "outputs": [
        {
          "output_type": "execute_result",
          "data": {
            "text/plain": [
              "array([[10],\n",
              "       [14],\n",
              "       [ 1]])"
            ]
          },
          "metadata": {
            "tags": []
          },
          "execution_count": 30
        }
      ]
    },
    {
      "cell_type": "code",
      "metadata": {
        "id": "x2NQFKIqz2br",
        "colab_type": "code",
        "outputId": "ccb6fca3-0724-4383-db3f-4cc5a5afc45d",
        "colab": {
          "base_uri": "https://localhost:8080/",
          "height": 272
        }
      },
      "source": [
        "# 3. Design a 5x5 flter which can shift image down by 2 pixels and to the left 1 pixel.\n",
        "# Utility function to introduce padding\n",
        "def padding(mat,value):\n",
        "  a,b=mat.shape\n",
        "  out_mat=np.zeros((a+(2*value), b+(2*value)))\n",
        "  for i in range(a):\n",
        "    for j in range(b):\n",
        "      out_mat[i+value][j+value]=mat[i][j]\n",
        "  return(out_mat)\n",
        "\n",
        "# Utility function that applies a filter\n",
        "def apply_filter(input_array,filter):\n",
        "  arr=input_array.copy()\n",
        "  F1=filter.copy()\n",
        "  a,b=arr.shape\n",
        "  arr_pad=padding(arr,2)\n",
        "  out_mat=np.zeros((a, b))\n",
        "  for i in range(a):\n",
        "    for j in range(b):\n",
        "      out_mat[i][j]=(np.multiply(arr_pad[i:i+5,j:j+5],F1)).sum()\n",
        "  return(out_mat)\n",
        "\n",
        "import numpy as np \n",
        "\n",
        "# sample input matrix\n",
        "arr= np.array([[ 1,  2,  3,  4,  5], \n",
        "               [ 6,  7,  8,  9, 10],\n",
        "               [11, 12, 13, 14, 15],\n",
        "               [16, 17, 18, 19, 20],\n",
        "               [21, 22, 23, 24, 25]])\n",
        "\n",
        "# Filter that shifts the pixels down by 2 units\n",
        "F1 = np.array([[0, 0, 1, 0, 0], \n",
        "               [0, 0, 0, 0, 0],\n",
        "               [0, 0, 0, 0, 0],\n",
        "               [0, 0, 0, 0, 0],\n",
        "               [0, 0, 0, 0, 0]])\n",
        "\n",
        "# Filter that shifts the pixels left by 1 units\n",
        "F2 = np.array([[0, 0, 0, 0, 0], \n",
        "               [0, 0, 0, 0, 0],\n",
        "               [0, 0, 0, 1, 0],\n",
        "               [0, 0, 0, 0, 0],\n",
        "               [0, 0, 0, 0, 0]])\n",
        "\n",
        "# Combining the filters\n",
        "F3=np.matmul(F1,F2)\n",
        "\n",
        "print(arr)\n",
        "print(apply_filter(arr,F3))\n",
        "print(F3)\n"
      ],
      "execution_count": 0,
      "outputs": [
        {
          "output_type": "stream",
          "text": [
            "[[ 1  2  3  4  5]\n",
            " [ 6  7  8  9 10]\n",
            " [11 12 13 14 15]\n",
            " [16 17 18 19 20]\n",
            " [21 22 23 24 25]]\n",
            "[[ 0.  0.  0.  0.  0.]\n",
            " [ 0.  0.  0.  0.  0.]\n",
            " [ 2.  3.  4.  5.  0.]\n",
            " [ 7.  8.  9. 10.  0.]\n",
            " [12. 13. 14. 15.  0.]]\n",
            "[[0 0 0 1 0]\n",
            " [0 0 0 0 0]\n",
            " [0 0 0 0 0]\n",
            " [0 0 0 0 0]\n",
            " [0 0 0 0 0]]\n"
          ],
          "name": "stdout"
        }
      ]
    },
    {
      "cell_type": "code",
      "metadata": {
        "id": "29_D86gm530t",
        "colab_type": "code",
        "outputId": "c3db5d85-ca84-438a-fa48-da2d731fa05b",
        "colab": {
          "base_uri": "https://localhost:8080/",
          "height": 68
        }
      },
      "source": [
        "theta=math.pi/2\n",
        "Rx=np.array([[1,0,0],  \n",
        "             [0,math.cos(theta), -math.sin(theta)],\n",
        "             [0, math.sin(theta),math.cos(theta)]])\n",
        "\n",
        "Ry=np.array([[math.cos(theta),0,math.sin(theta)],  \n",
        "             [0,1, 0],\n",
        "             [-math.sin(theta),0,math.cos(theta)]])\n",
        "\n",
        "Rz=np.array([[math.cos(theta),-math.sin(theta),0],  \n",
        "             [math.sin(theta),math.cos(theta), 0],\n",
        "             [0, 0,1]])\n",
        "A = np.array([[1],[1],[1]])\n",
        "B = np.matmul(Rz,A)\n",
        "print(B)"
      ],
      "execution_count": 0,
      "outputs": [
        {
          "output_type": "stream",
          "text": [
            "[[-1.]\n",
            " [ 1.]\n",
            " [ 1.]]\n"
          ],
          "name": "stdout"
        }
      ]
    },
    {
      "cell_type": "code",
      "metadata": {
        "id": "LTvv7MEOaY6Z",
        "colab_type": "code",
        "colab": {}
      },
      "source": [
        "import numpy as np\n"
      ],
      "execution_count": 0,
      "outputs": []
    },
    {
      "cell_type": "code",
      "metadata": {
        "id": "pdzh-QXvrMO8",
        "colab_type": "code",
        "colab": {}
      },
      "source": [
        "a=np.array([[1,2,1]])\n",
        "b=np.array([[1],[2],[1]])"
      ],
      "execution_count": 0,
      "outputs": []
    },
    {
      "cell_type": "code",
      "metadata": {
        "id": "ilLwAZVgrVpU",
        "colab_type": "code",
        "colab": {
          "base_uri": "https://localhost:8080/",
          "height": 34
        },
        "outputId": "a7d6f87b-8fa8-465f-81a9-4d7b7fb3e36c"
      },
      "source": [
        "(np.multiply(a,b)).tolist()"
      ],
      "execution_count": 22,
      "outputs": [
        {
          "output_type": "execute_result",
          "data": {
            "text/plain": [
              "[[1, 2, 1], [2, 4, 2], [1, 2, 1]]"
            ]
          },
          "metadata": {
            "tags": []
          },
          "execution_count": 22
        }
      ]
    },
    {
      "cell_type": "code",
      "metadata": {
        "id": "lDQq1OgBrXmC",
        "colab_type": "code",
        "colab": {}
      },
      "source": [
        "a=np.array([[1,2,3],[1,2,4],[2,3,4]])"
      ],
      "execution_count": 0,
      "outputs": []
    },
    {
      "cell_type": "code",
      "metadata": {
        "id": "ATyfInPT3_93",
        "colab_type": "code",
        "colab": {}
      },
      "source": [
        "G1=np.array([[1,2,1]])"
      ],
      "execution_count": 0,
      "outputs": []
    },
    {
      "cell_type": "code",
      "metadata": {
        "id": "GVJALMWh4EG9",
        "colab_type": "code",
        "colab": {}
      },
      "source": [
        "G2=np.transpose(G1)"
      ],
      "execution_count": 0,
      "outputs": []
    },
    {
      "cell_type": "code",
      "metadata": {
        "id": "ef3cM6Cz4IXK",
        "colab_type": "code",
        "colab": {
          "base_uri": "https://localhost:8080/",
          "height": 70
        },
        "outputId": "0a4149bc-b71b-4779-b02d-88756dc42e82"
      },
      "source": [
        "np.multiply(G2,np.multiply(G1,a))"
      ],
      "execution_count": 26,
      "outputs": [
        {
          "output_type": "execute_result",
          "data": {
            "text/plain": [
              "array([[1, 4, 3],\n",
              "       [2, 8, 8],\n",
              "       [2, 6, 4]])"
            ]
          },
          "metadata": {
            "tags": []
          },
          "execution_count": 26
        }
      ]
    },
    {
      "cell_type": "code",
      "metadata": {
        "id": "J29hS4694Iw7",
        "colab_type": "code",
        "colab": {
          "base_uri": "https://localhost:8080/",
          "height": 70
        },
        "outputId": "61bcca38-b313-4c80-98aa-981c65ffd57d"
      },
      "source": [
        "G=np.multiply(G2,G1)\n",
        "np.multiply(G,a)"
      ],
      "execution_count": 27,
      "outputs": [
        {
          "output_type": "execute_result",
          "data": {
            "text/plain": [
              "array([[1, 4, 3],\n",
              "       [2, 8, 8],\n",
              "       [2, 6, 4]])"
            ]
          },
          "metadata": {
            "tags": []
          },
          "execution_count": 27
        }
      ]
    },
    {
      "cell_type": "code",
      "metadata": {
        "id": "Wl-tUSjY4JfA",
        "colab_type": "code",
        "colab": {
          "base_uri": "https://localhost:8080/",
          "height": 70
        },
        "outputId": "80695997-65db-46a5-e624-c561d5012318"
      },
      "source": [
        "a"
      ],
      "execution_count": 28,
      "outputs": [
        {
          "output_type": "execute_result",
          "data": {
            "text/plain": [
              "array([[1, 2, 3],\n",
              "       [1, 2, 4],\n",
              "       [2, 3, 4]])"
            ]
          },
          "metadata": {
            "tags": []
          },
          "execution_count": 28
        }
      ]
    },
    {
      "cell_type": "code",
      "metadata": {
        "id": "9QfCBIa_ZrVH",
        "colab_type": "code",
        "colab": {
          "base_uri": "https://localhost:8080/",
          "height": 70
        },
        "outputId": "fb6811f0-579e-4880-f30e-d3d0ea5f2b1d"
      },
      "source": [
        "G"
      ],
      "execution_count": 29,
      "outputs": [
        {
          "output_type": "execute_result",
          "data": {
            "text/plain": [
              "array([[1, 2, 1],\n",
              "       [2, 4, 2],\n",
              "       [1, 2, 1]])"
            ]
          },
          "metadata": {
            "tags": []
          },
          "execution_count": 29
        }
      ]
    },
    {
      "cell_type": "code",
      "metadata": {
        "id": "dyGGYGSRZxXJ",
        "colab_type": "code",
        "colab": {
          "base_uri": "https://localhost:8080/",
          "height": 70
        },
        "outputId": "92001f78-468b-4900-d95e-caa08dcaed9a"
      },
      "source": [
        "np.multiply(G1,a)"
      ],
      "execution_count": 30,
      "outputs": [
        {
          "output_type": "execute_result",
          "data": {
            "text/plain": [
              "array([[1, 4, 3],\n",
              "       [1, 4, 4],\n",
              "       [2, 6, 4]])"
            ]
          },
          "metadata": {
            "tags": []
          },
          "execution_count": 30
        }
      ]
    },
    {
      "cell_type": "code",
      "metadata": {
        "id": "-3PzXOH0aJxP",
        "colab_type": "code",
        "colab": {
          "base_uri": "https://localhost:8080/",
          "height": 70
        },
        "outputId": "8e603ef1-6f99-42d5-8359-ff34f842ec99"
      },
      "source": [
        "G\n"
      ],
      "execution_count": 31,
      "outputs": [
        {
          "output_type": "execute_result",
          "data": {
            "text/plain": [
              "array([[1, 2, 1],\n",
              "       [2, 4, 2],\n",
              "       [1, 2, 1]])"
            ]
          },
          "metadata": {
            "tags": []
          },
          "execution_count": 31
        }
      ]
    },
    {
      "cell_type": "code",
      "metadata": {
        "id": "cmi5JTsjaOL1",
        "colab_type": "code",
        "colab": {
          "base_uri": "https://localhost:8080/",
          "height": 34
        },
        "outputId": "72bc8411-7a03-41f4-ba57-066c8a9e03e3"
      },
      "source": [
        "G1"
      ],
      "execution_count": 32,
      "outputs": [
        {
          "output_type": "execute_result",
          "data": {
            "text/plain": [
              "array([[1, 2, 1]])"
            ]
          },
          "metadata": {
            "tags": []
          },
          "execution_count": 32
        }
      ]
    },
    {
      "cell_type": "code",
      "metadata": {
        "id": "q0nWqKjLaQ5n",
        "colab_type": "code",
        "colab": {
          "base_uri": "https://localhost:8080/",
          "height": 70
        },
        "outputId": "8410fc5c-96f1-4824-e36f-8db68667bfff"
      },
      "source": [
        "G2"
      ],
      "execution_count": 33,
      "outputs": [
        {
          "output_type": "execute_result",
          "data": {
            "text/plain": [
              "array([[1],\n",
              "       [2],\n",
              "       [1]])"
            ]
          },
          "metadata": {
            "tags": []
          },
          "execution_count": 33
        }
      ]
    },
    {
      "cell_type": "code",
      "metadata": {
        "id": "az4o_EXwaXyD",
        "colab_type": "code",
        "colab": {}
      },
      "source": [
        ""
      ],
      "execution_count": 0,
      "outputs": []
    }
  ]
}