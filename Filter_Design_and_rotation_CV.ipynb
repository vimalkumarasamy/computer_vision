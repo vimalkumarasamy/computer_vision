{
  "nbformat": 4,
  "nbformat_minor": 0,
  "metadata": {
    "colab": {
      "name": "Filter Design and rotation CV.ipynb",
      "provenance": [],
      "collapsed_sections": [],
      "authorship_tag": "ABX9TyNUapxV7OoKnyppCZyrXqMI",
      "include_colab_link": true
    },
    "kernelspec": {
      "name": "python3",
      "display_name": "Python 3"
    }
  },
  "cells": [
    {
      "cell_type": "markdown",
      "metadata": {
        "id": "view-in-github",
        "colab_type": "text"
      },
      "source": [
        "<a href=\"https://colab.research.google.com/github/vimalkumarasamy/computer_vision/blob/master/Filter_Design_and_rotation_CV.ipynb\" target=\"_parent\"><img src=\"https://colab.research.google.com/assets/colab-badge.svg\" alt=\"Open In Colab\"/></a>"
      ]
    },
    {
      "cell_type": "code",
      "metadata": {
        "id": "_qtSkUOXw4Qz",
        "colab_type": "code",
        "colab": {
          "base_uri": "https://localhost:8080/",
          "height": 119
        },
        "outputId": "a84da143-5a22-41c5-9e51-92250666221c"
      },
      "source": [
        "# 1. Rotating an image across different axes\n",
        "import math\n",
        "# dimensional rotations\n",
        "theta=math.pi/2\n",
        "Rx=np.array([[1,0,0],  \n",
        "             [0,math.cos(theta), -math.sin(theta)],\n",
        "             [0, math.sin(theta),math.cos(theta)]])\n",
        "\n",
        "Ry=np.array([[math.cos(theta),0,math.sin(theta)],  \n",
        "             [0,1, 0],\n",
        "             [-math.sin(theta),0,math.cos(theta)]])\n",
        "\n",
        "Rz=np.array([[math.cos(theta),-math.sin(theta),0],  \n",
        "             [math.sin(theta),math.cos(theta), 0],\n",
        "             [0, 0,1]])\n",
        "A = np.array([[10],[0],[20]])\n",
        "Rzy=np.matmul(Ry,Rz)\n",
        "print(np.matmul(Rzy,A))\n",
        "# [20,10,0]\n",
        "print(Rzy)\n",
        "# [ 0, 0, 1]\n",
        "# [ 1, 0, 0]\n",
        "# [ 0, 1, 0]"
      ],
      "execution_count": 31,
      "outputs": [
        {
          "output_type": "stream",
          "text": [
            "[[2.000000e+01]\n",
            " [1.000000e+01]\n",
            " [6.123234e-16]]\n",
            "[[ 3.74939946e-33 -6.12323400e-17  1.00000000e+00]\n",
            " [ 1.00000000e+00  6.12323400e-17  0.00000000e+00]\n",
            " [-6.12323400e-17  1.00000000e+00  6.12323400e-17]]\n"
          ],
          "name": "stdout"
        }
      ]
    },
    {
      "cell_type": "code",
      "metadata": {
        "id": "oQ61MCa4YgfG",
        "colab_type": "code",
        "colab": {
          "base_uri": "https://localhost:8080/",
          "height": 68
        },
        "outputId": "3badbb53-37ae-4e75-e734-f741c92ae7d7"
      },
      "source": [
        "# 2. Scene coordinates to image coordinates translation \n",
        "# Suppose we have the following intrinsic parameters of camera: focal length is 2, the coordinate of\n",
        "# image center is [10; 10] . There is unit aspect ratio and no skew of the pixels.\n",
        "# If the coordinate of a point is [0; 2; 1] in the camera coordinate, calculate its coordinate on the image\n",
        "# plane.\n",
        "# Determine the intrinsic matrix.\n",
        "# Give the coordinate on the image plane\n",
        "\n",
        "# Scene to image translation \n",
        "k=np.array([[2,0,10],\n",
        "            [0,2,10],\n",
        "            [0,0,1]])\n",
        "\n",
        "R_t=np.array([[1,0,0,0],\n",
        "              [0,1,0,0],\n",
        "              [0,0,1,0]])\n",
        "\n",
        "A=np.array([[0],[2],[1],[1]])\n",
        "\n",
        "np.matmul(np.matmul(k,R_t),A)"
      ],
      "execution_count": 30,
      "outputs": [
        {
          "output_type": "execute_result",
          "data": {
            "text/plain": [
              "array([[10],\n",
              "       [14],\n",
              "       [ 1]])"
            ]
          },
          "metadata": {
            "tags": []
          },
          "execution_count": 30
        }
      ]
    },
    {
      "cell_type": "code",
      "metadata": {
        "id": "j6cnVkfNXQHL",
        "colab_type": "code",
        "colab": {}
      },
      "source": [
        "# 3. Design a 5x5 flter which can shift image down by 2 pixels and to the left 1 pixel."
      ],
      "execution_count": 0,
      "outputs": []
    },
    {
      "cell_type": "code",
      "metadata": {
        "id": "x2NQFKIqz2br",
        "colab_type": "code",
        "colab": {}
      },
      "source": [
        "def padding(mat,value):\n",
        "  a,b=mat.shape\n",
        "  out_mat=np.zeros((a+(2*value), b+(2*value)))\n",
        "  for i in range(a):\n",
        "    for j in range(b):\n",
        "      out_mat[i+value][j+value]=mat[i][j]\n",
        "  return(out_mat)\n",
        "\n",
        "def apply_filter(input_array,filter):\n",
        "  arr=input_array.copy()\n",
        "  F1=filter.copy()\n",
        "  a,b=arr.shape\n",
        "  arr_pad=padding(arr,2)\n",
        "  out_mat=np.zeros((a, b))\n",
        "  for i in range(a):\n",
        "    for j in range(b):\n",
        "      out_mat[i][j]=(np.multiply(arr_pad[i:i+5,j:j+5],F1)).sum()\n",
        "  return(out_mat)"
      ],
      "execution_count": 0,
      "outputs": []
    },
    {
      "cell_type": "code",
      "metadata": {
        "id": "29_D86gm530t",
        "colab_type": "code",
        "colab": {}
      },
      "source": [
        "import numpy as np \n",
        "\n",
        "arr= np.array([[ 1,  2,  3,  4,  5], \n",
        "               [ 6,  7,  8,  9, 10],\n",
        "               [11, 12, 13, 14, 15],\n",
        "               [16, 17, 18, 19, 20],\n",
        "               [21, 22, 23, 24, 25]])\n",
        "\n",
        "F1 = np.array([[0, 0, 1, 0, 0], \n",
        "               [0, 0, 0, 0, 0],\n",
        "               [0, 0, 0, 0, 0],\n",
        "               [0, 0, 0, 0, 0],\n",
        "               [0, 0, 0, 0, 0]])\n",
        "\n",
        "F2 = np.array([[0, 0, 0, 0, 0], \n",
        "               [0, 0, 0, 0, 0],\n",
        "               [0, 0, 0, 1, 0],\n",
        "               [0, 0, 0, 0, 0],\n",
        "               [0, 0, 0, 0, 0]])\n",
        "\n",
        "F3=np.matmul(F1,F2)"
      ],
      "execution_count": 0,
      "outputs": []
    },
    {
      "cell_type": "code",
      "metadata": {
        "id": "mbXarkJ_57Su",
        "colab_type": "code",
        "colab": {
          "base_uri": "https://localhost:8080/",
          "height": 102
        },
        "outputId": "58bc9fcd-448b-4d0d-cfee-318feadbbdb6"
      },
      "source": [
        "apply_filter(arr,F3)"
      ],
      "execution_count": 13,
      "outputs": [
        {
          "output_type": "execute_result",
          "data": {
            "text/plain": [
              "array([[ 0.,  0.,  0.,  0.,  0.],\n",
              "       [ 0.,  0.,  0.,  0.,  0.],\n",
              "       [ 2.,  3.,  4.,  5.,  0.],\n",
              "       [ 7.,  8.,  9., 10.,  0.],\n",
              "       [12., 13., 14., 15.,  0.]])"
            ]
          },
          "metadata": {
            "tags": []
          },
          "execution_count": 13
        }
      ]
    },
    {
      "cell_type": "code",
      "metadata": {
        "id": "z9dFrWa19CO9",
        "colab_type": "code",
        "colab": {
          "base_uri": "https://localhost:8080/",
          "height": 102
        },
        "outputId": "5611bd68-2dd8-478e-a431-6ce628dd2cf7"
      },
      "source": [
        "arr"
      ],
      "execution_count": 11,
      "outputs": [
        {
          "output_type": "execute_result",
          "data": {
            "text/plain": [
              "array([[ 1,  2,  3,  4,  5],\n",
              "       [ 6,  7,  8,  9, 10],\n",
              "       [11, 12, 13, 14, 15],\n",
              "       [16, 17, 18, 19, 20],\n",
              "       [21, 22, 23, 24, 25]])"
            ]
          },
          "metadata": {
            "tags": []
          },
          "execution_count": 11
        }
      ]
    },
    {
      "cell_type": "code",
      "metadata": {
        "id": "0thrmG7c9Ryv",
        "colab_type": "code",
        "colab": {
          "base_uri": "https://localhost:8080/",
          "height": 102
        },
        "outputId": "b1a6e06f-5664-4430-e8ec-2ba9f96abd73"
      },
      "source": [
        "F3"
      ],
      "execution_count": 10,
      "outputs": [
        {
          "output_type": "execute_result",
          "data": {
            "text/plain": [
              "array([[0, 0, 0, 1, 0],\n",
              "       [0, 0, 0, 0, 0],\n",
              "       [0, 0, 0, 0, 0],\n",
              "       [0, 0, 0, 0, 0],\n",
              "       [0, 0, 0, 0, 0]])"
            ]
          },
          "metadata": {
            "tags": []
          },
          "execution_count": 10
        }
      ]
    }
  ]
}