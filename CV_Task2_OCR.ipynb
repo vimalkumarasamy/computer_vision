{
  "nbformat": 4,
  "nbformat_minor": 0,
  "metadata": {
    "colab": {
      "name": "CV_Task2_OCR.ipynb",
      "provenance": [],
      "collapsed_sections": [],
      "authorship_tag": "ABX9TyNY7gCGFNhHUWWcSvjooFhz",
      "include_colab_link": true
    },
    "kernelspec": {
      "name": "python3",
      "display_name": "Python 3"
    }
  },
  "cells": [
    {
      "cell_type": "markdown",
      "metadata": {
        "id": "view-in-github",
        "colab_type": "text"
      },
      "source": [
        "<a href=\"https://colab.research.google.com/github/vimalkumarasamy/computer_vision/blob/master/CV_Task2_OCR.ipynb\" target=\"_parent\"><img src=\"https://colab.research.google.com/assets/colab-badge.svg\" alt=\"Open In Colab\"/></a>"
      ]
    },
    {
      "cell_type": "code",
      "metadata": {
        "id": "6eMYy3xySca4",
        "colab_type": "code",
        "colab": {
          "base_uri": "https://localhost:8080/",
          "height": 124
        },
        "outputId": "9a10228f-3b94-4564-f083-40457fb86cee"
      },
      "source": [
        "from google.colab import drive\n",
        "drive.mount('/content/gdrive')"
      ],
      "execution_count": 1,
      "outputs": [
        {
          "output_type": "stream",
          "text": [
            "Go to this URL in a browser: https://accounts.google.com/o/oauth2/auth?client_id=947318989803-6bn6qk8qdgf4n4g3pfee6491hc0brc4i.apps.googleusercontent.com&redirect_uri=urn%3aietf%3awg%3aoauth%3a2.0%3aoob&response_type=code&scope=email%20https%3a%2f%2fwww.googleapis.com%2fauth%2fdocs.test%20https%3a%2f%2fwww.googleapis.com%2fauth%2fdrive%20https%3a%2f%2fwww.googleapis.com%2fauth%2fdrive.photos.readonly%20https%3a%2f%2fwww.googleapis.com%2fauth%2fpeopleapi.readonly\n",
            "\n",
            "Enter your authorization code:\n",
            "··········\n",
            "Mounted at /content/gdrive\n"
          ],
          "name": "stdout"
        }
      ]
    },
    {
      "cell_type": "code",
      "metadata": {
        "id": "1LKWa-sASpF4",
        "colab_type": "code",
        "colab": {
          "base_uri": "https://localhost:8080/",
          "height": 35
        },
        "outputId": "6e7f30fa-44e0-41f6-881a-47553fa29820"
      },
      "source": [
        "cd /content/gdrive/My Drive/Computer_Vision"
      ],
      "execution_count": 2,
      "outputs": [
        {
          "output_type": "stream",
          "text": [
            "/content/gdrive/My Drive/Computer_Vision\n"
          ],
          "name": "stdout"
        }
      ]
    },
    {
      "cell_type": "code",
      "metadata": {
        "id": "zEKL1jrDSwo3",
        "colab_type": "code",
        "colab": {
          "base_uri": "https://localhost:8080/",
          "height": 520
        },
        "outputId": "51ad7875-65a5-4f36-b83c-d28faf7a488e"
      },
      "source": [
        "import utils \n",
        "import numpy as np\n",
        "import copy\n",
        "import cv2\n",
        "import argparse\n",
        "import os\n",
        "import matplotlib.pyplot as plt\n",
        "from task1 import *\n",
        "\n",
        "img_path='proj1-task2-png.png'\n",
        "img=read_image(img_path)\n",
        "img_path='a.jpg'\n",
        "template=read_image(img_path)\n",
        "\n",
        "plt.imshow(img, cmap=\"gray\")\n",
        "plt.show()\n",
        "plt.imshow(template, cmap=\"gray\")\n",
        "plt.show()\n",
        "\n",
        "sobel_x = [[1, 0, -1], [2, 0, -2], [1, 0, -1]]\n",
        "sobel_y = [[-1, -2, -1], [0, 0, 0], [1, 2, 1]]\n",
        "\n"
      ],
      "execution_count": 36,
      "outputs": [
        {
          "output_type": "display_data",
          "data": {
            "image/png": "[encoded data removed]",
            "text/plain": [
              "<Figure size 432x288 with 1 Axes>"
            ]
          },
          "metadata": {
            "tags": []
          }
        },
        {
          "output_type": "display_data",
          "data": {
            "image/png": "[encoded data removed]",
            "text/plain": [
              "<Figure size 432x288 with 1 Axes>"
            ]
          },
          "metadata": {
            "tags": []
          }
        }
      ]
    },
    {
      "cell_type": "code",
      "metadata": {
        "id": "UJj5DUjbyMHM",
        "colab_type": "code",
        "colab": {}
      },
      "source": [
        "import argparse\n",
        "import copy\n",
        "import os\n",
        "\n",
        "import cv2\n",
        "import numpy as np\n",
        "\n",
        "import utils\n",
        "\n",
        "\n",
        "\n",
        "# Prewitt operator\n",
        "prewitt_x = [[1, 0, -1]] * 3\n",
        "prewitt_y = [[1] * 3, [0] * 3, [-1] * 3]\n",
        "\n",
        "# Sobel operator\n",
        "sobel_x = [[1, 0, -1], [2, 0, -2], [1, 0, -1]]\n",
        "sobel_y = [[-1, -2, -1], [0, 0, 0], [1, 2, 1]]\n",
        "\n",
        "\n",
        "def parse_args():\n",
        "    parser = argparse.ArgumentParser(description=\"cse 473/573 project 1.\")\n",
        "    parser.add_argument(\n",
        "        \"--img_path\", type=str, default=\"\",\n",
        "        help=\"path to the image used for edge detection\")\n",
        "    parser.add_argument(\n",
        "        \"--kernel\", type=str, default=\"sobel\",\n",
        "        choices=[\"prewitt\", \"sobel\", \"Prewitt\", \"Sobel\"],\n",
        "        help=\"type of edge detector used for edge detection\")\n",
        "    parser.add_argument(\n",
        "        \"--result_saving_directory\", dest=\"rs_directory\", type=str, default=\"./results/\",\n",
        "        help=\"directory to which results are saved (do not change this arg)\")\n",
        "    args = parser.parse_args()\n",
        "    return args\n",
        "\n",
        "\n",
        "def read_image(img_path, show=False):\n",
        "    \"\"\"Reads an image into memory as a grayscale array.\n",
        "    \"\"\"\n",
        "    img = cv2.imread(img_path, cv2.IMREAD_GRAYSCALE)\n",
        "    if not img.dtype == np.uint8:\n",
        "        pass\n",
        "\n",
        "    if show:\n",
        "        show_image(img)\n",
        "\n",
        "    img = [list(row) for row in img]\n",
        "    return img\n",
        "\n",
        "def show_image(img, delay=1000):\n",
        "    \"\"\"Shows an image.\n",
        "    \"\"\"\n",
        "    cv2.namedWindow('image', cv2.WINDOW_AUTOSIZE)\n",
        "    cv2.imshow('image', img)\n",
        "    cv2.waitKey(delay)\n",
        "    cv2.destroyAllWindows()\n",
        "\n",
        "def write_image(img, img_saving_path):\n",
        "    \"\"\"Writes an image to a given path.\n",
        "    \"\"\"\n",
        "    if isinstance(img, list):\n",
        "        img = np.asarray(img, dtype=np.uint8)\n",
        "    elif isinstance(img, np.ndarray):\n",
        "        if not img.dtype == np.uint8:\n",
        "            assert np.max(img) <= 1, \"Maximum pixel value {:.3f} is greater than 1\".format(np.max(img))\n",
        "            img = (255 * img).astype(np.uint8)\n",
        "    else:\n",
        "        raise TypeError(\"img is neither a list nor a ndarray.\")"
      ],
      "execution_count": 0,
      "outputs": []
    },
    {
      "cell_type": "code",
      "metadata": {
        "id": "RLIzGWmMe9nj",
        "colab_type": "code",
        "colab": {}
      },
      "source": [
        "# Max pooling to reduce the size of the image \n",
        "# 3 X 3 to 2 X 2 "
      ],
      "execution_count": 0,
      "outputs": []
    },
    {
      "cell_type": "code",
      "metadata": {
        "id": "VKxidFh5S3ex",
        "colab_type": "code",
        "colab": {}
      },
      "source": [
        "# This code is to compute the histogram of gradients in a given picture\n",
        "\n",
        "import math\n",
        "hogs_x=[-1,1]\n",
        "hogs_img_x=copy.deepcopy(img)\n",
        "hogs_grad_x=copy.deepcopy(img)\n",
        "for i in range(len(hogs_img_x)):\n",
        "  hogs_img_x[i]=hogs_img_x[i]+[0]\n",
        "hogs_y=[1,-1]\n",
        "hogs_img_y=copy.deepcopy(img)\n",
        "hogs_grad_y=copy.deepcopy(img)\n",
        "hogs_img_y=hogs_img_y+(np.zeros((1, len(hogs_img_y[0]))).tolist())\n",
        "\n",
        "for i in range(len(img)):\n",
        "  for j in range(len(img[0])):\n",
        "    hogs_grad_x[i][j]=(hogs_img_x[i][j]*hogs_x[0])+(hogs_img_x[i][j+1]*hogs_x[1])\n",
        "    hogs_grad_y[i][j]=(hogs_img_y[i][j]*hogs_y[0])+(hogs_img_y[i+1][j]*hogs_y[1])\n",
        "\n",
        "# hogs_grad_x=normalize(hogs_grad_x)\n",
        "# hogs_grad_y=normalize(hogs_grad_y)\n",
        "hogs_grad=copy.deepcopy(img)\n",
        "for i in range(len(hogs_grad)):\n",
        "  for j in range(len(hogs_grad[0])):\n",
        "    if hogs_grad_x[i][j]==0:\n",
        "      hogs_grad[i][j]=math.pi/2\n",
        "    else:\n",
        "      if hogs_grad_x[i][j]<0 or hogs_grad_y[i][j]<0:\n",
        "        hogs_grad[i][j]=(math.atan(abs(hogs_grad_y[i][j]/hogs_grad_x[i][j]))+(math.pi/2))\n",
        "      else:\n",
        "        hogs_grad[i][j]=math.atan(abs(hogs_grad_y[i][j]/hogs_grad_x[i][j]))\n",
        "\n",
        "    \n",
        "\n",
        "\n",
        "\n"
      ],
      "execution_count": 0,
      "outputs": []
    },
    {
      "cell_type": "code",
      "metadata": {
        "id": "aKDZWOHKxu8H",
        "colab_type": "code",
        "colab": {
          "base_uri": "https://localhost:8080/",
          "height": 407
        },
        "outputId": "93d0a0ef-570a-4a0e-9f6b-35297a9ca1bb"
      },
      "source": [
        "img_path='a.jpg'\n",
        "img=read_image(img_path)\n",
        "plt.imshow(img, cmap=\"gray\")\n",
        "plt.show()\n",
        "\n",
        "import math\n",
        "import numpy as np\n",
        "hogs_x=[-1,1]\n",
        "hogs_img_x=copy.deepcopy(img)\n",
        "hogs_grad_x=copy.deepcopy(img)\n",
        "for i in range(len(hogs_img_x)):\n",
        "  hogs_img_x[i]=hogs_img_x[i]+[0]\n",
        "hogs_y=[1,-1]\n",
        "hogs_img_y=copy.deepcopy(img)\n",
        "hogs_grad_y=copy.deepcopy(img)\n",
        "hogs_img_y=hogs_img_y+(np.zeros((1, len(hogs_img_y[0]))).tolist())\n",
        "\n",
        "for i in range(len(img)):\n",
        "  for j in range(len(img[0])):\n",
        "    hogs_grad_x[i][j]=(hogs_img_x[i][j]*hogs_x[0])+(hogs_img_x[i][j+1]*hogs_x[1])\n",
        "    hogs_grad_y[i][j]=(hogs_img_y[i][j]*hogs_y[0])+(hogs_img_y[i+1][j]*hogs_y[1])\n",
        "\n",
        "hogs_grad=copy.deepcopy(img)\n",
        "hogs_hist=np.zeros(8).tolist()\n",
        "for i in range(len(hogs_grad)):\n",
        "  for j in range(len(hogs_grad[0])):\n",
        "    R=abs(hogs_grad_y[i][j]/(hogs_grad_x[i][j]+0.000000000001))\n",
        "    if hogs_grad_x[i][j]<0 and hogs_grad_y[i][j]>=0:\n",
        "      hogs_grad[i][j]=(math.pi-(math.atan(R)))//(math.pi/4)\n",
        "      hogs_hist[int((math.pi-(math.atan(R)))//(math.pi/4))]+=1\n",
        "    elif hogs_grad_x[i][j]>=0 and hogs_grad_y[i][j]<0:\n",
        "      hogs_grad[i][j]=((2*math.pi)-(math.atan(R)) )//(math.pi/4)\n",
        "      hogs_hist[int(((2*math.pi)-(math.atan(R)) )//(math.pi/4))]+=1\n",
        "    elif hogs_grad_x[i][j]<0 and hogs_grad_y[i][j]<0:\n",
        "      hogs_grad[i][j]=(math.pi+(math.atan(R)))//(math.pi/4)\n",
        "      hogs_hist[int((math.pi+(math.atan(R)))//(math.pi/4))]+=1\n",
        "    else:\n",
        "      hogs_grad[i][j]=(math.atan(R))//(math.pi/4)\n",
        "      hogs_hist[int((math.atan(R))//(math.pi/4))]+=1\n",
        "\n",
        "\n",
        "s=sum(hogs_hist)     \n",
        "hogs_hist_per=[i/s for i in hogs_hist]\n",
        "\n",
        "hogs_hist_per\n"
      ],
      "execution_count": 105,
      "outputs": [
        {
          "output_type": "display_data",
          "data": {
            "image/png": "[encoded data removed]",
            "text/plain": [
              "<Figure size 432x288 with 1 Axes>"
            ]
          },
          "metadata": {
            "tags": []
          }
        },
        {
          "output_type": "execute_result",
          "data": {
            "text/plain": [
              "[0.37,\n",
              " 0.10458333333333333,\n",
              " 0.09208333333333334,\n",
              " 0.07083333333333333,\n",
              " 0.13208333333333333,\n",
              " 0.08833333333333333,\n",
              " 0.09375,\n",
              " 0.04833333333333333]"
            ]
          },
          "metadata": {
            "tags": []
          },
          "execution_count": 105
        }
      ]
    },
    {
      "cell_type": "code",
      "metadata": {
        "id": "ICmVng-O4mI0",
        "colab_type": "code",
        "colab": {
          "base_uri": "https://localhost:8080/",
          "height": 407
        },
        "outputId": "395bac44-c775-4172-b8ce-31d0270b5e7f"
      },
      "source": [
        "img_path='c.jpg'\n",
        "img=read_image(img_path)\n",
        "plt.imshow(img, cmap=\"gray\")\n",
        "plt.show()\n",
        "\n",
        "import math\n",
        "import numpy as np\n",
        "hogs_x=[-1,1]\n",
        "hogs_img_x=copy.deepcopy(img)\n",
        "hogs_grad_x=copy.deepcopy(img)\n",
        "for i in range(len(hogs_img_x)):\n",
        "  hogs_img_x[i]=hogs_img_x[i]+[0]\n",
        "hogs_y=[1,-1]\n",
        "hogs_img_y=copy.deepcopy(img)\n",
        "hogs_grad_y=copy.deepcopy(img)\n",
        "hogs_img_y=hogs_img_y+(np.zeros((1, len(hogs_img_y[0]))).tolist())\n",
        "\n",
        "for i in range(len(img)):\n",
        "  for j in range(len(img[0])):\n",
        "    hogs_grad_x[i][j]=(hogs_img_x[i][j]*hogs_x[0])+(hogs_img_x[i][j+1]*hogs_x[1])\n",
        "    hogs_grad_y[i][j]=(hogs_img_y[i][j]*hogs_y[0])+(hogs_img_y[i+1][j]*hogs_y[1])\n",
        "hogs_grad=copy.deepcopy(img)\n",
        "hogs_hist=np.zeros(8).tolist()\n",
        "for i in range(len(hogs_grad)):\n",
        "  for j in range(len(hogs_grad[0])):\n",
        "    R=abs(hogs_grad_y[i][j]/(hogs_grad_x[i][j]+0.000000000001))\n",
        "    if hogs_grad_x[i][j]<0 and hogs_grad_y[i][j]>=0:\n",
        "      hogs_grad[i][j]=(math.pi-(math.atan(R)))//(math.pi/4)\n",
        "      hogs_hist[int((math.pi-(math.atan(R)))//(math.pi/4))]+=1\n",
        "    elif hogs_grad_x[i][j]>=0 and hogs_grad_y[i][j]<0:\n",
        "      hogs_grad[i][j]=((2*math.pi)-(math.atan(R)) )//(math.pi/4)\n",
        "      hogs_hist[int(((2*math.pi)-(math.atan(R)) )//(math.pi/4))]+=1\n",
        "    elif hogs_grad_x[i][j]<0 and hogs_grad_y[i][j]<0:\n",
        "      hogs_grad[i][j]=(math.pi+(math.atan(R)))//(math.pi/4)\n",
        "      hogs_hist[int((math.pi+(math.atan(R)))//(math.pi/4))]+=1\n",
        "    else:\n",
        "      hogs_grad[i][j]=(math.atan(R))//(math.pi/4)\n",
        "      hogs_hist[int((math.atan(R))//(math.pi/4))]+=1\n",
        "s=sum(hogs_hist)     \n",
        "hogs_hist_per=[i/s for i in hogs_hist]\n",
        "hogs_hist_per\n"
      ],
      "execution_count": 116,
      "outputs": [
        {
          "output_type": "display_data",
          "data": {
            "image/png": "[encoded data removed]",
            "text/plain": [
              "<Figure size 432x288 with 1 Axes>"
            ]
          },
          "metadata": {
            "tags": []
          }
        },
        {
          "output_type": "execute_result",
          "data": {
            "text/plain": [
              "[0.41521516393442626,\n",
              " 0.13063524590163936,\n",
              " 0.05737704918032787,\n",
              " 0.054047131147540985,\n",
              " 0.12064549180327869,\n",
              " 0.048924180327868855,\n",
              " 0.08913934426229508,\n",
              " 0.08401639344262295]"
            ]
          },
          "metadata": {
            "tags": []
          },
          "execution_count": 116
        }
      ]
    },
    {
      "cell_type": "code",
      "metadata": {
        "id": "vvqu3VAnZYcm",
        "colab_type": "code",
        "colab": {
          "base_uri": "https://localhost:8080/",
          "height": 52
        },
        "outputId": "a31a5754-90c0-4d0f-d3de-45b9dbd0de7b"
      },
      "source": [
        "val_max=-1\n",
        "val_min=300\n",
        "for i in hogs_grad:\n",
        "  for j in i:\n",
        "    if j>val_max:\n",
        "      val_max=j\n",
        "    if j<val_min:\n",
        "      val_min=j\n",
        "print(val_max)\n",
        "print(val_min)\n"
      ],
      "execution_count": 89,
      "outputs": [
        {
          "output_type": "stream",
          "text": [
            "7.0\n",
            "0.0\n"
          ],
          "name": "stdout"
        }
      ]
    },
    {
      "cell_type": "code",
      "metadata": {
        "id": "jbpdmww_b0pb",
        "colab_type": "code",
        "colab": {
          "base_uri": "https://localhost:8080/",
          "height": 268
        },
        "outputId": "ee753271-6744-40f1-cdff-6dcf80e8e531"
      },
      "source": [
        "img_path='w.jpg'\n",
        "img=read_image(img_path)\n",
        "plt.imshow(img, cmap=\"gray\")\n",
        "plt.show()"
      ],
      "execution_count": 114,
      "outputs": [
        {
          "output_type": "display_data",
          "data": {
            "image/png": "[encoded data removed]",
            "text/plain": [
              "<Figure size 432x288 with 1 Axes>"
            ]
          },
          "metadata": {
            "tags": []
          }
        }
      ]
    },
    {
      "cell_type": "code",
      "metadata": {
        "id": "-yGiJtZOb2Gp",
        "colab_type": "code",
        "colab": {}
      },
      "source": [
        "def hogs(img):\n",
        "  import math\n",
        "  import numpy as np\n",
        "  hogs_x=[-1,1]\n",
        "  hogs_img_x=copy.deepcopy(img)\n",
        "  hogs_grad_x=copy.deepcopy(img)\n",
        "  for i in range(len(hogs_img_x)):\n",
        "    hogs_img_x[i]=hogs_img_x[i]+[0]\n",
        "  hogs_y=[1,-1]\n",
        "  hogs_img_y=copy.deepcopy(img)\n",
        "  hogs_grad_y=copy.deepcopy(img)\n",
        "  hogs_img_y=hogs_img_y+(np.zeros((1, len(hogs_img_y[0]))).tolist())\n",
        "\n",
        "  for i in range(len(img)):\n",
        "    for j in range(len(img[0])):\n",
        "      hogs_grad_x[i][j]=(hogs_img_x[i][j]*hogs_x[0])+(hogs_img_x[i][j+1]*hogs_x[1])\n",
        "      hogs_grad_y[i][j]=(hogs_img_y[i][j]*hogs_y[0])+(hogs_img_y[i+1][j]*hogs_y[1])\n",
        "  hogs_grad=copy.deepcopy(img)\n",
        "  hogs_hist=np.zeros(8).tolist()\n",
        "  for i in range(len(hogs_grad)):\n",
        "    for j in range(len(hogs_grad[0])):\n",
        "      R=abs(hogs_grad_y[i][j]/(hogs_grad_x[i][j]+0.000000000001))\n",
        "      if hogs_grad_x[i][j]<0 and hogs_grad_y[i][j]>=0:\n",
        "        hogs_grad[i][j]=(math.pi-(math.atan(R)))//(math.pi/4)\n",
        "        hogs_hist[int((math.pi-(math.atan(R)))//(math.pi/4))]+=1\n",
        "      elif hogs_grad_x[i][j]>=0 and hogs_grad_y[i][j]<0:\n",
        "        hogs_grad[i][j]=((2*math.pi)-(math.atan(R)) )//(math.pi/4)\n",
        "        hogs_hist[int(((2*math.pi)-(math.atan(R)) )//(math.pi/4))]+=1\n",
        "      elif hogs_grad_x[i][j]<0 and hogs_grad_y[i][j]<0:\n",
        "        hogs_grad[i][j]=(math.pi+(math.atan(R)))//(math.pi/4)\n",
        "        hogs_hist[int((math.pi+(math.atan(R)))//(math.pi/4))]+=1\n",
        "      else:\n",
        "        hogs_grad[i][j]=(math.atan(R))//(math.pi/4)\n",
        "        hogs_hist[int((math.atan(R))//(math.pi/4))]+=1\n",
        "  s=sum(hogs_hist)     \n",
        "  hogs_hist_per=[i/s for i in hogs_hist]\n",
        "  return(hogs_hist_per)\n"
      ],
      "execution_count": 0,
      "outputs": []
    },
    {
      "cell_type": "code",
      "metadata": {
        "id": "CXOsxJ22jn_m",
        "colab_type": "code",
        "colab": {
          "base_uri": "https://localhost:8080/",
          "height": 156
        },
        "outputId": "6192e24b-89e6-4e01-ef68-b171c3d18a2d"
      },
      "source": [
        "img_path='b.jpg'\n",
        "img=read_image(img_path)\n",
        "hogs(img)"
      ],
      "execution_count": 6,
      "outputs": [
        {
          "output_type": "execute_result",
          "data": {
            "text/plain": [
              "[0.41092436974789914,\n",
              " 0.07507002801120448,\n",
              " 0.029131652661064426,\n",
              " 0.04005602240896359,\n",
              " 0.1991596638655462,\n",
              " 0.04985994397759104,\n",
              " 0.08095238095238096,\n",
              " 0.11484593837535013]"
            ]
          },
          "metadata": {
            "tags": []
          },
          "execution_count": 6
        }
      ]
    },
    {
      "cell_type": "code",
      "metadata": {
        "id": "vj_gHR3rwgKa",
        "colab_type": "code",
        "colab": {}
      },
      "source": [
        "# Iterating through the image and computing the eulidean distance match score\n",
        "img_path='proj1-task2-png.png'\n",
        "img=read_image(img_path)\n",
        "img_path='a.jpg'\n",
        "template=read_image(img_path)\n"
      ],
      "execution_count": 0,
      "outputs": []
    },
    {
      "cell_type": "code",
      "metadata": {
        "id": "WhHkZiA7HRDp",
        "colab_type": "code",
        "colab": {}
      },
      "source": [
        "def euclidean(arr1,arr2):\n",
        "  summ=0\n",
        "  for i in range(len(arr1)):\n",
        "    summ+=(arr1[i]-arr2[i])**2\n",
        "  return summ**0.5\n"
      ],
      "execution_count": 0,
      "outputs": []
    },
    {
      "cell_type": "code",
      "metadata": {
        "id": "_3E55pAcHSZS",
        "colab_type": "code",
        "colab": {}
      },
      "source": [
        "t_l=len(template)\n",
        "t_b=len(template[0])\n",
        "i_l=len(img)\n",
        "i_b=len(img[0])\n",
        "hogs_match=np.zeros((i_l-t_l,i_b-t_b)).tolist()\n",
        "hogs_template=hogs(template)\n",
        "img_np=np.array(img)\n",
        "for i in range(i_l-t_l):\n",
        "  for j in range(i_b-t_b):\n",
        "    hogs_match[i][j]=euclidean(hogs(img_np[i:i+t_l,j:j+t_b].tolist()),hogs_template)\n",
        "    \n",
        "\n"
      ],
      "execution_count": 0,
      "outputs": []
    },
    {
      "cell_type": "code",
      "metadata": {
        "id": "nDga7uSeLlkt",
        "colab_type": "code",
        "colab": {}
      },
      "source": [
        "def match_template(img,template):\n",
        "  t_l=len(template)\n",
        "  t_b=len(template[0])\n",
        "  i_l=len(img)\n",
        "  i_b=len(img[0])\n",
        "  hogs_match=np.zeros((i_l-t_l,i_b-t_b)).tolist()\n",
        "  hogs_template=hogs(template)\n",
        "  img_np=np.array(img)\n",
        "  for i in range(i_l-t_l):\n",
        "    for j in range(i_b-t_b):\n",
        "      hogs_match[i][j]=euclidean(hogs(img_np[i:i+t_l,j:j+t_b].tolist()),hogs_template)\n",
        "  return(hogs_match)    \n"
      ],
      "execution_count": 0,
      "outputs": []
    },
    {
      "cell_type": "code",
      "metadata": {
        "id": "w5TJosiBImYf",
        "colab_type": "code",
        "colab": {
          "base_uri": "https://localhost:8080/",
          "height": 35
        },
        "outputId": "bee78ad8-01f8-403b-c625-51704223b374"
      },
      "source": [
        "m=10\n",
        "for i in hogs_match:\n",
        "  for j in i:\n",
        "    if j<m:\n",
        "      m=j\n",
        "m"
      ],
      "execution_count": 16,
      "outputs": [
        {
          "output_type": "execute_result",
          "data": {
            "text/plain": [
              "0.2395802896344522"
            ]
          },
          "metadata": {
            "tags": []
          },
          "execution_count": 16
        }
      ]
    },
    {
      "cell_type": "code",
      "metadata": {
        "id": "FUjyPHPGJAhD",
        "colab_type": "code",
        "colab": {}
      },
      "source": [
        "img_path='a_test.jpg'\n",
        "img=read_image(img_path)"
      ],
      "execution_count": 0,
      "outputs": []
    },
    {
      "cell_type": "code",
      "metadata": {
        "id": "8q_P2NaeJMc6",
        "colab_type": "code",
        "colab": {
          "base_uri": "https://localhost:8080/",
          "height": 265
        },
        "outputId": "e5910406-15c1-49ed-81b5-83ba641474b5"
      },
      "source": [
        "a_match=match_template(img,template)\n",
        "plt.imshow(normalize(a_match), cmap=\"gray\")\n",
        "plt.show()"
      ],
      "execution_count": 35,
      "outputs": [
        {
          "output_type": "display_data",
          "data": {
            "image/png": "[encoded data removed]",
            "text/plain": [
              "<Figure size 432x288 with 1 Axes>"
            ]
          },
          "metadata": {
            "tags": []
          }
        }
      ]
    },
    {
      "cell_type": "code",
      "metadata": {
        "id": "SJdUrZpTJksm",
        "colab_type": "code",
        "colab": {
          "base_uri": "https://localhost:8080/",
          "height": 35
        },
        "outputId": "6841d854-778a-4c96-d46a-c39bd349fad7"
      },
      "source": [
        "len(img)"
      ],
      "execution_count": 37,
      "outputs": [
        {
          "output_type": "execute_result",
          "data": {
            "text/plain": [
              "288"
            ]
          },
          "metadata": {
            "tags": []
          },
          "execution_count": 37
        }
      ]
    },
    {
      "cell_type": "code",
      "metadata": {
        "id": "73nBVW1EKanf",
        "colab_type": "code",
        "colab": {}
      },
      "source": [
        "img=detect_edges(img, sobel_x, norm=False)\n"
      ],
      "execution_count": 0,
      "outputs": []
    },
    {
      "cell_type": "code",
      "metadata": {
        "id": "gA-PM8olZEeq",
        "colab_type": "code",
        "colab": {
          "base_uri": "https://localhost:8080/",
          "height": 269
        },
        "outputId": "d063dfc6-7b4c-49a4-f401-999d274f4c26"
      },
      "source": [
        "plt.imshow(img, cmap=\"gray\")\n",
        "plt.show()"
      ],
      "execution_count": 42,
      "outputs": [
        {
          "output_type": "display_data",
          "data": {
            "image/png": "[encoded data removed]",
            "text/plain": [
              "<Figure size 432x288 with 1 Axes>"
            ]
          },
          "metadata": {
            "tags": []
          }
        }
      ]
    },
    {
      "cell_type": "code",
      "metadata": {
        "id": "mM-0pZnGXmIU",
        "colab_type": "code",
        "colab": {}
      },
      "source": [
        "template=detect_edges(template,sobel_y, norm=False)"
      ],
      "execution_count": 0,
      "outputs": []
    },
    {
      "cell_type": "code",
      "metadata": {
        "id": "vik6EjEoZHdy",
        "colab_type": "code",
        "colab": {
          "base_uri": "https://localhost:8080/",
          "height": 268
        },
        "outputId": "9c8795fb-ab9d-401e-d6cb-9fe4155e0578"
      },
      "source": [
        "plt.imshow(template, cmap=\"gray\")\n",
        "plt.show()"
      ],
      "execution_count": 46,
      "outputs": [
        {
          "output_type": "display_data",
          "data": {
            "image/png": "[encoded data removed]",
            "text/plain": [
              "<Figure size 432x288 with 1 Axes>"
            ]
          },
          "metadata": {
            "tags": []
          }
        }
      ]
    },
    {
      "cell_type": "code",
      "metadata": {
        "id": "CyCQxBPtXrs7",
        "colab_type": "code",
        "colab": {}
      },
      "source": [
        "a_match=match_template(img,template)\n",
        "plt.imshow(normalize(a_match), cmap=\"gray\")\n",
        "plt.show()"
      ],
      "execution_count": 0,
      "outputs": []
    },
    {
      "cell_type": "code",
      "metadata": {
        "id": "eLUJXCclXvtB",
        "colab_type": "code",
        "colab": {}
      },
      "source": [
        ""
      ],
      "execution_count": 0,
      "outputs": []
    }
  ]
}