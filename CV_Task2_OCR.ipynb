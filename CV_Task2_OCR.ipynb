{
  "nbformat": 4,
  "nbformat_minor": 0,
  "metadata": {
    "colab": {
      "name": "CV_Task2_OCR.ipynb",
      "provenance": [],
      "collapsed_sections": [],
      "authorship_tag": "ABX9TyM2vkJqt7OvFHwZM76zZ7by",
      "include_colab_link": true
    },
    "kernelspec": {
      "name": "python3",
      "display_name": "Python 3"
    }
  },
  "cells": [
    {
      "cell_type": "markdown",
      "metadata": {
        "id": "view-in-github",
        "colab_type": "text"
      },
      "source": [
        "<a href=\"https://colab.research.google.com/github/vimalkumarasamy/computer_vision/blob/master/CV_Task2_OCR.ipynb\" target=\"_parent\"><img src=\"https://colab.research.google.com/assets/colab-badge.svg\" alt=\"Open In Colab\"/></a>"
      ]
    },
    {
      "cell_type": "code",
      "metadata": {
        "id": "6eMYy3xySca4",
        "colab_type": "code",
        "colab": {
          "base_uri": "https://localhost:8080/",
          "height": 124
        },
        "outputId": "c005868c-e9f8-4bfc-fae5-a68b4f53297e"
      },
      "source": [
        "from google.colab import drive\n",
        "drive.mount('/content/gdrive')"
      ],
      "execution_count": 1,
      "outputs": [
        {
          "output_type": "stream",
          "text": [
            "Go to this URL in a browser: https://accounts.google.com/o/oauth2/auth?client_id=947318989803-6bn6qk8qdgf4n4g3pfee6491hc0brc4i.apps.googleusercontent.com&redirect_uri=urn%3aietf%3awg%3aoauth%3a2.0%3aoob&response_type=code&scope=email%20https%3a%2f%2fwww.googleapis.com%2fauth%2fdocs.test%20https%3a%2f%2fwww.googleapis.com%2fauth%2fdrive%20https%3a%2f%2fwww.googleapis.com%2fauth%2fdrive.photos.readonly%20https%3a%2f%2fwww.googleapis.com%2fauth%2fpeopleapi.readonly\n",
            "\n",
            "Enter your authorization code:\n",
            "··········\n",
            "Mounted at /content/gdrive\n"
          ],
          "name": "stdout"
        }
      ]
    },
    {
      "cell_type": "code",
      "metadata": {
        "id": "1LKWa-sASpF4",
        "colab_type": "code",
        "colab": {
          "base_uri": "https://localhost:8080/",
          "height": 35
        },
        "outputId": "f6a1a23f-83f0-4904-da3b-cdd1f3ab7c17"
      },
      "source": [
        "cd /content/gdrive/My Drive/Computer_Vision"
      ],
      "execution_count": 11,
      "outputs": [
        {
          "output_type": "stream",
          "text": [
            "/content/gdrive/My Drive/Computer_Vision\n"
          ],
          "name": "stdout"
        }
      ]
    },
    {
      "cell_type": "code",
      "metadata": {
        "id": "zEKL1jrDSwo3",
        "colab_type": "code",
        "colab": {
          "base_uri": "https://localhost:8080/",
          "height": 520
        },
        "outputId": "e7538f45-6b80-4534-fe3b-21b641d3b83b"
      },
      "source": [
        "import utils \n",
        "import numpy as np\n",
        "import copy\n",
        "import cv2\n",
        "import argparse\n",
        "import os\n",
        "import matplotlib.pyplot as plt\n",
        "from task1 import *\n",
        "\n",
        "img_path='proj1-task2-png.png'\n",
        "img=read_image(img_path)\n",
        "img_path='a.jpg'\n",
        "template=read_image(img_path)\n",
        "\n",
        "plt.imshow(img, cmap=\"gray\")\n",
        "plt.show()\n",
        "plt.imshow(template, cmap=\"gray\")\n",
        "plt.show()"
      ],
      "execution_count": 18,
      "outputs": [
        {
          "output_type": "display_data",
          "data": {
            "image/png": "[encoded data removed]",
            "text/plain": [
              "<Figure size 432x288 with 1 Axes>"
            ]
          },
          "metadata": {
            "tags": []
          }
        },
        {
          "output_type": "display_data",
          "data": {
            "image/png": "[encoded data removed]",
            "text/plain": [
              "<Figure size 432x288 with 1 Axes>"
            ]
          },
          "metadata": {
            "tags": []
          }
        }
      ]
    },
    {
      "cell_type": "code",
      "metadata": {
        "id": "VKxidFh5S3ex",
        "colab_type": "code",
        "colab": {}
      },
      "source": [
        "import math\n",
        "hogs_x=[-1,1]\n",
        "hogs_img_x=copy.deepcopy(img)\n",
        "hogs_grad_x=copy.deepcopy(img)\n",
        "for i in range(len(hogs_img_x)):\n",
        "  hogs_img_x[i]=hogs_img_x[i]+[0]\n",
        "hogs_y=[1,-1]\n",
        "hogs_img_y=copy.deepcopy(img)\n",
        "hogs_grad_y=copy.deepcopy(img)\n",
        "hogs_img_y=hogs_img_y+(np.zeros((1, len(hogs_img_y[0]))).tolist())\n",
        "\n",
        "for i in range(len(img)):\n",
        "  for j in range(len(img[0])):\n",
        "    hogs_grad_x[i][j]=(hogs_img_x[i][j]*hogs_x[0])+(hogs_img_x[i][j+1]*hogs_x[1])\n",
        "    hogs_grad_y[i][j]=(hogs_img_y[i][j]*hogs_y[0])+(hogs_img_y[i+1][j]*hogs_y[1])\n",
        "\n",
        "hogs_grad_x=normalize(hogs_grad_x)\n",
        "hogs_grad_y=normalize(hogs_grad_y)\n",
        "hogs_grad=copy.deepcopy(img)\n",
        "for i in range(len(hogs_grad)):\n",
        "  for j in range(len(hogs_grad[0])):\n",
        "    if hogs_grad_x[i][j]==0:\n",
        "      hogs_grad[i][j]=math.pi/2\n",
        "    else:\n",
        "      hogs_grad[i][j]=math.atan(hogs_grad_y[i][j]/hogs_grad_x[i][j])\n",
        "    pass\n",
        "\n",
        "\n",
        "\n"
      ],
      "execution_count": 0,
      "outputs": []
    },
    {
      "cell_type": "code",
      "metadata": {
        "id": "vvqu3VAnZYcm",
        "colab_type": "code",
        "colab": {
          "base_uri": "https://localhost:8080/",
          "height": 52
        },
        "outputId": "b6de37a5-ffa4-4b83-d8cb-e79bbe36d100"
      },
      "source": [
        "val_max=-1\n",
        "val_min=300\n",
        "for i in hogs_grad:\n",
        "  for j in i:\n",
        "    if j>val_max:\n",
        "      val_max=j\n",
        "    if j<val_min:\n",
        "      val_min=j\n",
        "print(val_max)\n",
        "print(val_min)"
      ],
      "execution_count": 61,
      "outputs": [
        {
          "output_type": "stream",
          "text": [
            "1.5707963267948966\n",
            "0.0\n"
          ],
          "name": "stdout"
        }
      ]
    },
    {
      "cell_type": "code",
      "metadata": {
        "id": "jbpdmww_b0pb",
        "colab_type": "code",
        "colab": {
          "base_uri": "https://localhost:8080/",
          "height": 35
        },
        "outputId": "aba75cc9-04dd-4ba5-93df-8bab3b5f3104"
      },
      "source": [
        "math.atan(1)"
      ],
      "execution_count": 58,
      "outputs": [
        {
          "output_type": "execute_result",
          "data": {
            "text/plain": [
              "0.7853981633974483"
            ]
          },
          "metadata": {
            "tags": []
          },
          "execution_count": 58
        }
      ]
    },
    {
      "cell_type": "code",
      "metadata": {
        "id": "-yGiJtZOb2Gp",
        "colab_type": "code",
        "colab": {
          "base_uri": "https://localhost:8080/",
          "height": 35
        },
        "outputId": "9d26b861-e6f1-4a49-928a-231616fff073"
      },
      "source": [
        "3.142/4"
      ],
      "execution_count": 59,
      "outputs": [
        {
          "output_type": "execute_result",
          "data": {
            "text/plain": [
              "0.7855"
            ]
          },
          "metadata": {
            "tags": []
          },
          "execution_count": 59
        }
      ]
    },
    {
      "cell_type": "code",
      "metadata": {
        "id": "CXOsxJ22jn_m",
        "colab_type": "code",
        "colab": {}
      },
      "source": [
        ""
      ],
      "execution_count": 0,
      "outputs": []
    }
  ]
}