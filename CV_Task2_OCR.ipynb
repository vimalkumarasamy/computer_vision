{
  "nbformat": 4,
  "nbformat_minor": 0,
  "metadata": {
    "colab": {
      "name": "CV_Task2_OCR.ipynb",
      "provenance": [],
      "collapsed_sections": [],
      "authorship_tag": "ABX9TyM7MeafVPKWxBnK41UVjUJ7",
      "include_colab_link": true
    },
    "kernelspec": {
      "name": "python3",
      "display_name": "Python 3"
    }
  },
  "cells": [
    {
      "cell_type": "markdown",
      "metadata": {
        "id": "view-in-github",
        "colab_type": "text"
      },
      "source": [
        "<a href=\"https://colab.research.google.com/github/vimalkumarasamy/computer_vision/blob/master/CV_Task2_OCR.ipynb\" target=\"_parent\"><img src=\"https://colab.research.google.com/assets/colab-badge.svg\" alt=\"Open In Colab\"/></a>"
      ]
    },
    {
      "cell_type": "code",
      "metadata": {
        "id": "6eMYy3xySca4",
        "colab_type": "code",
        "colab": {
          "base_uri": "https://localhost:8080/",
          "height": 124
        },
        "outputId": "33bf6d1b-9d2e-46d4-bbd4-3232981e9b99"
      },
      "source": [
        "from google.colab import drive\n",
        "drive.mount('/content/gdrive')"
      ],
      "execution_count": 2,
      "outputs": [
        {
          "output_type": "stream",
          "text": [
            "Go to this URL in a browser: https://accounts.google.com/o/oauth2/auth?client_id=947318989803-6bn6qk8qdgf4n4g3pfee6491hc0brc4i.apps.googleusercontent.com&redirect_uri=urn%3aietf%3awg%3aoauth%3a2.0%3aoob&response_type=code&scope=email%20https%3a%2f%2fwww.googleapis.com%2fauth%2fdocs.test%20https%3a%2f%2fwww.googleapis.com%2fauth%2fdrive%20https%3a%2f%2fwww.googleapis.com%2fauth%2fdrive.photos.readonly%20https%3a%2f%2fwww.googleapis.com%2fauth%2fpeopleapi.readonly\n",
            "\n",
            "Enter your authorization code:\n",
            "··········\n",
            "Mounted at /content/gdrive\n"
          ],
          "name": "stdout"
        }
      ]
    },
    {
      "cell_type": "code",
      "metadata": {
        "id": "1LKWa-sASpF4",
        "colab_type": "code",
        "colab": {
          "base_uri": "https://localhost:8080/",
          "height": 35
        },
        "outputId": "68083f91-0789-42a9-9f46-4d22c540dbd0"
      },
      "source": [
        "cd /content/gdrive/My Drive/Computer_Vision"
      ],
      "execution_count": 3,
      "outputs": [
        {
          "output_type": "stream",
          "text": [
            "/content/gdrive/My Drive/Computer_Vision\n"
          ],
          "name": "stdout"
        }
      ]
    },
    {
      "cell_type": "code",
      "metadata": {
        "id": "wXCXqfTLCKO7",
        "colab_type": "code",
        "colab": {
          "base_uri": "https://localhost:8080/",
          "height": 52
        },
        "outputId": "08507ce6-77d9-41fa-9415-e76ebfd3444e"
      },
      "source": [
        "ls"
      ],
      "execution_count": 4,
      "outputs": [
        {
          "output_type": "stream",
          "text": [
            "a_dup.JPG  b.jpg  joey.jpg         proj1-task2-png.png  task1.py  utils.py\n",
            "a.jpg      c.jpg  proj1-task1.jpg  \u001b[0m\u001b[01;34m__pycache__\u001b[0m/         task2.py  w.jpg\n"
          ],
          "name": "stdout"
        }
      ]
    },
    {
      "cell_type": "code",
      "metadata": {
        "id": "zEKL1jrDSwo3",
        "colab_type": "code",
        "colab": {
          "base_uri": "https://localhost:8080/",
          "height": 520
        },
        "outputId": "22f95a7c-2432-4186-d2ea-49531503dc00"
      },
      "source": [
        "import utils \n",
        "import numpy as np\n",
        "import copy\n",
        "import cv2\n",
        "import argparse\n",
        "import os\n",
        "import matplotlib.pyplot as plt\n",
        "from task1 import *\n",
        "\n",
        "img_path='proj1-task2-png.png'\n",
        "img=read_image(img_path)\n",
        "img_path='a.jpg'\n",
        "template=read_image(img_path)\n",
        "\n",
        "plt.imshow(img, cmap=\"gray\")\n",
        "plt.show()\n",
        "plt.imshow(template, cmap=\"gray\")\n",
        "plt.show()"
      ],
      "execution_count": 7,
      "outputs": [
        {
          "output_type": "display_data",
          "data": {
            "image/png": "[encoded data removed]",
            "text/plain": [
              "<Figure size 432x288 with 1 Axes>"
            ]
          },
          "metadata": {
            "tags": []
          }
        },
        {
          "output_type": "display_data",
          "data": {
            "image/png": "[encoded data removed]",
            "text/plain": [
              "<Figure size 432x288 with 1 Axes>"
            ]
          },
          "metadata": {
            "tags": []
          }
        }
      ]
    },
    {
      "cell_type": "code",
      "metadata": {
        "id": "RLIzGWmMe9nj",
        "colab_type": "code",
        "colab": {}
      },
      "source": [
        "# Max pooling to reduce the size of the image \n",
        "# 3 X 3 to 2 X 2 "
      ],
      "execution_count": 0,
      "outputs": []
    },
    {
      "cell_type": "code",
      "metadata": {
        "id": "VKxidFh5S3ex",
        "colab_type": "code",
        "colab": {}
      },
      "source": [
        "# This code is to compute the histogram of gradients in a given picture\n",
        "\n",
        "import math\n",
        "hogs_x=[-1,1]\n",
        "hogs_img_x=copy.deepcopy(img)\n",
        "hogs_grad_x=copy.deepcopy(img)\n",
        "for i in range(len(hogs_img_x)):\n",
        "  hogs_img_x[i]=hogs_img_x[i]+[0]\n",
        "hogs_y=[1,-1]\n",
        "hogs_img_y=copy.deepcopy(img)\n",
        "hogs_grad_y=copy.deepcopy(img)\n",
        "hogs_img_y=hogs_img_y+(np.zeros((1, len(hogs_img_y[0]))).tolist())\n",
        "\n",
        "for i in range(len(img)):\n",
        "  for j in range(len(img[0])):\n",
        "    hogs_grad_x[i][j]=(hogs_img_x[i][j]*hogs_x[0])+(hogs_img_x[i][j+1]*hogs_x[1])\n",
        "    hogs_grad_y[i][j]=(hogs_img_y[i][j]*hogs_y[0])+(hogs_img_y[i+1][j]*hogs_y[1])\n",
        "\n",
        "# hogs_grad_x=normalize(hogs_grad_x)\n",
        "# hogs_grad_y=normalize(hogs_grad_y)\n",
        "hogs_grad=copy.deepcopy(img)\n",
        "for i in range(len(hogs_grad)):\n",
        "  for j in range(len(hogs_grad[0])):\n",
        "    if hogs_grad_x[i][j]==0:\n",
        "      hogs_grad[i][j]=math.pi/2\n",
        "    else:\n",
        "      if hogs_grad_x[i][j]<0 or hogs_grad_y[i][j]<0:\n",
        "        hogs_grad[i][j]=(math.atan(abs(hogs_grad_y[i][j]/hogs_grad_x[i][j]))+(math.pi/2))\n",
        "      else:\n",
        "        hogs_grad[i][j]=math.atan(abs(hogs_grad_y[i][j]/hogs_grad_x[i][j]))\n",
        "\n",
        "    \n",
        "\n",
        "\n",
        "\n"
      ],
      "execution_count": 0,
      "outputs": []
    },
    {
      "cell_type": "code",
      "metadata": {
        "id": "aKDZWOHKxu8H",
        "colab_type": "code",
        "colab": {
          "base_uri": "https://localhost:8080/",
          "height": 407
        },
        "outputId": "93d0a0ef-570a-4a0e-9f6b-35297a9ca1bb"
      },
      "source": [
        "img_path='a.jpg'\n",
        "img=read_image(img_path)\n",
        "plt.imshow(img, cmap=\"gray\")\n",
        "plt.show()\n",
        "\n",
        "import math\n",
        "import numpy as np\n",
        "hogs_x=[-1,1]\n",
        "hogs_img_x=copy.deepcopy(img)\n",
        "hogs_grad_x=copy.deepcopy(img)\n",
        "for i in range(len(hogs_img_x)):\n",
        "  hogs_img_x[i]=hogs_img_x[i]+[0]\n",
        "hogs_y=[1,-1]\n",
        "hogs_img_y=copy.deepcopy(img)\n",
        "hogs_grad_y=copy.deepcopy(img)\n",
        "hogs_img_y=hogs_img_y+(np.zeros((1, len(hogs_img_y[0]))).tolist())\n",
        "\n",
        "for i in range(len(img)):\n",
        "  for j in range(len(img[0])):\n",
        "    hogs_grad_x[i][j]=(hogs_img_x[i][j]*hogs_x[0])+(hogs_img_x[i][j+1]*hogs_x[1])\n",
        "    hogs_grad_y[i][j]=(hogs_img_y[i][j]*hogs_y[0])+(hogs_img_y[i+1][j]*hogs_y[1])\n",
        "\n",
        "hogs_grad=copy.deepcopy(img)\n",
        "hogs_hist=np.zeros(8).tolist()\n",
        "for i in range(len(hogs_grad)):\n",
        "  for j in range(len(hogs_grad[0])):\n",
        "    R=abs(hogs_grad_y[i][j]/(hogs_grad_x[i][j]+0.000000000001))\n",
        "    if hogs_grad_x[i][j]<0 and hogs_grad_y[i][j]>=0:\n",
        "      hogs_grad[i][j]=(math.pi-(math.atan(R)))//(math.pi/4)\n",
        "      hogs_hist[int((math.pi-(math.atan(R)))//(math.pi/4))]+=1\n",
        "    elif hogs_grad_x[i][j]>=0 and hogs_grad_y[i][j]<0:\n",
        "      hogs_grad[i][j]=((2*math.pi)-(math.atan(R)) )//(math.pi/4)\n",
        "      hogs_hist[int(((2*math.pi)-(math.atan(R)) )//(math.pi/4))]+=1\n",
        "    elif hogs_grad_x[i][j]<0 and hogs_grad_y[i][j]<0:\n",
        "      hogs_grad[i][j]=(math.pi+(math.atan(R)))//(math.pi/4)\n",
        "      hogs_hist[int((math.pi+(math.atan(R)))//(math.pi/4))]+=1\n",
        "    else:\n",
        "      hogs_grad[i][j]=(math.atan(R))//(math.pi/4)\n",
        "      hogs_hist[int((math.atan(R))//(math.pi/4))]+=1\n",
        "\n",
        "\n",
        "s=sum(hogs_hist)     \n",
        "hogs_hist_per=[i/s for i in hogs_hist]\n",
        "\n",
        "hogs_hist_per\n"
      ],
      "execution_count": 105,
      "outputs": [
        {
          "output_type": "display_data",
          "data": {
            "image/png": "[encoded data removed]",
            "text/plain": [
              "<Figure size 432x288 with 1 Axes>"
            ]
          },
          "metadata": {
            "tags": []
          }
        },
        {
          "output_type": "execute_result",
          "data": {
            "text/plain": [
              "[0.37,\n",
              " 0.10458333333333333,\n",
              " 0.09208333333333334,\n",
              " 0.07083333333333333,\n",
              " 0.13208333333333333,\n",
              " 0.08833333333333333,\n",
              " 0.09375,\n",
              " 0.04833333333333333]"
            ]
          },
          "metadata": {
            "tags": []
          },
          "execution_count": 105
        }
      ]
    },
    {
      "cell_type": "code",
      "metadata": {
        "id": "ICmVng-O4mI0",
        "colab_type": "code",
        "colab": {
          "base_uri": "https://localhost:8080/",
          "height": 407
        },
        "outputId": "395bac44-c775-4172-b8ce-31d0270b5e7f"
      },
      "source": [
        "img_path='c.jpg'\n",
        "img=read_image(img_path)\n",
        "plt.imshow(img, cmap=\"gray\")\n",
        "plt.show()\n",
        "\n",
        "import math\n",
        "import numpy as np\n",
        "hogs_x=[-1,1]\n",
        "hogs_img_x=copy.deepcopy(img)\n",
        "hogs_grad_x=copy.deepcopy(img)\n",
        "for i in range(len(hogs_img_x)):\n",
        "  hogs_img_x[i]=hogs_img_x[i]+[0]\n",
        "hogs_y=[1,-1]\n",
        "hogs_img_y=copy.deepcopy(img)\n",
        "hogs_grad_y=copy.deepcopy(img)\n",
        "hogs_img_y=hogs_img_y+(np.zeros((1, len(hogs_img_y[0]))).tolist())\n",
        "\n",
        "for i in range(len(img)):\n",
        "  for j in range(len(img[0])):\n",
        "    hogs_grad_x[i][j]=(hogs_img_x[i][j]*hogs_x[0])+(hogs_img_x[i][j+1]*hogs_x[1])\n",
        "    hogs_grad_y[i][j]=(hogs_img_y[i][j]*hogs_y[0])+(hogs_img_y[i+1][j]*hogs_y[1])\n",
        "hogs_grad=copy.deepcopy(img)\n",
        "hogs_hist=np.zeros(8).tolist()\n",
        "for i in range(len(hogs_grad)):\n",
        "  for j in range(len(hogs_grad[0])):\n",
        "    R=abs(hogs_grad_y[i][j]/(hogs_grad_x[i][j]+0.000000000001))\n",
        "    if hogs_grad_x[i][j]<0 and hogs_grad_y[i][j]>=0:\n",
        "      hogs_grad[i][j]=(math.pi-(math.atan(R)))//(math.pi/4)\n",
        "      hogs_hist[int((math.pi-(math.atan(R)))//(math.pi/4))]+=1\n",
        "    elif hogs_grad_x[i][j]>=0 and hogs_grad_y[i][j]<0:\n",
        "      hogs_grad[i][j]=((2*math.pi)-(math.atan(R)) )//(math.pi/4)\n",
        "      hogs_hist[int(((2*math.pi)-(math.atan(R)) )//(math.pi/4))]+=1\n",
        "    elif hogs_grad_x[i][j]<0 and hogs_grad_y[i][j]<0:\n",
        "      hogs_grad[i][j]=(math.pi+(math.atan(R)))//(math.pi/4)\n",
        "      hogs_hist[int((math.pi+(math.atan(R)))//(math.pi/4))]+=1\n",
        "    else:\n",
        "      hogs_grad[i][j]=(math.atan(R))//(math.pi/4)\n",
        "      hogs_hist[int((math.atan(R))//(math.pi/4))]+=1\n",
        "s=sum(hogs_hist)     \n",
        "hogs_hist_per=[i/s for i in hogs_hist]\n",
        "hogs_hist_per\n"
      ],
      "execution_count": 116,
      "outputs": [
        {
          "output_type": "display_data",
          "data": {
            "image/png": "[encoded data removed]",
            "text/plain": [
              "<Figure size 432x288 with 1 Axes>"
            ]
          },
          "metadata": {
            "tags": []
          }
        },
        {
          "output_type": "execute_result",
          "data": {
            "text/plain": [
              "[0.41521516393442626,\n",
              " 0.13063524590163936,\n",
              " 0.05737704918032787,\n",
              " 0.054047131147540985,\n",
              " 0.12064549180327869,\n",
              " 0.048924180327868855,\n",
              " 0.08913934426229508,\n",
              " 0.08401639344262295]"
            ]
          },
          "metadata": {
            "tags": []
          },
          "execution_count": 116
        }
      ]
    },
    {
      "cell_type": "code",
      "metadata": {
        "id": "vvqu3VAnZYcm",
        "colab_type": "code",
        "colab": {
          "base_uri": "https://localhost:8080/",
          "height": 52
        },
        "outputId": "a31a5754-90c0-4d0f-d3de-45b9dbd0de7b"
      },
      "source": [
        "val_max=-1\n",
        "val_min=300\n",
        "for i in hogs_grad:\n",
        "  for j in i:\n",
        "    if j>val_max:\n",
        "      val_max=j\n",
        "    if j<val_min:\n",
        "      val_min=j\n",
        "print(val_max)\n",
        "print(val_min)\n"
      ],
      "execution_count": 89,
      "outputs": [
        {
          "output_type": "stream",
          "text": [
            "7.0\n",
            "0.0\n"
          ],
          "name": "stdout"
        }
      ]
    },
    {
      "cell_type": "code",
      "metadata": {
        "id": "jbpdmww_b0pb",
        "colab_type": "code",
        "colab": {
          "base_uri": "https://localhost:8080/",
          "height": 268
        },
        "outputId": "ee753271-6744-40f1-cdff-6dcf80e8e531"
      },
      "source": [
        "img_path='w.jpg'\n",
        "img=read_image(img_path)\n",
        "plt.imshow(img, cmap=\"gray\")\n",
        "plt.show()"
      ],
      "execution_count": 114,
      "outputs": [
        {
          "output_type": "display_data",
          "data": {
            "image/png": "[encoded data removed]",
            "text/plain": [
              "<Figure size 432x288 with 1 Axes>"
            ]
          },
          "metadata": {
            "tags": []
          }
        }
      ]
    },
    {
      "cell_type": "code",
      "metadata": {
        "id": "-yGiJtZOb2Gp",
        "colab_type": "code",
        "colab": {}
      },
      "source": [
        "def hogs(img):\n",
        "  import math\n",
        "  import numpy as np\n",
        "  hogs_x=[-1,1]\n",
        "  hogs_img_x=copy.deepcopy(img)\n",
        "  hogs_grad_x=copy.deepcopy(img)\n",
        "  for i in range(len(hogs_img_x)):\n",
        "    hogs_img_x[i]=hogs_img_x[i]+[0]\n",
        "  hogs_y=[1,-1]\n",
        "  hogs_img_y=copy.deepcopy(img)\n",
        "  hogs_grad_y=copy.deepcopy(img)\n",
        "  hogs_img_y=hogs_img_y+(np.zeros((1, len(hogs_img_y[0]))).tolist())\n",
        "\n",
        "  for i in range(len(img)):\n",
        "    for j in range(len(img[0])):\n",
        "      hogs_grad_x[i][j]=(hogs_img_x[i][j]*hogs_x[0])+(hogs_img_x[i][j+1]*hogs_x[1])\n",
        "      hogs_grad_y[i][j]=(hogs_img_y[i][j]*hogs_y[0])+(hogs_img_y[i+1][j]*hogs_y[1])\n",
        "  hogs_grad=copy.deepcopy(img)\n",
        "  hogs_hist=np.zeros(8).tolist()\n",
        "  for i in range(len(hogs_grad)):\n",
        "    for j in range(len(hogs_grad[0])):\n",
        "      R=abs(hogs_grad_y[i][j]/(hogs_grad_x[i][j]+0.000000000001))\n",
        "      if hogs_grad_x[i][j]<0 and hogs_grad_y[i][j]>=0:\n",
        "        hogs_grad[i][j]=(math.pi-(math.atan(R)))//(math.pi/4)\n",
        "        hogs_hist[int((math.pi-(math.atan(R)))//(math.pi/4))]+=1\n",
        "      elif hogs_grad_x[i][j]>=0 and hogs_grad_y[i][j]<0:\n",
        "        hogs_grad[i][j]=((2*math.pi)-(math.atan(R)) )//(math.pi/4)\n",
        "        hogs_hist[int(((2*math.pi)-(math.atan(R)) )//(math.pi/4))]+=1\n",
        "      elif hogs_grad_x[i][j]<0 and hogs_grad_y[i][j]<0:\n",
        "        hogs_grad[i][j]=(math.pi+(math.atan(R)))//(math.pi/4)\n",
        "        hogs_hist[int((math.pi+(math.atan(R)))//(math.pi/4))]+=1\n",
        "      else:\n",
        "        hogs_grad[i][j]=(math.atan(R))//(math.pi/4)\n",
        "        hogs_hist[int((math.atan(R))//(math.pi/4))]+=1\n",
        "  s=sum(hogs_hist)     \n",
        "  hogs_hist_per=[i/s for i in hogs_hist]\n",
        "  return(hogs_hist_per)\n"
      ],
      "execution_count": 0,
      "outputs": []
    },
    {
      "cell_type": "code",
      "metadata": {
        "id": "CXOsxJ22jn_m",
        "colab_type": "code",
        "colab": {
          "base_uri": "https://localhost:8080/",
          "height": 156
        },
        "outputId": "d26e20bb-9e43-483d-ac65-7de8d7e5f91d"
      },
      "source": [
        "img_path='b.jpg'\n",
        "img=read_image(img_path)\n",
        "hogs(img)"
      ],
      "execution_count": 10,
      "outputs": [
        {
          "output_type": "execute_result",
          "data": {
            "text/plain": [
              "[0.44813829787234044,\n",
              " 0.07180851063829788,\n",
              " 0.02526595744680851,\n",
              " 0.04521276595744681,\n",
              " 0.19946808510638298,\n",
              " 0.04680851063829787,\n",
              " 0.06542553191489361,\n",
              " 0.09787234042553192]"
            ]
          },
          "metadata": {
            "tags": []
          },
          "execution_count": 10
        }
      ]
    },
    {
      "cell_type": "code",
      "metadata": {
        "id": "vj_gHR3rwgKa",
        "colab_type": "code",
        "colab": {}
      },
      "source": [
        "# Iterating through the image and computing the eulidean distance match score\n",
        "img_path='proj1-task2-png.png'\n",
        "img=read_image(img_path)\n",
        "img_path='a.jpg'\n",
        "template=read_image(img_path)\n"
      ],
      "execution_count": 0,
      "outputs": []
    },
    {
      "cell_type": "code",
      "metadata": {
        "id": "WhHkZiA7HRDp",
        "colab_type": "code",
        "colab": {}
      },
      "source": [
        "def euclidean(arr1,arr2):\n",
        "  summ=0\n",
        "  for i in range(len(arr1)):\n",
        "    summ+=(arr1[i]-arr2[i])**2\n",
        "  return summ**0.5\n"
      ],
      "execution_count": 0,
      "outputs": []
    },
    {
      "cell_type": "code",
      "metadata": {
        "id": "_3E55pAcHSZS",
        "colab_type": "code",
        "colab": {}
      },
      "source": [
        "t_l=len(template)\n",
        "t_b=len(template[0])\n",
        "i_l=len(img)\n",
        "i_b=len(img[0])\n",
        "hogs_match=np.zeros((i_l-t_l,i_b-t_b)).tolist()\n",
        "hogs_template=hogs(template)\n",
        "img_np=np.array(img)\n",
        "for i in range(i_l-t_l):\n",
        "  for j in range(i_b-t_b):\n",
        "    hogs_match[i][j]=euclidean(hogs(img_np[i:i+t_l,j:j+t_b].tolist()),hogs_template)\n",
        "    \n",
        "\n"
      ],
      "execution_count": 0,
      "outputs": []
    },
    {
      "cell_type": "code",
      "metadata": {
        "id": "nDga7uSeLlkt",
        "colab_type": "code",
        "colab": {
          "base_uri": "https://localhost:8080/",
          "height": 35
        },
        "outputId": "4c3cacb9-25fe-45ea-97dd-36c828c56d7f"
      },
      "source": [
        "len(hogs_match)"
      ],
      "execution_count": 55,
      "outputs": [
        {
          "output_type": "execute_result",
          "data": {
            "text/plain": [
              "226"
            ]
          },
          "metadata": {
            "tags": []
          },
          "execution_count": 55
        }
      ]
    },
    {
      "cell_type": "code",
      "metadata": {
        "id": "w5TJosiBImYf",
        "colab_type": "code",
        "colab": {
          "base_uri": "https://localhost:8080/",
          "height": 35
        },
        "outputId": "813a207b-24b5-41f7-cc87-f19733bab2bc"
      },
      "source": [
        "2**0.5"
      ],
      "execution_count": 29,
      "outputs": [
        {
          "output_type": "execute_result",
          "data": {
            "text/plain": [
              "1.4142135623730951"
            ]
          },
          "metadata": {
            "tags": []
          },
          "execution_count": 29
        }
      ]
    },
    {
      "cell_type": "code",
      "metadata": {
        "id": "FUjyPHPGJAhD",
        "colab_type": "code",
        "colab": {}
      },
      "source": [
        "hogs_template=hogs(template)"
      ],
      "execution_count": 0,
      "outputs": []
    },
    {
      "cell_type": "code",
      "metadata": {
        "id": "8q_P2NaeJMc6",
        "colab_type": "code",
        "colab": {
          "base_uri": "https://localhost:8080/",
          "height": 166
        },
        "outputId": "eb81b912-9fb9-431c-b3cb-08cf14ebb8c0"
      },
      "source": [
        ""
      ],
      "execution_count": 26,
      "outputs": [
        {
          "output_type": "error",
          "ename": "TypeError",
          "evalue": "ignored",
          "traceback": [
            "\u001b[0;31m---------------------------------------------------------------------------\u001b[0m",
            "\u001b[0;31mTypeError\u001b[0m                                 Traceback (most recent call last)",
            "\u001b[0;32m<ipython-input-26-4b92eb4ede08>\u001b[0m in \u001b[0;36m<module>\u001b[0;34m()\u001b[0m\n\u001b[0;32m----> 1\u001b[0;31m \u001b[0;34m[\u001b[0m\u001b[0;36m1\u001b[0m\u001b[0;34m,\u001b[0m\u001b[0;36m2\u001b[0m\u001b[0;34m,\u001b[0m\u001b[0;36m3\u001b[0m\u001b[0;34m]\u001b[0m\u001b[0;34m-\u001b[0m\u001b[0;34m[\u001b[0m\u001b[0;36m1\u001b[0m\u001b[0;34m,\u001b[0m\u001b[0;36m2\u001b[0m\u001b[0;34m,\u001b[0m\u001b[0;36m1\u001b[0m\u001b[0;34m]\u001b[0m\u001b[0;34m\u001b[0m\u001b[0;34m\u001b[0m\u001b[0m\n\u001b[0m",
            "\u001b[0;31mTypeError\u001b[0m: unsupported operand type(s) for -: 'list' and 'list'"
          ]
        }
      ]
    },
    {
      "cell_type": "code",
      "metadata": {
        "id": "SJdUrZpTJksm",
        "colab_type": "code",
        "colab": {}
      },
      "source": [
        ""
      ],
      "execution_count": 0,
      "outputs": []
    },
    {
      "cell_type": "code",
      "metadata": {
        "id": "73nBVW1EKanf",
        "colab_type": "code",
        "colab": {}
      },
      "source": [
        ""
      ],
      "execution_count": 0,
      "outputs": []
    }
  ]
}