{
  "nbformat": 4,
  "nbformat_minor": 0,
  "metadata": {
    "colab": {
      "name": "Panorama with Ransac.ipynb",
      "provenance": [],
      "collapsed_sections": [],
      "authorship_tag": "ABX9TyOkgzffCpJQqBXw/TMOrf23",
      "include_colab_link": true
    },
    "kernelspec": {
      "name": "python3",
      "display_name": "Python 3"
    },
    "accelerator": "GPU"
  },
  "cells": [
    {
      "cell_type": "markdown",
      "metadata": {
        "id": "view-in-github",
        "colab_type": "text"
      },
      "source": [
        "<a href=\"https://colab.research.google.com/github/vimalkumarasamy/computer_vision/blob/master/Panorama_Ransac_terminal_friendly.ipynb\" target=\"_parent\"><img src=\"https://colab.research.google.com/assets/colab-badge.svg\" alt=\"Open In Colab\"/></a>"
      ]
    },
    {
      "cell_type": "code",
      "metadata": {
        "id": "fxZ-xfq_qCnr",
        "colab_type": "code",
        "outputId": "25cb4ecc-0ec8-44e4-b9d0-65643e017348",
        "colab": {
          "base_uri": "https://localhost:8080/",
          "height": 35
        }
      },
      "source": [
        "from google.colab import drive\n",
        "drive.mount('/content/gdrive')"
      ],
      "execution_count": 14,
      "outputs": [
        {
          "output_type": "stream",
          "text": [
            "Drive already mounted at /content/gdrive; to attempt to forcibly remount, call drive.mount(\"/content/gdrive\", force_remount=True).\n"
          ],
          "name": "stdout"
        }
      ]
    },
    {
      "cell_type": "code",
      "metadata": {
        "id": "B77myNQoqPTL",
        "colab_type": "code",
        "outputId": "c54325e7-3184-4008-81de-41cf470a34b0",
        "colab": {
          "base_uri": "https://localhost:8080/",
          "height": 35
        }
      },
      "source": [
        "cd '/content/gdrive/My Drive/Computer_Vision/panorama'"
      ],
      "execution_count": 15,
      "outputs": [
        {
          "output_type": "stream",
          "text": [
            "/content/gdrive/My Drive/Computer_Vision/panorama\n"
          ],
          "name": "stdout"
        }
      ]
    },
    {
      "cell_type": "code",
      "metadata": {
        "colab_type": "code",
        "id": "VYf-K5ZirNLV",
        "colab": {}
      },
      "source": [
        "import os\n",
        "import cv2\n",
        "from matplotlib import pyplot as plt\n",
        "from google.colab.patches import cv2_imshow\n",
        "import numpy as np\n",
        "import random\n",
        "import copy\n",
        "# ! pip uninstall opencv python\n",
        "# ! pip install opencv-python==3.4.2.17\n",
        "# ! pip install opencv-contrib-python==3.4.2.17"
      ],
      "execution_count": 0,
      "outputs": []
    },
    {
      "cell_type": "code",
      "metadata": {
        "id": "67IhBMe2cywL",
        "colab_type": "code",
        "colab": {}
      },
      "source": [
        "def ssd(arr1,arr2):\n",
        "  import numpy as np\n",
        "  return np.sum(np.square(arr1-arr2)) \n",
        "\n",
        "def pad(img,n):\n",
        "  dim=img.shape\n",
        "  if len(dim)==2:\n",
        "    img_out=np.zeros([dim[0]+n,dim[1]+n])\n",
        "    img_out[n//2:n//2+dim[0],n//2:n//2+dim[1]]=img\n",
        "  if len(dim)==3:\n",
        "    img_out=np.zeros([dim[0]+n,dim[1]+n,dim[2]])\n",
        "    img_out[n//2:n//2+dim[0],n//2:n//2+dim[1],:]=img\n",
        "  img_out = cv2.normalize(img_out, None, 0, 255, cv2.NORM_MINMAX).astype('uint8')\n",
        "  return(img_out)\n",
        "  \n",
        "def match_keypoints(des_1,des_2,kp_1,kp_2):\n",
        "  ratios=[]\n",
        "  matches=[]\n",
        "  for i in range(len(des_2)):\n",
        "    arr=[]\n",
        "    for j in range(len(des_1)):\n",
        "      arr=arr+[ssd(des_2[i],des_1[j])]\n",
        "    arr=np.array(arr)\n",
        "    ind=arr.argsort()[0:2]\n",
        "    ind1,ind2=ind[0],ind[1]\n",
        "    val1,val2=arr[ind1],arr[ind2]\n",
        "    ratio=val1/val2\n",
        "    ratios=ratios+[ratio]\n",
        "    matches=matches+[ind1]\n",
        "  # print(min(ratios))\n",
        "  # top5=np.array(ratios).argsort()[0:10]\n",
        "  top=np.where(np.array(ratios) < 0.2)[0]\n",
        "  best_match=[]\n",
        "  for i in top:\n",
        "    best_match=best_match+[[i,matches[i]]]\n",
        "  points=[]\n",
        "  for i in best_match:\n",
        "    left,right=kp_1[i[1]].pt,kp_2[i[0]].pt\n",
        "    points=points+[[left[0],left[1],right[0],right[1]]]\n",
        "\n",
        "  return(points)\n",
        "\n",
        "def find_homography(img_1,img_2):\n",
        "  sift = cv2.xfeatures2d.SIFT_create()\n",
        "  kp_1,des_1 = sift.detectAndCompute(img_1,None)\n",
        "  kp_2,des_2 = sift.detectAndCompute(img_2,None)\n",
        "  coords=match_keypoints(des_1,des_2,kp_1,kp_2)\n",
        "  status,H=ransac(coords)\n",
        "  return(status,H)\n",
        "\n",
        "def ransac(points):\n",
        "  s=2000\n",
        "  homograph_final=np.array([[0,0,0],[0,0,0],[0,0,0]])\n",
        "  inliner_max=0\n",
        "  status=False\n",
        "  for i in range(s):\n",
        "    items = random.sample(points,4)\n",
        "    l,r=[],[]\n",
        "    for j in items:\n",
        "      l=l+[[j[0],j[1]]]\n",
        "      r=r+[[j[2],j[3]]]\n",
        "    H=homograph(l,r)\n",
        "    inliner=0\n",
        "    for k in points:\n",
        "      right=np.array([[k[2]],[k[3]],[1]])\n",
        "      right_trans=np.matmul(np.array(H),right)\n",
        "      right_trans=np.array([right_trans[0][0]/right_trans[2][0],right_trans[1][0]/right_trans[2][0]])\n",
        "      left =np.array([k[0],k[1]])\n",
        "      if ssd(left,right_trans)< np.sqrt(8):\n",
        "        inliner=inliner+1\n",
        "    if inliner>inliner_max:\n",
        "      inliner_max=inliner\n",
        "      homograph_final=H\n",
        "      status=True\n",
        "  # print('Among ',len(points),' points, the number of inliners were ',inliner_max)\n",
        "  return(status,homograph_final)\n",
        "\n",
        "def stitch_images(img1,img2):\n",
        "  # img1 = pad(img1,int(1 * img2.shape[0]))\n",
        "  # img2 = pad(img2,int(1 * img2.shape[0]))\n",
        "\n",
        "  dim1,dim2,dim=img1.shape,img2.shape,[]\n",
        "  dim=[max(dim1[0],dim2[0]),max(dim1[0],dim2[0]),3]\n",
        "  \n",
        "  if dim2[0]>dim1[0]:\n",
        "    img1=np.vstack((img1,np.zeros([dim2[0]-dim1[0],dim1[1],3])))\n",
        "  elif dim2[0]<dim1[0]:\n",
        "    img2=np.vstack((img2,np.zeros([dim1[0]-dim2[0],dim2[1],3])))\n",
        "  dim1,dim2=img1.shape,img2.shape\n",
        "  if dim2[1]>dim1[1]:\n",
        "    img1=np.hstack((img1,np.zeros([dim1[0],dim2[1]-dim1[1],3])))\n",
        "  elif dim2[1]<dim1[1]:\n",
        "    img2=np.hstack((img2,np.zeros([dim2[0],dim1[1]-dim2[1],3])))\n",
        "\n",
        "  out=np.maximum(img1, img2)\n",
        "  # out=np.zeros(img1.shape)\n",
        "  # for i in range(img1.shape[0]):\n",
        "  #   for j in range(img1.shape[1]):\n",
        "  #     if img2[i,j,0]<2 and img2[i,j,1]<2 and img2[i,j,2]<2:\n",
        "  #       out[i,j,:]=img1[i,j,:]\n",
        "  #     elif img1[i,j,0]<2 and img1[i,j,1]<2 and img1[i,j,2]<2:\n",
        "  #       out[i,j,:]=img2[i,j,:]\n",
        "  #     else:\n",
        "  #       out[i,j,:]= np.true_divide( img1[i,j,:] + img2[i,j,:], 2)\n",
        "\n",
        "\n",
        "  out = cv2.normalize(out, None, 0, 255, cv2.NORM_MINMAX).astype('uint8')\n",
        "  return(out)\n",
        "\n",
        "def overlap(img1,img2):\n",
        "  dim1,dim2=img1.shape,img2.shape  \n",
        "  if dim2[0]>dim1[0]:\n",
        "    img1=np.vstack((img1,np.zeros([dim2[0]-dim1[0],dim1[1],3])))\n",
        "  elif dim2[0]<dim1[0]:\n",
        "    img2=np.vstack((img2,np.zeros([dim1[0]-dim2[0],dim2[1],3])))\n",
        "  dim1,dim2=img1.shape,img2.shape\n",
        "  if dim2[1]>dim1[1]:\n",
        "    img1=np.hstack((img1,np.zeros([dim1[0],dim2[1]-dim1[1],3])))\n",
        "  elif dim2[1]<dim1[1]:\n",
        "    img2=np.hstack((img2,np.zeros([dim2[0],dim1[1]-dim2[1],3])))\n",
        "  prod=np.multiply(img1, img2)\n",
        "  summ=prod[:,:,0]+prod[:,:,1]+prod[:,:,2]\n",
        "  percent=float(np.count_nonzero(summ)/(summ.shape[0] * summ.shape[1]))\n",
        "  return(percent)\n",
        "\n",
        "def combine(left_image,right_image):\n",
        "  # left_image=os.getcwd()+'/photos/nevada4.jpg'\n",
        "  # right_image=os.getcwd()+'/photos/nevada5.jpg'\n",
        "  # p=1000\n",
        "  # img_1 = cv2.imread(left_image,0)\n",
        "  # img_2 = cv2.imread(right_image,0)\n",
        "  img_1 = cv2.cvtColor(left_image, cv2.COLOR_BGR2GRAY)\n",
        "  img_2 = cv2.cvtColor(right_image, cv2.COLOR_BGR2GRAY)\n",
        "  # p=int(0.5 * img_2.shape[0])\n",
        "\n",
        "  # img_1 = pad(img_1,int(0.5 * img_1.shape[0]))\n",
        "  # img_2 = pad(img_2,int(0.5 * img_2.shape[0]))\n",
        "\n",
        "  l1,b1=img_1.shape\n",
        "  l2,b2=img_2.shape\n",
        "  status,H=find_homography(img_1,img_2)\n",
        "  if status:\n",
        "    # img_2 = cv2.imread(right_image)[:,:,::-1]\n",
        "    # img_1 = cv2.imread(left_image)[:,:,::-1]\n",
        "    img_2 = right_image\n",
        "    img_1 = left_image\n",
        "    # img_1 = pad(img_1,int(0.5 * img_1.shape[0]))\n",
        "    # img_2 = pad(img_2,int(0.5 * img_2.shape[0]))\n",
        "    out = cv2.warpPerspective(img_2, H, (  b1+b2    ,l2))\n",
        "    if overlap(img_1,out)>0.05:\n",
        "      stitch=stitch_images(out,img_1)\n",
        "    else:\n",
        "      stitch = left_image\n",
        "  else:\n",
        "    stitch = left_image\n",
        "  return(stitch) \n",
        "\n",
        "def homograph(L,R):\n",
        "  x1_=R[0][0]\n",
        "  y1_=R[0][1]\n",
        "  x2_=R[1][0]\n",
        "  y2_=R[1][1]\n",
        "  x3_=R[2][0]\n",
        "  y3_=R[2][1]\n",
        "  x4_=R[3][0]\n",
        "  y4_=R[3][1]\n",
        "  x1 =L[0][0]\n",
        "  y1 =L[0][1]\n",
        "  x2 =L[1][0]\n",
        "  y2 =L[1][1]\n",
        "  x3 =L[2][0]\n",
        "  y3 =L[2][1]\n",
        "  x4 =L[3][0]\n",
        "  y4 =L[3][1]\n",
        "\n",
        "  PH=np.array([[-x1,-y1,-1,0,0,0,(x1*x1_),(y1*x1_),(x1_)], [0,0,0,-x1,-y1,-1,(x1*y1_),(y1*y1_),y1_],[-x2,-y2,-1,0,0,0,(x2*x2_),(y2*x2_),x2_],[0,0,0,-x2,-y2,-1,(x2*y2_),(y2*y2_),y2_],\n",
        "              [-x3,-y3,-1,0,0,0,(x3*x3_),(y3*x3_),x3_],[0,0,0,-x3,-y3,-1,(x3*y3_),(y3*y3_),y3_],[-x4,-y4,-1,0,0,0,(x4*x4_),(y4*x4_),x4_],[0,0,0,-x4,-y4,-1,(x4*y4_),(y4*y4_),y4_],[0,0,0,0,0,0,0,0,1]])\n",
        "  Y=np.array([[0,0,0,0,0,0,0,0,1]])\n",
        "  PH_inv = np.linalg.pinv(PH)\n",
        "  H=np.matmul(np.linalg.pinv(PH),np.transpose(Y))\n",
        "  Homograph=np.array([[H[0][0],H[1][0],H[2][0]],[H[3][0],H[4][0],H[5][0]],[H[6][0],H[7][0],H[8][0]]])\n",
        "  H_=np.linalg.inv(Homograph)\n",
        "  return(H_)\n",
        "\n",
        "\n",
        "def plot(img):\n",
        "  plt.imshow(img)\n",
        "  plt.show()"
      ],
      "execution_count": 0,
      "outputs": []
    },
    {
      "cell_type": "code",
      "metadata": {
        "id": "3P8RuacXLXFt",
        "colab_type": "code",
        "colab": {
          "base_uri": "https://localhost:8080/",
          "height": 313
        },
        "outputId": "90de24ef-1ef8-40f2-8f81-b8b1dd11e029"
      },
      "source": [
        "path = '/content/gdrive/My Drive/Computer_Vision/panorama/photos/nevada/'\n",
        "files = os.listdir(path)\n",
        "left = cv2.imread(path+files[0])[:,:,::-1]\n",
        "left = pad(left,int(0.5 * left.shape[0]))\n",
        "for i in range(1,len(files)):\n",
        "  right = cv2.imread(path+files[i])[:,:,::-1]\n",
        "  right = pad(right,int(0.5 * right.shape[0]))\n",
        "  left = combine(left,right) \n",
        "  plot(left)\n",
        "cv2.imwrite(path+'panorama.jpg', cv2.cvtColor(left, cv2.COLOR_RGB2BGR))"
      ],
      "execution_count": 13,
      "outputs": [
        {
          "output_type": "display_data",
          "data": {
            "image/png": "[encoded data removed]",
            "text/plain": [
              "<Figure size 432x288 with 1 Axes>"
            ]
          },
          "metadata": {
            "tags": []
          }
        },
        {
          "output_type": "display_data",
          "data": {
            "image/png": "[encoded data removed]",
            "text/plain": [
              "<Figure size 432x288 with 1 Axes>"
            ]
          },
          "metadata": {
            "tags": []
          }
        },
        {
          "output_type": "execute_result",
          "data": {
            "text/plain": [
              "True"
            ]
          },
          "metadata": {
            "tags": []
          },
          "execution_count": 13
        }
      ]
    },
    {
      "cell_type": "code",
      "metadata": {
        "id": "gwqqhbWvuSUR",
        "colab_type": "code",
        "colab": {
          "base_uri": "https://localhost:8080/",
          "height": 35
        },
        "outputId": "563cfe99-b17d-473c-d462-25455619564a"
      },
      "source": [
        "path = '/content/gdrive/My Drive/Computer_Vision/panorama/photos/nevada/'\n",
        "files = os.listdir(path)"
      ],
      "execution_count": 12,
      "outputs": [
        {
          "output_type": "execute_result",
          "data": {
            "text/plain": [
              "['Copy of nevada5.jpg', 'Copy of nevada4.jpg', 'Copy of nevada3.jpg']"
            ]
          },
          "metadata": {
            "tags": []
          },
          "execution_count": 12
        }
      ]
    },
    {
      "cell_type": "code",
      "metadata": {
        "id": "lUDl7w1-u339",
        "colab_type": "code",
        "colab": {
          "base_uri": "https://localhost:8080/",
          "height": 69
        },
        "outputId": "22fb5196-3419-4829-87af-fca47e5556f2"
      },
      "source": [
        "ls"
      ],
      "execution_count": 17,
      "outputs": [
        {
          "output_type": "stream",
          "text": [
            "hilton.jpg       \u001b[0m\u001b[01;34mphotos\u001b[0m/                stitched_bridge.jpg\n",
            "nevada.jpg       stitched_2_bridge.jpg  stitched.jpg\n",
            "nevada_loop.jpg  stitched_2.jpg         stitch.py\n"
          ],
          "name": "stdout"
        }
      ]
    },
    {
      "cell_type": "code",
      "metadata": {
        "id": "sr4FkmVd8ahQ",
        "colab_type": "code",
        "colab": {
          "base_uri": "https://localhost:8080/",
          "height": 64
        },
        "outputId": "9df517e9-d557-4c83-c380-7022cada4d15"
      },
      "source": [
        "! python stitch.py '/content/gdrive/My Drive/Computer_Vision/panorama/photos/hilton/'"
      ],
      "execution_count": 0,
      "outputs": [
        {
          "output_type": "stream",
          "text": [
            "reading files from  /content/gdrive/My Drive/Computer_Vision/panorama/photos/hilton/\n"
          ],
          "name": "stdout"
        }
      ]
    },
    {
      "cell_type": "code",
      "metadata": {
        "id": "Fo1_Hcd18jQk",
        "colab_type": "code",
        "colab": {}
      },
      "source": [
        ""
      ],
      "execution_count": 0,
      "outputs": []
    },
    {
      "cell_type": "code",
      "metadata": {
        "id": "7ri2v9K_92yP",
        "colab_type": "code",
        "colab": {}
      },
      "source": [
        ""
      ],
      "execution_count": 0,
      "outputs": []
    }
  ]
}