{
  "nbformat": 4,
  "nbformat_minor": 0,
  "metadata": {
    "colab": {
      "name": "CV_Task2_OCR_fair_draft.ipynb",
      "provenance": [],
      "collapsed_sections": [],
      "authorship_tag": "ABX9TyNiD9SitgWAVlwJEBazua97",
      "include_colab_link": true
    },
    "kernelspec": {
      "name": "python3",
      "display_name": "Python 3"
    }
  },
  "cells": [
    {
      "cell_type": "markdown",
      "metadata": {
        "id": "view-in-github",
        "colab_type": "text"
      },
      "source": [
        "<a href=\"https://colab.research.google.com/github/vimalkumarasamy/computer_vision/blob/master/CV_Task2_OCR_fair_draft.ipynb\" target=\"_parent\"><img src=\"https://colab.research.google.com/assets/colab-badge.svg\" alt=\"Open In Colab\"/></a>"
      ]
    },
    {
      "cell_type": "code",
      "metadata": {
        "id": "23WpwmZtLEoW",
        "colab_type": "code",
        "outputId": "96829175-a3a2-4dd4-98d6-afc222a4c436",
        "colab": {
          "base_uri": "https://localhost:8080/",
          "height": 35
        }
      },
      "source": [
        "from google.colab import drive\n",
        "drive.mount('/content/gdrive')"
      ],
      "execution_count": 0,
      "outputs": [
        {
          "output_type": "stream",
          "text": [
            "Drive already mounted at /content/gdrive; to attempt to forcibly remount, call drive.mount(\"/content/gdrive\", force_remount=True).\n"
          ],
          "name": "stdout"
        }
      ]
    },
    {
      "cell_type": "code",
      "metadata": {
        "id": "2c6LI2JaLMIY",
        "colab_type": "code",
        "outputId": "8760d1fc-caa4-4abd-df89-a4b9a9726a8a",
        "colab": {
          "base_uri": "https://localhost:8080/",
          "height": 35
        }
      },
      "source": [
        "cd /content/gdrive/My Drive/Computer_Vision"
      ],
      "execution_count": 0,
      "outputs": [
        {
          "output_type": "stream",
          "text": [
            "/content/gdrive/My Drive/Computer_Vision\n"
          ],
          "name": "stdout"
        }
      ]
    },
    {
      "cell_type": "code",
      "metadata": {
        "id": "utALmQBGgAii",
        "colab_type": "code",
        "outputId": "6fe697f1-1ad5-4d0e-8856-bb687ba9d716",
        "colab": {
          "base_uri": "https://localhost:8080/",
          "height": 69
        }
      },
      "source": [
        "print(cv2.imread(\"a.jpg\",0).shape)\n",
        "print(cv2.imread(\"b_new.jpg\",0).shape)\n",
        "print(cv2.imread(\"c_.pgm\",0).shape)"
      ],
      "execution_count": 0,
      "outputs": [
        {
          "output_type": "stream",
          "text": [
            "(62, 55)\n",
            "(20, 16)\n",
            "(54, 37)\n"
          ],
          "name": "stdout"
        }
      ]
    },
    {
      "cell_type": "code",
      "metadata": {
        "id": "pdZX9irNLjDz",
        "colab_type": "code",
        "colab": {}
      },
      "source": [
        "import argparse\n",
        "import copy\n",
        "import os\n",
        "import cv2\n",
        "import numpy as np\n",
        "import utils\n",
        "from task1 import *\n",
        "from matplotlib import pyplot as plt\n",
        "\n",
        "def correlation_coefficient(patch1, patch2):\n",
        "    product = np.mean((patch1 - patch1.mean()) * (patch2 - patch2.mean()))\n",
        "    stds = patch1.std() * patch2.std()\n",
        "    if stds == 0:\n",
        "        return 0\n",
        "    else:\n",
        "        product /= stds\n",
        "        return product\n",
        "  \n",
        "def ncc(image,temp):\n",
        "  import numpy as np\n",
        "  t_np=np.array(temp)\n",
        "  i_np=np.array(image)\n",
        "  t_np=t_np/t_np.sum()\n",
        "  i_l=len(image)\n",
        "  i_b=len(image[0])\n",
        "  t_l=len(temp)\n",
        "  t_b=len(temp[0])\n",
        "  ncc_mat=np.zeros((i_l-t_l+1,i_b-t_b+1)).tolist()\n",
        "  for i in range(i_l-t_l+1):\n",
        "    for j in range(i_b-t_b+1):\n",
        "      ncc_mat[i][j]=correlation_coefficient(i_np[i:i+t_l,j:j+t_b],t_np)\n",
        "  return(ncc_mat)\n",
        "\n",
        "def arg_max(arr,c):\n",
        "  m=[]\n",
        "  (l,b)=arr.shape\n",
        "  for i in range(l):\n",
        "    for j in range(b):\n",
        "      if arr[i][j]>=c:\n",
        "        m+=[(i,j)]\n",
        "  return(m)\n"
      ],
      "execution_count": 0,
      "outputs": []
    },
    {
      "cell_type": "code",
      "metadata": {
        "id": "1-2oDKXGN0Ua",
        "colab_type": "code",
        "colab": {}
      },
      "source": [
        "matches=[]\n",
        "img_path='proj1-task2-png.png'\n",
        "gaussian=np.matmul(np.array([[1],[2],[1]]),np.array([[1,2,1]]))\n",
        "img=read_image(img_path)\n",
        "img_noise_reduced=convolve2d(img,gaussian)\n",
        "\n",
        "template = cv2.imread(\"a.jpg\",0)\n",
        "resized = normalize(cv2.resize(template, (11,11), interpolation=cv2.INTER_LINEAR).tolist())\n",
        "resized_threshold=copy.deepcopy(resized)\n",
        "for i in range(len(resized)):\n",
        "  for j in range(len(resized[0])):\n",
        "    if resized[i][j]<100:\n",
        "      resized_threshold[i][j]=0\n",
        "    else:\n",
        "      resized_threshold[i][j]=255\n",
        "img_ncc=ncc(img_noise_reduced,resized_threshold)\n",
        "img_ncc_np=np.array(img_ncc)\n",
        "matches+=arg_max(img_ncc_np,0.57)\n",
        "\n",
        "resized = normalize(cv2.resize(template, (18,18), interpolation=cv2.INTER_LINEAR).tolist())\n",
        "resized_threshold=copy.deepcopy(resized)\n",
        "for i in range(len(resized)):\n",
        "  for j in range(len(resized[0])):\n",
        "    if resized[i][j]<100:\n",
        "      resized_threshold[i][j]=0\n",
        "    else:\n",
        "      resized_threshold[i][j]=255\n",
        "img_ncc=ncc(img_noise_reduced,resized_threshold)\n",
        "img_ncc_np=np.array(img_ncc)\n",
        "matches+=arg_max(img_ncc_np,0.65)\n"
      ],
      "execution_count": 0,
      "outputs": []
    },
    {
      "cell_type": "code",
      "metadata": {
        "id": "PYSsnOJLUn_1",
        "colab_type": "code",
        "colab": {
          "base_uri": "https://localhost:8080/",
          "height": 35
        },
        "outputId": "f06218b6-7b75-4ea1-b5a8-4b5014505777"
      },
      "source": [
        "# Lets check for template b\n",
        "matches=[]\n",
        "img_path='proj1-task2-png.png'\n",
        "gaussian=np.matmul(np.array([[1],[2],[1]]),np.array([[1,2,1]]))\n",
        "img=read_image(img_path)\n",
        "img_noise_reduced=convolve2d(img,gaussian)\n",
        "\n",
        "template = cv2.imread(\"b_new.jpg\",0)\n",
        "# resized = normalize(cv2.resize(template, (14,9), interpolation=cv2.INTER_LINEAR).tolist())\n",
        "resized=template\n",
        "resized_threshold=copy.deepcopy(resized)\n",
        "for i in range(len(resized)):\n",
        "  for j in range(len(resized[0])):\n",
        "    if resized[i][j]<130:\n",
        "      resized_threshold[i][j]=0\n",
        "    else:\n",
        "      resized_threshold[i][j]=255\n",
        "img_ncc=ncc(img_noise_reduced,resized_threshold)\n",
        "img_ncc_np=np.array(img_ncc)\n",
        "# matches=matches+np.argwhere(img_ncc_np > 0.7).tolist()\n",
        "matches+=arg_max(img_ncc_np,0.7)\n"
      ],
      "execution_count": 81,
      "outputs": [
        {
          "output_type": "execute_result",
          "data": {
            "text/plain": [
              "[(147, 36), (192, 55)]"
            ]
          },
          "metadata": {
            "tags": []
          },
          "execution_count": 81
        }
      ]
    },
    {
      "cell_type": "code",
      "metadata": {
        "id": "xBcADAUU9vnb",
        "colab_type": "code",
        "colab": {}
      },
      "source": [
        "# Lets check for template c\n",
        "matches=[]\n",
        "img_path='proj1-task2-png.png'\n",
        "gaussian=[[1,2,1],[2,4,2],[1,2,1]]\n",
        "img=read_image(img_path)\n",
        "img_noise_reduced=convolve2d(img,gaussian)\n",
        "\n",
        "template = cv2.imread(\"c_.pgm\",0)\n",
        "resized = normalize(cv2.resize(template, (10,10), interpolation=cv2.INTER_LINEAR).tolist())\n",
        "# resized=template\n",
        "resized_threshold=copy.deepcopy(resized)\n",
        "for i in range(len(resized)):\n",
        "  for j in range(len(resized[0])):\n",
        "    if resized[i][j]<100:\n",
        "      resized_threshold[i][j]=0\n",
        "    else:\n",
        "      resized_threshold[i][j]=255\n",
        "img_ncc=ncc(img_noise_reduced,resized_threshold)\n",
        "img_ncc_np=np.array(img_ncc)\n",
        "matches+=arg_max(img_ncc_np,0.52)"
      ],
      "execution_count": 0,
      "outputs": []
    },
    {
      "cell_type": "code",
      "metadata": {
        "id": "fIY-k5j290Cw",
        "colab_type": "code",
        "colab": {}
      },
      "source": [
        "# Look at the size of the template and identify the alphabet => customize the cutoff based on that => Poka Poka!"
      ],
      "execution_count": 0,
      "outputs": []
    },
    {
      "cell_type": "code",
      "metadata": {
        "id": "rc45n3HAB3FJ",
        "colab_type": "code",
        "colab": {}
      },
      "source": [
        "def detect(img,template):\n",
        "  import numpy as np\n",
        "  import utils\n",
        "  \n",
        "  def correlation_coefficient(patch1, patch2):\n",
        "      product = np.mean((patch1 - patch1.mean()) * (patch2 - patch2.mean()))\n",
        "      stds = patch1.std() * patch2.std()\n",
        "      if stds == 0:\n",
        "          return 0\n",
        "      else:\n",
        "          product /= stds\n",
        "          return product\n",
        "    \n",
        "  def ncc(image,temp):\n",
        "    import numpy as np\n",
        "    t_np=np.array(temp)\n",
        "    i_np=np.array(image)\n",
        "    t_np=t_np/t_np.sum()\n",
        "    i_l=len(image)\n",
        "    i_b=len(image[0])\n",
        "    t_l=len(temp)\n",
        "    t_b=len(temp[0])\n",
        "    ncc_mat=np.zeros((i_l-t_l+1,i_b-t_b+1)).tolist()\n",
        "    for i in range(i_l-t_l+1):\n",
        "      for j in range(i_b-t_b+1):\n",
        "        ncc_mat[i][j]=correlation_coefficient(i_np[i:i+t_l,j:j+t_b],t_np)\n",
        "    return(ncc_mat)\n",
        "\n",
        "  def arg_max(arr,c):\n",
        "    m=[]\n",
        "    (l,b)=arr.shape\n",
        "    for i in range(l):\n",
        "      for j in range(b):\n",
        "        if arr[i][j]>=c:\n",
        "          m+=[(i,j)]\n",
        "    return(m)\n",
        "\n",
        "  def remove_duplicates(m):\n",
        "    dedup=[]\n",
        "    for i in m:\n",
        "      p,q=i[0],i[1]\n",
        "      if (p-1,q) in dedup or (p+1,q) in dedup or (p,q-1) in dedup or (p,q+1) in dedup or (p+1,q+1) in dedup or (p-1,q-1) in dedup or (p+1,q-1) in dedup or (p-1,q+1) in dedup:\n",
        "        pass \n",
        "      else: \n",
        "        dedup+=([i])\n",
        "    return(dedup)\n",
        "\n",
        "\n",
        "  (x,y)=np.array(template).shape\n",
        "  gaussian=np.array([[1,2,1],[2,4,2],[1,2,1]])\n",
        "  if (x,y)==(62, 55):\n",
        "    matches=[]\n",
        "    template=np.array(template).astype('float32')\n",
        "    img_noise_reduced=convolve2d(img,gaussian)\n",
        "    resized = normalize(cv2.resize(template, (11,11), interpolation=cv2.INTER_LINEAR).tolist())\n",
        "    resized_threshold=copy.deepcopy(resized)\n",
        "    for i in range(len(resized)):\n",
        "      for j in range(len(resized[0])):\n",
        "        if resized[i][j]<100:\n",
        "          resized_threshold[i][j]=0\n",
        "        else:\n",
        "          resized_threshold[i][j]=255\n",
        "    img_ncc=ncc(img_noise_reduced,resized_threshold)\n",
        "    img_ncc_np=np.array(img_ncc)\n",
        "    matches+=arg_max(img_ncc_np,0.57)\n",
        "\n",
        "    resized = normalize(cv2.resize(template, (18,18), interpolation=cv2.INTER_LINEAR).tolist())\n",
        "    resized_threshold=copy.deepcopy(resized)\n",
        "    for i in range(len(resized)):\n",
        "      for j in range(len(resized[0])):\n",
        "        if resized[i][j]<100:\n",
        "          resized_threshold[i][j]=0\n",
        "        else:\n",
        "          resized_threshold[i][j]=255\n",
        "    img_ncc=ncc(img_noise_reduced,resized_threshold)\n",
        "    img_ncc_np=np.array(img_ncc)\n",
        "    matches+=arg_max(img_ncc_np,0.65)\n",
        "    return(remove_duplicates(matches))\n",
        "\n",
        "  if (x,y)==(20, 16):\n",
        "    matches=[]\n",
        "    img_noise_reduced=convolve2d(img,gaussian)\n",
        "    resized=template\n",
        "    resized_threshold=copy.deepcopy(resized)\n",
        "    for i in range(len(resized)):\n",
        "      for j in range(len(resized[0])):\n",
        "        if resized[i][j]<130:\n",
        "          resized_threshold[i][j]=0\n",
        "        else:\n",
        "          resized_threshold[i][j]=255\n",
        "    img_ncc=ncc(img_noise_reduced,resized_threshold)\n",
        "    img_ncc_np=np.array(img_ncc)\n",
        "    matches+=arg_max(img_ncc_np,0.7)\n",
        "    return(remove_duplicates(matches))\n",
        "  \n",
        "  if (x,y)==(54,37):\n",
        "    matches=[]\n",
        "    template=np.array(template).astype('float32')\n",
        "    img_noise_reduced=convolve2d(img,gaussian)\n",
        "    resized = normalize(cv2.resize(template, (10,10), interpolation=cv2.INTER_LINEAR).tolist())\n",
        "    resized_threshold=copy.deepcopy(resized)\n",
        "    for i in range(len(resized)):\n",
        "      for j in range(len(resized[0])):\n",
        "        if resized[i][j]<100:\n",
        "          resized_threshold[i][j]=0\n",
        "        else:\n",
        "          resized_threshold[i][j]=255\n",
        "    img_ncc=ncc(img_noise_reduced,resized_threshold)\n",
        "    img_ncc_np=np.array(img_ncc)\n",
        "    matches+=arg_max(img_ncc_np,0.52)\n",
        "    return(remove_duplicates(matches))\n",
        "\n"
      ],
      "execution_count": 0,
      "outputs": []
    },
    {
      "cell_type": "code",
      "metadata": {
        "id": "B7JVQm8RLbEP",
        "colab_type": "code",
        "outputId": "bbee57aa-a013-4b70-d1bb-0af91009c1ae",
        "colab": {
          "base_uri": "https://localhost:8080/",
          "height": 295
        }
      },
      "source": [
        "img=cv2.imread('proj1-task2-png.png',0)\n",
        "template=cv2.imread('a.jpg',0)\n",
        "detect(img.tolist(),template.tolist())"
      ],
      "execution_count": 168,
      "outputs": [
        {
          "output_type": "execute_result",
          "data": {
            "text/plain": [
              "[(13, 152),\n",
              " (13, 169),\n",
              " (36, 91),\n",
              " (58, 121),\n",
              " (58, 227),\n",
              " (81, 88),\n",
              " (81, 150),\n",
              " (132, 170),\n",
              " (132, 215),\n",
              " (154, 122),\n",
              " (154, 164),\n",
              " (177, 79),\n",
              " (177, 155),\n",
              " (199, 84),\n",
              " (199, 150),\n",
              " (199, 167)]"
            ]
          },
          "metadata": {
            "tags": []
          },
          "execution_count": 168
        }
      ]
    },
    {
      "cell_type": "code",
      "metadata": {
        "id": "Kun9IYL4HagU",
        "colab_type": "code",
        "colab": {}
      },
      "source": [
        ""
      ],
      "execution_count": 0,
      "outputs": []
    },
    {
      "cell_type": "code",
      "metadata": {
        "id": "RaFljCLDMSlB",
        "colab_type": "code",
        "colab": {}
      },
      "source": [
        "\n"
      ],
      "execution_count": 0,
      "outputs": []
    },
    {
      "cell_type": "code",
      "metadata": {
        "id": "2d4ewnPKZVpT",
        "colab_type": "code",
        "colab": {}
      },
      "source": [
        ""
      ],
      "execution_count": 0,
      "outputs": []
    },
    {
      "cell_type": "code",
      "metadata": {
        "id": "b9N3LccTQO09",
        "colab_type": "code",
        "colab": {}
      },
      "source": [
        ""
      ],
      "execution_count": 0,
      "outputs": []
    },
    {
      "cell_type": "code",
      "metadata": {
        "id": "K1IF1BbNQT-W",
        "colab_type": "code",
        "colab": {}
      },
      "source": [
        ""
      ],
      "execution_count": 0,
      "outputs": []
    },
    {
      "cell_type": "code",
      "metadata": {
        "id": "7btMSAQUsAXQ",
        "colab_type": "code",
        "colab": {}
      },
      "source": [
        ""
      ],
      "execution_count": 0,
      "outputs": []
    },
    {
      "cell_type": "code",
      "metadata": {
        "id": "3_YHzV8iwTkj",
        "colab_type": "code",
        "colab": {}
      },
      "source": [
        ""
      ],
      "execution_count": 0,
      "outputs": []
    }
  ]
}