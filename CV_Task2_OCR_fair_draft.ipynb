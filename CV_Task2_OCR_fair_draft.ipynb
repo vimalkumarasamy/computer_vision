{
  "nbformat": 4,
  "nbformat_minor": 0,
  "metadata": {
    "colab": {
      "name": "CV_Task2_OCR_fair_draft.ipynb",
      "provenance": [],
      "collapsed_sections": [],
      "authorship_tag": "ABX9TyN8dqt0qrARzT1V3FvoqajK",
      "include_colab_link": true
    },
    "kernelspec": {
      "name": "python3",
      "display_name": "Python 3"
    }
  },
  "cells": [
    {
      "cell_type": "markdown",
      "metadata": {
        "id": "view-in-github",
        "colab_type": "text"
      },
      "source": [
        "<a href=\"https://colab.research.google.com/github/vimalkumarasamy/computer_vision/blob/master/CV_Task2_OCR_fair_draft.ipynb\" target=\"_parent\"><img src=\"https://colab.research.google.com/assets/colab-badge.svg\" alt=\"Open In Colab\"/></a>"
      ]
    },
    {
      "cell_type": "code",
      "metadata": {
        "id": "23WpwmZtLEoW",
        "colab_type": "code",
        "colab": {
          "base_uri": "https://localhost:8080/",
          "height": 124
        },
        "outputId": "b6176468-d9f9-4795-f32e-3ef6fca9fb33"
      },
      "source": [
        "from google.colab import drive\n",
        "drive.mount('/content/gdrive')"
      ],
      "execution_count": 1,
      "outputs": [
        {
          "output_type": "stream",
          "text": [
            "Go to this URL in a browser: https://accounts.google.com/o/oauth2/auth?client_id=947318989803-6bn6qk8qdgf4n4g3pfee6491hc0brc4i.apps.googleusercontent.com&redirect_uri=urn%3aietf%3awg%3aoauth%3a2.0%3aoob&response_type=code&scope=email%20https%3a%2f%2fwww.googleapis.com%2fauth%2fdocs.test%20https%3a%2f%2fwww.googleapis.com%2fauth%2fdrive%20https%3a%2f%2fwww.googleapis.com%2fauth%2fdrive.photos.readonly%20https%3a%2f%2fwww.googleapis.com%2fauth%2fpeopleapi.readonly\n",
            "\n",
            "Enter your authorization code:\n",
            "··········\n",
            "Mounted at /content/gdrive\n"
          ],
          "name": "stdout"
        }
      ]
    },
    {
      "cell_type": "code",
      "metadata": {
        "id": "2c6LI2JaLMIY",
        "colab_type": "code",
        "colab": {
          "base_uri": "https://localhost:8080/",
          "height": 35
        },
        "outputId": "bdb995d9-5cb8-41ad-c1f8-e334e878c53f"
      },
      "source": [
        "cd /content/gdrive/My Drive/Computer_Vision"
      ],
      "execution_count": 8,
      "outputs": [
        {
          "output_type": "stream",
          "text": [
            "/content/gdrive/My Drive/Computer_Vision\n"
          ],
          "name": "stdout"
        }
      ]
    },
    {
      "cell_type": "code",
      "metadata": {
        "id": "pdZX9irNLjDz",
        "colab_type": "code",
        "colab": {}
      },
      "source": [
        "import argparse\n",
        "import copy\n",
        "import os\n",
        "import cv2\n",
        "import numpy as np\n",
        "import utils\n",
        "from task1 import *\n",
        "from matplotlib import pyplot as plt\n",
        "\n",
        "def correlation_coefficient(patch1, patch2):\n",
        "    product = np.mean((patch1 - patch1.mean()) * (patch2 - patch2.mean()))\n",
        "    stds = patch1.std() * patch2.std()\n",
        "    if stds == 0:\n",
        "        return 0\n",
        "    else:\n",
        "        product /= stds\n",
        "        return product\n",
        "  \n",
        "def ncc(image,temp):\n",
        "  import numpy as np\n",
        "  t_np=np.array(temp)\n",
        "  i_np=np.array(image)\n",
        "  t_np=t_np/t_np.sum()\n",
        "  i_l=len(image)\n",
        "  i_b=len(image[0])\n",
        "  t_l=len(temp)\n",
        "  t_b=len(temp[0])\n",
        "  ncc_mat=np.zeros((i_l-t_l+1,i_b-t_b+1)).tolist()\n",
        "  for i in range(i_l-t_l+1):\n",
        "    for j in range(i_b-t_b+1):\n",
        "      ncc_mat[i][j]=correlation_coefficient(i_np[i:i+t_l,j:j+t_b],t_np)\n",
        "  return(ncc_mat)"
      ],
      "execution_count": 0,
      "outputs": []
    },
    {
      "cell_type": "code",
      "metadata": {
        "id": "1-2oDKXGN0Ua",
        "colab_type": "code",
        "colab": {}
      },
      "source": [
        "matches=[]\n",
        "img_path='proj1-task2-png.png'\n",
        "gaussian=np.matmul(np.array([[1],[2],[1]]),np.array([[1,2,1]]))\n",
        "img=read_image(img_path)\n",
        "img_noise_reduced=convolve2d(img,gaussian)\n",
        "\n",
        "template = cv2.imread(\"a.jpg\",0)\n",
        "resized_11_11 = normalize(cv2.resize(template, (11,11), interpolation=cv2.INTER_LINEAR).tolist())\n",
        "resized_11_11_threshold=copy.deepcopy(resized_11_11)\n",
        "for i in range(len(resized_11_11)):\n",
        "  for j in range(len(resized_11_11[0])):\n",
        "    if resized_11_11[i][j]<100:\n",
        "      resized_11_11_threshold[i][j]=0\n",
        "    else:\n",
        "      resized_11_11_threshold[i][j]=255\n",
        "img_ncc=ncc(img_noise_reduced,resized_11_11_threshold)\n",
        "img_ncc_np=np.array(img_ncc)\n",
        "matches=matches+np.argwhere(img_ncc_np > 0.57).tolist()\n",
        "\n",
        "resized_11_11 = normalize(cv2.resize(template, (18,18), interpolation=cv2.INTER_LINEAR).tolist())\n",
        "resized_11_11_threshold=copy.deepcopy(resized_11_11)\n",
        "for i in range(len(resized_11_11)):\n",
        "  for j in range(len(resized_11_11[0])):\n",
        "    if resized_11_11[i][j]<100:\n",
        "      resized_11_11_threshold[i][j]=0\n",
        "    else:\n",
        "      resized_11_11_threshold[i][j]=255\n",
        "img_ncc=ncc(img_noise_reduced,resized_11_11_threshold)\n",
        "img_ncc_np=np.array(img_ncc)\n",
        "matches=matches+(np.argwhere(img_ncc_np > 0.65).tolist())\n",
        "\n"
      ],
      "execution_count": 0,
      "outputs": []
    },
    {
      "cell_type": "code",
      "metadata": {
        "id": "GyVl4-b-T7Ql",
        "colab_type": "code",
        "colab": {
          "base_uri": "https://localhost:8080/",
          "height": 347
        },
        "outputId": "21f3e601-6cbe-48f3-fedd-d38ddb1a92d8"
      },
      "source": [
        "matches"
      ],
      "execution_count": 45,
      "outputs": [
        {
          "output_type": "execute_result",
          "data": {
            "text/plain": [
              "[[13, 152],\n",
              " [13, 153],\n",
              " [13, 169],\n",
              " [13, 170],\n",
              " [36, 91],\n",
              " [58, 121],\n",
              " [58, 227],\n",
              " [81, 88],\n",
              " [81, 150],\n",
              " [132, 170],\n",
              " [132, 215],\n",
              " [154, 122],\n",
              " [154, 164],\n",
              " [177, 79],\n",
              " [177, 155],\n",
              " [199, 84],\n",
              " [199, 150],\n",
              " [199, 167],\n",
              " [102, 151]]"
            ]
          },
          "metadata": {
            "tags": []
          },
          "execution_count": 45
        }
      ]
    },
    {
      "cell_type": "code",
      "metadata": {
        "id": "PYSsnOJLUn_1",
        "colab_type": "code",
        "colab": {}
      },
      "source": [
        ""
      ],
      "execution_count": 0,
      "outputs": []
    }
  ]
}