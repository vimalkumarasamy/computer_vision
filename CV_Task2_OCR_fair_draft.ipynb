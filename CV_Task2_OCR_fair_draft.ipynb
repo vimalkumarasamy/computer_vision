{
  "nbformat": 4,
  "nbformat_minor": 0,
  "metadata": {
    "colab": {
      "name": "CV_Task2_OCR_fair_draft.ipynb",
      "provenance": [],
      "collapsed_sections": [],
      "authorship_tag": "ABX9TyO81ONVmM32BlMEIx8AEofi",
      "include_colab_link": true
    },
    "kernelspec": {
      "name": "python3",
      "display_name": "Python 3"
    }
  },
  "cells": [
    {
      "cell_type": "markdown",
      "metadata": {
        "id": "view-in-github",
        "colab_type": "text"
      },
      "source": [
        "<a href=\"https://colab.research.google.com/github/vimalkumarasamy/computer_vision/blob/master/CV_Task2_OCR_fair_draft.ipynb\" target=\"_parent\"><img src=\"https://colab.research.google.com/assets/colab-badge.svg\" alt=\"Open In Colab\"/></a>"
      ]
    },
    {
      "cell_type": "code",
      "metadata": {
        "id": "23WpwmZtLEoW",
        "colab_type": "code",
        "colab": {
          "base_uri": "https://localhost:8080/",
          "height": 35
        },
        "outputId": "d821051c-9077-436f-f9c2-f0e3a58157e3"
      },
      "source": [
        "from google.colab import drive\n",
        "drive.mount('/content/gdrive')"
      ],
      "execution_count": 46,
      "outputs": [
        {
          "output_type": "stream",
          "text": [
            "Drive already mounted at /content/gdrive; to attempt to forcibly remount, call drive.mount(\"/content/gdrive\", force_remount=True).\n"
          ],
          "name": "stdout"
        }
      ]
    },
    {
      "cell_type": "code",
      "metadata": {
        "id": "2c6LI2JaLMIY",
        "colab_type": "code",
        "colab": {
          "base_uri": "https://localhost:8080/",
          "height": 35
        },
        "outputId": "19be2091-41ab-4192-a024-64669deedf6f"
      },
      "source": [
        "cd /content/gdrive/My Drive/Computer_Vision"
      ],
      "execution_count": 47,
      "outputs": [
        {
          "output_type": "stream",
          "text": [
            "/content/gdrive/My Drive/Computer_Vision\n"
          ],
          "name": "stdout"
        }
      ]
    },
    {
      "cell_type": "code",
      "metadata": {
        "id": "pdZX9irNLjDz",
        "colab_type": "code",
        "colab": {}
      },
      "source": [
        "import argparse\n",
        "import copy\n",
        "import os\n",
        "import cv2\n",
        "import numpy as np\n",
        "import utils\n",
        "from task1 import *\n",
        "from matplotlib import pyplot as plt\n",
        "\n",
        "def correlation_coefficient(patch1, patch2):\n",
        "    product = np.mean((patch1 - patch1.mean()) * (patch2 - patch2.mean()))\n",
        "    stds = patch1.std() * patch2.std()\n",
        "    if stds == 0:\n",
        "        return 0\n",
        "    else:\n",
        "        product /= stds\n",
        "        return product\n",
        "  \n",
        "def ncc(image,temp):\n",
        "  import numpy as np\n",
        "  t_np=np.array(temp)\n",
        "  i_np=np.array(image)\n",
        "  t_np=t_np/t_np.sum()\n",
        "  i_l=len(image)\n",
        "  i_b=len(image[0])\n",
        "  t_l=len(temp)\n",
        "  t_b=len(temp[0])\n",
        "  ncc_mat=np.zeros((i_l-t_l+1,i_b-t_b+1)).tolist()\n",
        "  for i in range(i_l-t_l+1):\n",
        "    for j in range(i_b-t_b+1):\n",
        "      ncc_mat[i][j]=correlation_coefficient(i_np[i:i+t_l,j:j+t_b],t_np)\n",
        "  return(ncc_mat)"
      ],
      "execution_count": 0,
      "outputs": []
    },
    {
      "cell_type": "code",
      "metadata": {
        "id": "1-2oDKXGN0Ua",
        "colab_type": "code",
        "colab": {}
      },
      "source": [
        "matches=[]\n",
        "img_path='proj1-task2-png.png'\n",
        "gaussian=np.matmul(np.array([[1],[2],[1]]),np.array([[1,2,1]]))\n",
        "img=read_image(img_path)\n",
        "img_noise_reduced=convolve2d(img,gaussian)\n",
        "\n",
        "template = cv2.imread(\"a.jpg\",0)\n",
        "resized = normalize(cv2.resize(template, (11,11), interpolation=cv2.INTER_LINEAR).tolist())\n",
        "resized_threshold=copy.deepcopy(resized)\n",
        "for i in range(len(resized)):\n",
        "  for j in range(len(resized[0])):\n",
        "    if resized[i][j]<100:\n",
        "      resized_threshold[i][j]=0\n",
        "    else:\n",
        "      resized_threshold[i][j]=255\n",
        "img_ncc=ncc(img_noise_reduced,resized_threshold)\n",
        "img_ncc_np=np.array(img_ncc)\n",
        "matches=matches+np.argwhere(img_ncc_np > 0.57).tolist()\n",
        "\n",
        "resized = normalize(cv2.resize(template, (18,18), interpolation=cv2.INTER_LINEAR).tolist())\n",
        "resized_threshold=copy.deepcopy(resized_11_11)\n",
        "for i in range(len(resized)):\n",
        "  for j in range(len(resized[0])):\n",
        "    if resized[i][j]<100:\n",
        "      resized_threshold[i][j]=0\n",
        "    else:\n",
        "      resized_threshold[i][j]=255\n",
        "img_ncc=ncc(img_noise_reduced,resized_threshold)\n",
        "img_ncc_np=np.array(img_ncc)\n",
        "matches=matches+(np.argwhere(img_ncc_np > 0.65).tolist())\n",
        "\n"
      ],
      "execution_count": 0,
      "outputs": []
    },
    {
      "cell_type": "code",
      "metadata": {
        "id": "PYSsnOJLUn_1",
        "colab_type": "code",
        "colab": {}
      },
      "source": [
        "# Lets check for template b\n",
        "matches=[]\n",
        "img_path='proj1-task2-png.png'\n",
        "gaussian=np.matmul(np.array([[1],[2],[1]]),np.array([[1,2,1]]))\n",
        "img=read_image(img_path)\n",
        "img_noise_reduced=convolve2d(img,gaussian)\n",
        "\n",
        "template = cv2.imread(\"b_new.jpg\",0)\n",
        "# resized = normalize(cv2.resize(template, (14,9), interpolation=cv2.INTER_LINEAR).tolist())\n",
        "resized=template\n",
        "resized_threshold=copy.deepcopy(resized)\n",
        "for i in range(len(resized)):\n",
        "  for j in range(len(resized[0])):\n",
        "    if resized[i][j]<130:\n",
        "      resized_threshold[i][j]=0\n",
        "    else:\n",
        "      resized_threshold[i][j]=255\n",
        "img_ncc=ncc(img_noise_reduced,resized_threshold)\n",
        "img_ncc_np=np.array(img_ncc)\n",
        "matches=matches+np.argwhere(img_ncc_np > 0.7).tolist()"
      ],
      "execution_count": 0,
      "outputs": []
    },
    {
      "cell_type": "code",
      "metadata": {
        "id": "xBcADAUU9vnb",
        "colab_type": "code",
        "colab": {
          "base_uri": "https://localhost:8080/",
          "height": 763
        },
        "outputId": "922247b6-f63f-4029-a3cf-0d98b73d5959"
      },
      "source": [
        "# Lets check for template c\n",
        "matches=[]\n",
        "img_path='proj1-task2-png.png'\n",
        "gaussian=np.matmul(np.array([[1],[2],[1]]),np.array([[1,2,1]]))\n",
        "img=read_image(img_path)\n",
        "img_noise_reduced=convolve2d(img,gaussian)\n",
        "\n",
        "template = cv2.imread(\"c_.pgm\",0)\n",
        "resized = normalize(cv2.resize(template, (10,10), interpolation=cv2.INTER_LINEAR).tolist())\n",
        "# resized=template\n",
        "resized_threshold=copy.deepcopy(resized)\n",
        "for i in range(len(resized)):\n",
        "  for j in range(len(resized[0])):\n",
        "    if resized[i][j]<100:\n",
        "      resized_threshold[i][j]=0\n",
        "    else:\n",
        "      resized_threshold[i][j]=255\n",
        "# resized_threshold=resized\n",
        "\n",
        "plt.imshow(template, cmap=\"gray\")\n",
        "plt.show()\n",
        "plt.imshow(resized, cmap=\"gray\")\n",
        "plt.show()\n",
        "plt.imshow(resized_threshold, cmap=\"gray\")\n",
        "plt.show()\n",
        "\n",
        "# resized_threshold_gaussian=convolve2d(resized_threshold.tolist(),gaussian)\n",
        "\n",
        "img_ncc=ncc(img_noise_reduced,resized_threshold)\n",
        "img_ncc_np=np.array(img_ncc)\n",
        "matches=matches+np.argwhere(img_ncc_np > 0.52).tolist()"
      ],
      "execution_count": 194,
      "outputs": [
        {
          "output_type": "display_data",
          "data": {
            "image/png": "[encoded data removed]",
            "text/plain": [
              "<Figure size 432x288 with 1 Axes>"
            ]
          },
          "metadata": {
            "tags": []
          }
        },
        {
          "output_type": "display_data",
          "data": {
            "image/png": "[encoded data removed]",
            "text/plain": [
              "<Figure size 432x288 with 1 Axes>"
            ]
          },
          "metadata": {
            "tags": []
          }
        },
        {
          "output_type": "display_data",
          "data": {
            "image/png": "[encoded data removed]",
            "text/plain": [
              "<Figure size 432x288 with 1 Axes>"
            ]
          },
          "metadata": {
            "tags": []
          }
        }
      ]
    },
    {
      "cell_type": "code",
      "metadata": {
        "id": "fIY-k5j290Cw",
        "colab_type": "code",
        "colab": {
          "base_uri": "https://localhost:8080/",
          "height": 35
        },
        "outputId": "c0923a61-d1bd-4350-c743-59de3095ef71"
      },
      "source": [
        "mx=0\n",
        "for i in range(len(img_ncc)):\n",
        "  for j in range(len(img_ncc[0])):\n",
        "    if img_ncc[i][j]>mx:\n",
        "      mx=img_ncc[i][j]\n",
        "      l=i\n",
        "      b=j\n",
        "\n",
        "print(mx,l,b)"
      ],
      "execution_count": 195,
      "outputs": [
        {
          "output_type": "stream",
          "text": [
            "0.6572793693264282 14 219\n"
          ],
          "name": "stdout"
        }
      ]
    },
    {
      "cell_type": "code",
      "metadata": {
        "id": "rc45n3HAB3FJ",
        "colab_type": "code",
        "colab": {
          "base_uri": "https://localhost:8080/",
          "height": 364
        },
        "outputId": "334489e3-eda7-4647-c1af-952790b191b4"
      },
      "source": [
        "np.argwhere(img_ncc_np > 0.52).tolist()"
      ],
      "execution_count": 197,
      "outputs": [
        {
          "output_type": "execute_result",
          "data": {
            "text/plain": [
              "[[14, 87],\n",
              " [14, 162],\n",
              " [14, 219],\n",
              " [14, 220],\n",
              " [59, 55],\n",
              " [59, 263],\n",
              " [178, 164],\n",
              " [200, 93],\n",
              " [200, 159],\n",
              " [200, 214],\n",
              " [201, 93],\n",
              " [245, 37],\n",
              " [245, 50],\n",
              " [245, 103],\n",
              " [245, 216],\n",
              " [246, 165],\n",
              " [246, 179],\n",
              " [268, 42],\n",
              " [268, 110],\n",
              " [269, 86]]"
            ]
          },
          "metadata": {
            "tags": []
          },
          "execution_count": 197
        }
      ]
    },
    {
      "cell_type": "code",
      "metadata": {
        "id": "Kun9IYL4HagU",
        "colab_type": "code",
        "colab": {}
      },
      "source": [
        ""
      ],
      "execution_count": 0,
      "outputs": []
    },
    {
      "cell_type": "code",
      "metadata": {
        "id": "RaFljCLDMSlB",
        "colab_type": "code",
        "colab": {}
      },
      "source": [
        ""
      ],
      "execution_count": 0,
      "outputs": []
    }
  ]
}