{
  "nbformat": 4,
  "nbformat_minor": 0,
  "metadata": {
    "colab": {
      "name": "Filter Design CV.ipynb",
      "provenance": [],
      "collapsed_sections": [],
      "authorship_tag": "ABX9TyMF5+ltdUxT7DUt3zVODzXl",
      "include_colab_link": true
    },
    "kernelspec": {
      "name": "python3",
      "display_name": "Python 3"
    }
  },
  "cells": [
    {
      "cell_type": "markdown",
      "metadata": {
        "id": "view-in-github",
        "colab_type": "text"
      },
      "source": [
        "<a href=\"https://colab.research.google.com/github/vimalkumarasamy/computer_vision/blob/master/Filter_and_rotation_matrix_design.ipynb\" target=\"_parent\"><img src=\"https://colab.research.google.com/assets/colab-badge.svg\" alt=\"Open In Colab\"/></a>"
      ]
    },
    {
      "cell_type": "code",
      "metadata": {
        "id": "_qtSkUOXw4Qz",
        "colab_type": "code",
        "colab": {}
      },
      "source": [
        "# Design a 5x5 flter which can shift image down by 2 pixels and to the left 1 pixel."
      ],
      "execution_count": 0,
      "outputs": []
    },
    {
      "cell_type": "code",
      "metadata": {
        "id": "x2NQFKIqz2br",
        "colab_type": "code",
        "colab": {}
      },
      "source": [
        "def padding(mat,value):\n",
        "  a,b=mat.shape\n",
        "  out_mat=np.zeros((a+(2*value), b+(2*value)))\n",
        "  for i in range(a):\n",
        "    for j in range(b):\n",
        "      out_mat[i+value][j+value]=mat[i][j]\n",
        "  return(out_mat)"
      ],
      "execution_count": 0,
      "outputs": []
    },
    {
      "cell_type": "code",
      "metadata": {
        "id": "29_D86gm530t",
        "colab_type": "code",
        "colab": {}
      },
      "source": [
        "import numpy as np \n",
        "import random\n",
        "N=3\n",
        "arr=np.array([[random.random()]*N for x in range(N)])\n",
        "\n",
        "F1 = np.array([[0, 0, 1, 0, 0], \n",
        "               [0, 0, 0, 0, 0],\n",
        "               [0, 0, 0, 0, 0],\n",
        "               [0, 0, 0, 0, 0],\n",
        "               [0, 0, 0, 0, 0]])\n",
        "\n",
        "def apply_filter(input_array,filter):\n",
        "  arr=input_array.copy()\n",
        "  F1=filter.copy()\n",
        "  a,b=arr.shape\n",
        "  arr_pad=padding(arr,2)\n",
        "  out_mat=np.zeros((a, b))\n",
        "  for i in range(a):\n",
        "    for j in range(b):\n",
        "      out_mat[i][j]=(np.multiply(arr_pad[i:i+5,j:j+5],F1)).sum()\n",
        "  return(out_mat)\n",
        "\n"
      ],
      "execution_count": 0,
      "outputs": []
    },
    {
      "cell_type": "code",
      "metadata": {
        "id": "mbXarkJ_57Su",
        "colab_type": "code",
        "colab": {
          "base_uri": "https://localhost:8080/",
          "height": 119
        },
        "outputId": "1f5027fb-743c-4692-9708-e5b2e79d632e"
      },
      "source": [
        "F1 = np.array([[0, 0, 1, 0, 0], \n",
        "               [0, 0, 0, 0, 0],\n",
        "               [0, 0, 0, 0, 0],\n",
        "               [0, 0, 0, 0, 0],\n",
        "               [0, 0, 0, 0, 0]])\n",
        "\n",
        "F2 = np.array([[0, 0, 0, 0, 0], \n",
        "               [0, 0, 0, 0, 0],\n",
        "               [0, 0, 0, 1, 0],\n",
        "               [0, 0, 0, 0, 0],\n",
        "               [0, 0, 0, 0, 0]])\n",
        "\n",
        "F3=np.matmul(F1,F2)\n",
        "print(arr)\n",
        "# apply_filter(arr,F2)"
      ],
      "execution_count": 140,
      "outputs": [
        {
          "output_type": "stream",
          "text": [
            "[[0.85163601 0.85163601 0.85163601 0.85163601 0.85163601 0.85163601]\n",
            " [0.96191285 0.96191285 0.96191285 0.96191285 0.96191285 0.96191285]\n",
            " [0.41745829 0.41745829 0.41745829 0.41745829 0.41745829 0.41745829]\n",
            " [0.45806308 0.45806308 0.45806308 0.45806308 0.45806308 0.45806308]\n",
            " [0.72386475 0.72386475 0.72386475 0.72386475 0.72386475 0.72386475]\n",
            " [0.37386656 0.37386656 0.37386656 0.37386656 0.37386656 0.37386656]]\n"
          ],
          "name": "stdout"
        }
      ]
    },
    {
      "cell_type": "code",
      "metadata": {
        "id": "w8x3H0T457xJ",
        "colab_type": "code",
        "colab": {
          "base_uri": "https://localhost:8080/",
          "height": 221
        },
        "outputId": "280e5e88-cf81-417c-b6d0-a358dfd9e5f8"
      },
      "source": [
        "arr"
      ],
      "execution_count": 141,
      "outputs": [
        {
          "output_type": "execute_result",
          "data": {
            "text/plain": [
              "array([[0.85163601, 0.85163601, 0.85163601, 0.85163601, 0.85163601,\n",
              "        0.85163601],\n",
              "       [0.96191285, 0.96191285, 0.96191285, 0.96191285, 0.96191285,\n",
              "        0.96191285],\n",
              "       [0.41745829, 0.41745829, 0.41745829, 0.41745829, 0.41745829,\n",
              "        0.41745829],\n",
              "       [0.45806308, 0.45806308, 0.45806308, 0.45806308, 0.45806308,\n",
              "        0.45806308],\n",
              "       [0.72386475, 0.72386475, 0.72386475, 0.72386475, 0.72386475,\n",
              "        0.72386475],\n",
              "       [0.37386656, 0.37386656, 0.37386656, 0.37386656, 0.37386656,\n",
              "        0.37386656]])"
            ]
          },
          "metadata": {
            "tags": []
          },
          "execution_count": 141
        }
      ]
    },
    {
      "cell_type": "code",
      "metadata": {
        "id": "qdy-XQ507iYX",
        "colab_type": "code",
        "colab": {
          "base_uri": "https://localhost:8080/",
          "height": 221
        },
        "outputId": "01f48301-ead8-4dbe-b928-2278b3715028"
      },
      "source": [
        "apply_filter(arr,F1)"
      ],
      "execution_count": 142,
      "outputs": [
        {
          "output_type": "execute_result",
          "data": {
            "text/plain": [
              "array([[0.        , 0.        , 0.        , 0.        , 0.        ,\n",
              "        0.        ],\n",
              "       [0.        , 0.        , 0.        , 0.        , 0.        ,\n",
              "        0.        ],\n",
              "       [0.85163601, 0.85163601, 0.85163601, 0.85163601, 0.85163601,\n",
              "        0.85163601],\n",
              "       [0.96191285, 0.96191285, 0.96191285, 0.96191285, 0.96191285,\n",
              "        0.96191285],\n",
              "       [0.41745829, 0.41745829, 0.41745829, 0.41745829, 0.41745829,\n",
              "        0.41745829],\n",
              "       [0.45806308, 0.45806308, 0.45806308, 0.45806308, 0.45806308,\n",
              "        0.45806308]])"
            ]
          },
          "metadata": {
            "tags": []
          },
          "execution_count": 142
        }
      ]
    },
    {
      "cell_type": "code",
      "metadata": {
        "id": "Ca7cmWoO8-d5",
        "colab_type": "code",
        "colab": {
          "base_uri": "https://localhost:8080/",
          "height": 221
        },
        "outputId": "f28d299a-0bea-4a61-e356-36146d37cb74"
      },
      "source": [
        "apply_filter(arr,F2)"
      ],
      "execution_count": 143,
      "outputs": [
        {
          "output_type": "execute_result",
          "data": {
            "text/plain": [
              "array([[0.85163601, 0.85163601, 0.85163601, 0.85163601, 0.85163601,\n",
              "        0.        ],\n",
              "       [0.96191285, 0.96191285, 0.96191285, 0.96191285, 0.96191285,\n",
              "        0.        ],\n",
              "       [0.41745829, 0.41745829, 0.41745829, 0.41745829, 0.41745829,\n",
              "        0.        ],\n",
              "       [0.45806308, 0.45806308, 0.45806308, 0.45806308, 0.45806308,\n",
              "        0.        ],\n",
              "       [0.72386475, 0.72386475, 0.72386475, 0.72386475, 0.72386475,\n",
              "        0.        ],\n",
              "       [0.37386656, 0.37386656, 0.37386656, 0.37386656, 0.37386656,\n",
              "        0.        ]])"
            ]
          },
          "metadata": {
            "tags": []
          },
          "execution_count": 143
        }
      ]
    },
    {
      "cell_type": "code",
      "metadata": {
        "id": "d2wK-53D8_yy",
        "colab_type": "code",
        "colab": {
          "base_uri": "https://localhost:8080/",
          "height": 68
        },
        "outputId": "274a5b76-fa5a-4e7d-ce75-cc6ee9f87016"
      },
      "source": [
        "apply_filter(arr,F3)"
      ],
      "execution_count": 147,
      "outputs": [
        {
          "output_type": "execute_result",
          "data": {
            "text/plain": [
              "array([[0.        , 0.        , 0.        ],\n",
              "       [0.        , 0.        , 0.        ],\n",
              "       [0.83747199, 0.83747199, 0.        ]])"
            ]
          },
          "metadata": {
            "tags": []
          },
          "execution_count": 147
        }
      ]
    },
    {
      "cell_type": "code",
      "metadata": {
        "id": "z9dFrWa19CO9",
        "colab_type": "code",
        "colab": {
          "base_uri": "https://localhost:8080/",
          "height": 68
        },
        "outputId": "6c23af9d-7d56-4ee8-fba8-e18061a94243"
      },
      "source": [
        "arr"
      ],
      "execution_count": 148,
      "outputs": [
        {
          "output_type": "execute_result",
          "data": {
            "text/plain": [
              "array([[0.83747199, 0.83747199, 0.83747199],\n",
              "       [0.19669369, 0.19669369, 0.19669369],\n",
              "       [0.86966281, 0.86966281, 0.86966281]])"
            ]
          },
          "metadata": {
            "tags": []
          },
          "execution_count": 148
        }
      ]
    },
    {
      "cell_type": "code",
      "metadata": {
        "id": "0thrmG7c9Ryv",
        "colab_type": "code",
        "colab": {
          "base_uri": "https://localhost:8080/",
          "height": 102
        },
        "outputId": "b8aa646a-d793-4443-f453-cee8c334a8bd"
      },
      "source": [
        "F3"
      ],
      "execution_count": 149,
      "outputs": [
        {
          "output_type": "execute_result",
          "data": {
            "text/plain": [
              "array([[0, 0, 0, 1, 0],\n",
              "       [0, 0, 0, 0, 0],\n",
              "       [0, 0, 0, 0, 0],\n",
              "       [0, 0, 0, 0, 0],\n",
              "       [0, 0, 0, 0, 0]])"
            ]
          },
          "metadata": {
            "tags": []
          },
          "execution_count": 149
        }
      ]
    },
    {
      "cell_type": "code",
      "metadata": {
        "id": "6LY6KdKFEFQP",
        "colab_type": "code",
        "colab": {
          "base_uri": "https://localhost:8080/",
          "height": 102
        },
        "outputId": "0e46d6cc-1ff3-44fb-fe63-b81be59e9f62"
      },
      "source": [
        "F1"
      ],
      "execution_count": 150,
      "outputs": [
        {
          "output_type": "execute_result",
          "data": {
            "text/plain": [
              "array([[0, 0, 1, 0, 0],\n",
              "       [0, 0, 0, 0, 0],\n",
              "       [0, 0, 0, 0, 0],\n",
              "       [0, 0, 0, 0, 0],\n",
              "       [0, 0, 0, 0, 0]])"
            ]
          },
          "metadata": {
            "tags": []
          },
          "execution_count": 150
        }
      ]
    },
    {
      "cell_type": "code",
      "metadata": {
        "id": "DvSddrHkEp7Y",
        "colab_type": "code",
        "colab": {
          "base_uri": "https://localhost:8080/",
          "height": 102
        },
        "outputId": "6d0348c5-5235-46ab-eb24-4e82fb4d2e29"
      },
      "source": [
        "F2"
      ],
      "execution_count": 151,
      "outputs": [
        {
          "output_type": "execute_result",
          "data": {
            "text/plain": [
              "array([[0, 0, 0, 0, 0],\n",
              "       [0, 0, 0, 0, 0],\n",
              "       [0, 0, 0, 1, 0],\n",
              "       [0, 0, 0, 0, 0],\n",
              "       [0, 0, 0, 0, 0]])"
            ]
          },
          "metadata": {
            "tags": []
          },
          "execution_count": 151
        }
      ]
    },
    {
      "cell_type": "code",
      "metadata": {
        "id": "lmbOWO3xEqkZ",
        "colab_type": "code",
        "colab": {}
      },
      "source": [
        "# Rotation across XY plane in 2 dimension"
      ],
      "execution_count": 0,
      "outputs": []
    },
    {
      "cell_type": "code",
      "metadata": {
        "id": "-myi9DL8AEEC",
        "colab_type": "code",
        "colab": {}
      },
      "source": [
        "import math\n",
        "import numpy as np\n",
        "theta=math.pi/2\n",
        "d_2 = np.array([[math.cos(theta), -math.sin(theta)], \n",
        "                [math.sin(theta), math.cos(theta)]])\n",
        "\n",
        "co_ord = np.array([[1],[1]])"
      ],
      "execution_count": 0,
      "outputs": []
    },
    {
      "cell_type": "code",
      "metadata": {
        "id": "yCJxX7HrAhab",
        "colab_type": "code",
        "colab": {
          "base_uri": "https://localhost:8080/",
          "height": 51
        },
        "outputId": "e899ddb0-ee86-4ab0-81be-b12a35e984dc"
      },
      "source": [
        "np.matmul(d_2,co_ord)"
      ],
      "execution_count": 16,
      "outputs": [
        {
          "output_type": "execute_result",
          "data": {
            "text/plain": [
              "array([[-1.],\n",
              "       [ 1.]])"
            ]
          },
          "metadata": {
            "tags": []
          },
          "execution_count": 16
        }
      ]
    },
    {
      "cell_type": "code",
      "metadata": {
        "id": "sIx2bX7mA18W",
        "colab_type": "code",
        "colab": {
          "base_uri": "https://localhost:8080/",
          "height": 51
        },
        "outputId": "f54bf192-595f-41df-dbfa-786173ac1876"
      },
      "source": [
        "co_ord"
      ],
      "execution_count": 17,
      "outputs": [
        {
          "output_type": "execute_result",
          "data": {
            "text/plain": [
              "array([[1],\n",
              "       [1]])"
            ]
          },
          "metadata": {
            "tags": []
          },
          "execution_count": 17
        }
      ]
    },
    {
      "cell_type": "code",
      "metadata": {
        "id": "ezFjXdIMBrvc",
        "colab_type": "code",
        "colab": {}
      },
      "source": [
        ""
      ],
      "execution_count": 0,
      "outputs": []
    }
  ]
}