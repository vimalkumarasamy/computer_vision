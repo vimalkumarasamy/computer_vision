{
  "nbformat": 4,
  "nbformat_minor": 0,
  "metadata": {
    "colab": {
      "name": "CV_homework_3.ipynb",
      "provenance": [],
      "collapsed_sections": [],
      "authorship_tag": "ABX9TyNhPgl+GnNrq0TAROIDfFVS",
      "include_colab_link": true
    },
    "kernelspec": {
      "name": "python3",
      "display_name": "Python 3"
    }
  },
  "cells": [
    {
      "cell_type": "markdown",
      "metadata": {
        "id": "view-in-github",
        "colab_type": "text"
      },
      "source": [
        "<a href=\"https://colab.research.google.com/github/vimalkumarasamy/computer_vision/blob/master/CV_homework_3.ipynb\" target=\"_parent\"><img src=\"https://colab.research.google.com/assets/colab-badge.svg\" alt=\"Open In Colab\"/></a>"
      ]
    },
    {
      "cell_type": "code",
      "metadata": {
        "id": "ImNFfvOJoqLw",
        "colab_type": "code",
        "colab": {}
      },
      "source": [
        "import numpy as np\n",
        "arr=np.array([[2,1,2,1,1,2,1,2,1,1],[1,2,1,1,2,1,1,1,1,2],[2,2,1,2,1,2,2,1,2,1],[2,1,1,1,2,1,2,1,2,1],[1,2,2,1,1,1,1,2,1,2],[2,2,1,1,2,2,1,1,2,1],[1,1,1,2,1,1,2,2,2,1],[2,1,2,1,1,2,1,2,1,1],[1,3,1,1,2,1,1,1,1,1],[2,2,1,2,1,2,2,1,2,2]])\n",
        "arr=arr-1"
      ],
      "execution_count": 0,
      "outputs": []
    },
    {
      "cell_type": "code",
      "metadata": {
        "id": "b0sPO7JappYK",
        "colab_type": "code",
        "colab": {
          "base_uri": "https://localhost:8080/",
          "height": 238
        },
        "outputId": "8cad4ab7-d503-4119-967e-cfc3c603db64"
      },
      "source": [
        "ones=0\n",
        "zeros=0\n",
        "matches=np.zeros(arr.shape)\n",
        "for i in range(1,arr.shape[0]-1):\n",
        "  for j in range(1,arr.shape[1]-1):\n",
        "    if arr[i,j-1]==0 and arr[i-1,j-1]==1 and arr[i-1,j]==0 and arr[i-1,j+1]==1 and arr[i,j+1]==0 and arr[i+1,j-1]==1 and arr[i+1,j]==1 and arr[i+1,j+1]==0:\n",
        "      \n",
        "      if arr[i,j]==1 :\n",
        "        ones=ones+1\n",
        "        matches[i,j]=100\n",
        "      if arr[i,j]==0 :\n",
        "        zeros=zeros+1\n",
        "        matches[i,j]=50\n",
        "      # pass\n",
        "print(\"light shades are :\", ones, \"\\ndark shades are :\", zeros, \"\\nprob of dark shade :\",zeros/(zeros+ones)*100,\"%\")\n",
        "print(matches)"
      ],
      "execution_count": 45,
      "outputs": [
        {
          "output_type": "stream",
          "text": [
            "light shades are : 2 \n",
            "dark shades are : 4 \n",
            "prob of dark shade : 66.66666666666666 %\n",
            "[[  0.   0.   0.   0.   0.   0.   0.   0.   0.   0.]\n",
            " [  0. 100.   0.   0.   0.   0.  50.   0.   0.   0.]\n",
            " [  0.   0.   0.   0.   0.   0.   0.   0.   0.   0.]\n",
            " [  0.   0.  50.   0.   0.   0.   0.   0.   0.   0.]\n",
            " [  0.   0.   0.   0.   0.  50.   0.   0.   0.   0.]\n",
            " [  0.   0.   0.   0.   0.   0.   0.   0. 100.   0.]\n",
            " [  0.   0.   0.   0.   0.   0.   0.   0.   0.   0.]\n",
            " [  0.   0.   0.   0.   0.   0.   0.   0.   0.   0.]\n",
            " [  0.   0.   0.   0.   0.   0.  50.   0.   0.   0.]\n",
            " [  0.   0.   0.   0.   0.   0.   0.   0.   0.   0.]]\n"
          ],
          "name": "stdout"
        }
      ]
    },
    {
      "cell_type": "code",
      "metadata": {
        "id": "N5NrvSVOsyUy",
        "colab_type": "code",
        "colab": {
          "base_uri": "https://localhost:8080/",
          "height": 238
        },
        "outputId": "4fe065aa-7cac-49b9-ba9c-a9949dac2ba1"
      },
      "source": [
        "ones=0\n",
        "zeros=0\n",
        "matches=np.zeros(arr.shape)\n",
        "for i in range(1,arr.shape[0]-1):\n",
        "  for j in range(1,arr.shape[1]-1):\n",
        "    if arr[i,j-1]==0 and arr[i-1,j]==0 and arr[i,j+1]==0 and arr[i+1,j]==1:\n",
        "      \n",
        "      if arr[i,j]==1 :\n",
        "        ones=ones+1\n",
        "        matches[i,j]=100\n",
        "      if arr[i,j]==0 :\n",
        "        zeros=zeros+1\n",
        "        matches[i,j]=50\n",
        "      # pass\n",
        "print(\"light shades are :\", ones, \"\\ndark shades are :\", zeros, \"\\nprob of dark shade :\",zeros/(zeros+ones)*100,\"%\")\n",
        "print(matches)"
      ],
      "execution_count": 46,
      "outputs": [
        {
          "output_type": "stream",
          "text": [
            "light shades are : 3 \n",
            "dark shades are : 5 \n",
            "prob of dark shade : 62.5 %\n",
            "[[  0.   0.   0.   0.   0.   0.   0.   0.   0.   0.]\n",
            " [  0. 100.   0.   0.   0.   0.  50.   0.   0.   0.]\n",
            " [  0.   0.   0.   0.   0.   0.   0.   0. 100.   0.]\n",
            " [  0.   0.  50.   0.   0.   0.   0.   0.   0.   0.]\n",
            " [  0.   0.   0.   0.   0.  50.   0.   0.   0.   0.]\n",
            " [  0.   0.   0.   0.   0.   0.   0.   0. 100.   0.]\n",
            " [  0.   0.   0.   0.   0.   0.   0.   0.   0.   0.]\n",
            " [  0.   0.   0.   0.   0.   0.   0.   0.   0.   0.]\n",
            " [  0.   0.   0.   0.   0.   0.  50.   0.  50.   0.]\n",
            " [  0.   0.   0.   0.   0.   0.   0.   0.   0.   0.]]\n"
          ],
          "name": "stdout"
        }
      ]
    },
    {
      "cell_type": "code",
      "metadata": {
        "id": "gkhf_yqLugOg",
        "colab_type": "code",
        "colab": {}
      },
      "source": [
        ""
      ],
      "execution_count": 0,
      "outputs": []
    }
  ]
}