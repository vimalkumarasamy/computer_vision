{
  "nbformat": 4,
  "nbformat_minor": 0,
  "metadata": {
    "colab": {
      "name": "Edge_detection.ipynb",
      "provenance": [],
      "collapsed_sections": [],
      "authorship_tag": "ABX9TyPgTZvRZxTXW92SH70/G+I5",
      "include_colab_link": true
    },
    "kernelspec": {
      "name": "python3",
      "display_name": "Python 3"
    }
  },
  "cells": [
    {
      "cell_type": "markdown",
      "metadata": {
        "id": "view-in-github",
        "colab_type": "text"
      },
      "source": [
        "<a href=\"https://colab.research.google.com/github/vimalkumarasamy/computer_vision/blob/master/Edge_detection.ipynb\" target=\"_parent\"><img src=\"https://colab.research.google.com/assets/colab-badge.svg\" alt=\"Open In Colab\"/></a>"
      ]
    },
    {
      "cell_type": "code",
      "metadata": {
        "id": "BW6xXdBXnr6t",
        "colab_type": "code",
        "colab": {}
      },
      "source": [
        "# This notebook is to experiment with edge detection\n",
        "\n",
        "import copy\n",
        "import cv2\n",
        "import numpy as np\n",
        "\n",
        "def zero_pad(img, pwx, pwy):\n",
        "    \"\"\"Pads a given image with zero at the border.\"\"\"\n",
        "    padded_img = copy.deepcopy(img)\n",
        "    for i in range(pwx):\n",
        "        padded_img.insert(0, [0 for value in enumerate(padded_img[i])])\n",
        "        padded_img.insert(len(padded_img), [0 for value in enumerate(padded_img[-1])])\n",
        "    for i, row in enumerate(padded_img):\n",
        "        for j in range(pwy):\n",
        "            row.insert(0, 0)\n",
        "            row.insert(len(row), 0)\n",
        "    return padded_img"
      ],
      "execution_count": 0,
      "outputs": []
    },
    {
      "cell_type": "code",
      "metadata": {
        "id": "mbfnk7XOn2Au",
        "colab_type": "code",
        "colab": {}
      },
      "source": [
        "a=[[2,1],[3,2]]"
      ],
      "execution_count": 0,
      "outputs": []
    },
    {
      "cell_type": "code",
      "metadata": {
        "id": "QaWnjCVHoBye",
        "colab_type": "code",
        "colab": {
          "base_uri": "https://localhost:8080/",
          "height": 34
        },
        "outputId": "41c58c76-ae8c-45b7-fc55-9b671d8b0bad"
      },
      "source": [
        "a"
      ],
      "execution_count": 9,
      "outputs": [
        {
          "output_type": "execute_result",
          "data": {
            "text/plain": [
              "[[2, 1], [3, 2]]"
            ]
          },
          "metadata": {
            "tags": []
          },
          "execution_count": 9
        }
      ]
    },
    {
      "cell_type": "code",
      "metadata": {
        "id": "fmJa96S5oCIB",
        "colab_type": "code",
        "colab": {
          "base_uri": "https://localhost:8080/",
          "height": 119
        },
        "outputId": "01a08ac8-7807-4ba6-f72a-5f2d5bb4d8c2"
      },
      "source": [
        "zero_pad(a,2,2)"
      ],
      "execution_count": 10,
      "outputs": [
        {
          "output_type": "execute_result",
          "data": {
            "text/plain": [
              "[[0, 0, 0, 0, 0, 0],\n",
              " [0, 0, 0, 0, 0, 0],\n",
              " [0, 0, 2, 1, 0, 0],\n",
              " [0, 0, 3, 2, 0, 0],\n",
              " [0, 0, 0, 0, 0, 0],\n",
              " [0, 0, 0, 0, 0, 0]]"
            ]
          },
          "metadata": {
            "tags": []
          },
          "execution_count": 10
        }
      ]
    },
    {
      "cell_type": "code",
      "metadata": {
        "id": "KlPYxtKxoFnu",
        "colab_type": "code",
        "colab": {}
      },
      "source": [
        ""
      ],
      "execution_count": 0,
      "outputs": []
    }
  ]
}