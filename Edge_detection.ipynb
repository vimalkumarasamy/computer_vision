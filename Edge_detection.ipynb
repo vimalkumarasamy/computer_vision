{
  "nbformat": 4,
  "nbformat_minor": 0,
  "metadata": {
    "colab": {
      "name": "Edge_detection.ipynb",
      "provenance": [],
      "collapsed_sections": [],
      "authorship_tag": "ABX9TyOvWqi/incBFp/1aevRuSwY",
      "include_colab_link": true
    },
    "kernelspec": {
      "name": "python3",
      "display_name": "Python 3"
    }
  },
  "cells": [
    {
      "cell_type": "markdown",
      "metadata": {
        "id": "view-in-github",
        "colab_type": "text"
      },
      "source": [
        "<a href=\"https://colab.research.google.com/github/vimalkumarasamy/computer_vision/blob/master/Edge_detection.ipynb\" target=\"_parent\"><img src=\"https://colab.research.google.com/assets/colab-badge.svg\" alt=\"Open In Colab\"/></a>"
      ]
    },
    {
      "cell_type": "code",
      "metadata": {
        "id": "BW6xXdBXnr6t",
        "colab_type": "code",
        "colab": {}
      },
      "source": [
        "# This notebook is to experiment with edge detection\n",
        "\n",
        "import copy\n",
        "import cv2\n",
        "import numpy as np\n",
        "\n",
        "def zero_pad(img, pwx, pwy):\n",
        "    \"\"\"Pads a given image with zero at the border.\"\"\"\n",
        "    padded_img = copy.deepcopy(img)\n",
        "    for i in range(pwx):\n",
        "        padded_img.insert(0, [0 for value in enumerate(padded_img[i])])\n",
        "        padded_img.insert(len(padded_img), [0 for value in enumerate(padded_img[i])])\n",
        "    for i, row in enumerate(padded_img):\n",
        "        for j in range(pwy):\n",
        "            row.insert(0, 0)\n",
        "            row.insert(len(row), 0)\n",
        "    return padded_img"
      ],
      "execution_count": 0,
      "outputs": []
    },
    {
      "cell_type": "code",
      "metadata": {
        "id": "mbfnk7XOn2Au",
        "colab_type": "code",
        "outputId": "ab54f413-20dd-4ab5-ec98-2f804d25c106",
        "colab": {
          "base_uri": "https://localhost:8080/",
          "height": 34
        }
      },
      "source": [
        "a=[[2,1],[3,2]]\n",
        "zero_pad(a,1,1)"
      ],
      "execution_count": 34,
      "outputs": [
        {
          "output_type": "execute_result",
          "data": {
            "text/plain": [
              "[[0, 0, 0, 0], [0, 2, 1, 0], [0, 3, 2, 0], [0, 0, 0, 0]]"
            ]
          },
          "metadata": {
            "tags": []
          },
          "execution_count": 34
        }
      ]
    },
    {
      "cell_type": "code",
      "metadata": {
        "id": "fmJa96S5oCIB",
        "colab_type": "code",
        "colab": {}
      },
      "source": [
        "prewitt_x = [[1, 0, -1]] * 3\n",
        "prewitt_y = [[1] * 3, [0] * 3, [-1] * 3]\n"
      ],
      "execution_count": 0,
      "outputs": []
    },
    {
      "cell_type": "code",
      "metadata": {
        "id": "3YyvNlXBU15F",
        "colab_type": "code",
        "colab": {}
      },
      "source": [
        "def convolve2d(img, kernel):\n",
        "    \"\"\"Convolves a given image and a given kernel.\n",
        "\n",
        "    Steps:\n",
        "        (1) flips the either the img or the kernel.\n",
        "        (2) pads the img or the flipped img.\n",
        "            this step handles pixels along the border of the img,\n",
        "            and makes sure that the output img is of the same size as the input image.\n",
        "        (3) applies the flipped kernel to the image or the kernel to the flipped image,\n",
        "            using nested for loop.\n",
        "\n",
        "    Args:\n",
        "        img: nested list (int), image.\n",
        "        kernel: nested list (int), kernel.\n",
        "\n",
        "    Returns:\n",
        "        img_conv: nested list (int), image.\n",
        "    \"\"\"\n",
        "    # TODO: implement this function.\n",
        "    pre_padded_img = copy.deepcopy(img)\n",
        "    l=len(pre_padded_img)\n",
        "    b=len(pre_padded_img[0])\n",
        "    img_conv=[[0]*b]*l\n",
        "    pad_size=int((len(kernel)-1)/2)\n",
        "    # print(pad_size)\n",
        "    padded_img=zero_pad(pre_padded_img,pad_size,pad_size)\n",
        "    # print(padded_img)\n",
        "    for i in range(l):\n",
        "      for j in range(b):\n",
        "        # print(np.array([k[j:j+len(kernel)] for k in padded_img[i:i+len(kernel)]]))\n",
        "        # print(np.array(kernel))\n",
        "        img_conv[i][j]= int(np.multiply(np.array([k[j:j+len(kernel)] for k in padded_img[i:i+len(kernel)]]),np.array(kernel)).sum())\n",
        "    # raise NotImplementedError\n",
        "    return img_conv\n"
      ],
      "execution_count": 0,
      "outputs": []
    },
    {
      "cell_type": "code",
      "metadata": {
        "id": "jZe9QjmwSn9e",
        "colab_type": "code",
        "colab": {}
      },
      "source": [
        "def normalize(img):\n",
        "    \"\"\"Normalizes a given image.\n",
        "\n",
        "    Hints:\n",
        "        Noralize a given image using the following equation:\n",
        "\n",
        "        normalized_img = frac{img - min(img)}{max(img) - min(img)},\n",
        "\n",
        "        so that the maximum pixel value is 255 and the minimum pixel value is 0.\n",
        "\n",
        "    Args:\n",
        "        img: nested list (int), image.\n",
        "\n",
        "    Returns:\n",
        "        normalized_img: nested list (int), normalized image.\n",
        "    \"\"\"\n",
        "    # TODO: implement this function.\n",
        "    import numpy as np\n",
        "    img_np=np.array(img)\n",
        "    img_np=(img_np-img_np.min())*255/(img_np.max()-img_np.min())\n",
        "    img=img_np.tolist()\n",
        "\n",
        "    # raise NotImplementedError\n",
        "    return img\n"
      ],
      "execution_count": 0,
      "outputs": []
    },
    {
      "cell_type": "code",
      "metadata": {
        "id": "pZ-pO1GvYkOd",
        "colab_type": "code",
        "colab": {}
      },
      "source": [
        "def detect_edges(img, kernel, norm=True):\n",
        "    \"\"\"Detects edges using a given kernel.\n",
        "\n",
        "    Args:\n",
        "        img: nested list (int), image.\n",
        "        kernel: nested list (int), kernel used to detect edges.\n",
        "        norm (bool): whether to normalize the image or not.\n",
        "\n",
        "    Returns:\n",
        "        img_edge: nested list (int), image containing detected edges.\n",
        "    \"\"\"\n",
        "    # TODO: detect edges using convolve2d and normalize the image containing detected edges using normalize.\n",
        "    # raise NotImplementedError\n",
        "    img_edges=convolve2d(img, kernel)\n",
        "    if norm:\n",
        "      img_edges=normalize(img)\n",
        "    return img_edges"
      ],
      "execution_count": 0,
      "outputs": []
    },
    {
      "cell_type": "code",
      "metadata": {
        "id": "dZzO6JcbdC2I",
        "colab_type": "code",
        "colab": {}
      },
      "source": [
        "def edge_magnitude(edge_x, edge_y):\n",
        "    \"\"\"Calculate magnitude of edges by combining edges along two orthogonal directions.\n",
        "\n",
        "    Hints:\n",
        "        Combine edges along two orthogonal directions using the following equation:\n",
        "\n",
        "        edge_mag = sqrt(edge_x ** 2 + edge_y **).\n",
        "\n",
        "        Make sure that you normalize the edge_mag, so that the maximum pixel value is 1.\n",
        "\n",
        "    Args:\n",
        "        edge_x: nested list (int), image containing detected edges along one direction.\n",
        "        edge_y: nested list (int), image containing detected edges along another direction.\n",
        "\n",
        "    Returns:\n",
        "        edge_mag: nested list (int), image containing magnitude of detected edges.\n",
        "    \"\"\"\n",
        "    # TODO: implement this function.\n",
        "    raise NotImplementedError\n",
        "    return edge_mag\n"
      ],
      "execution_count": 0,
      "outputs": []
    }
  ]
}