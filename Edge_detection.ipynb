{
  "nbformat": 4,
  "nbformat_minor": 0,
  "metadata": {
    "colab": {
      "name": "Edge_detection.ipynb",
      "provenance": [],
      "collapsed_sections": [],
      "authorship_tag": "ABX9TyO5Jao/yaEQ7ZT3fKj1M75J",
      "include_colab_link": true
    },
    "kernelspec": {
      "name": "python3",
      "display_name": "Python 3"
    }
  },
  "cells": [
    {
      "cell_type": "markdown",
      "metadata": {
        "id": "view-in-github",
        "colab_type": "text"
      },
      "source": [
        "<a href=\"https://colab.research.google.com/github/vimalkumarasamy/computer_vision/blob/master/Edge_detection.ipynb\" target=\"_parent\"><img src=\"https://colab.research.google.com/assets/colab-badge.svg\" alt=\"Open In Colab\"/></a>"
      ]
    },
    {
      "cell_type": "code",
      "metadata": {
        "id": "BW6xXdBXnr6t",
        "colab_type": "code",
        "colab": {}
      },
      "source": [
        "# This notebook is to experiment with edge detection\n",
        "\n",
        "import copy\n",
        "import cv2\n",
        "import numpy as np\n",
        "\n",
        "def zero_pad(img, pwx, pwy):\n",
        "    \"\"\"Pads a given image with zero at the border.\"\"\"\n",
        "    padded_img = copy.deepcopy(img)\n",
        "    for i in range(pwx):\n",
        "        padded_img.insert(0, [0 for value in enumerate(padded_img[i])])\n",
        "        padded_img.insert(len(padded_img), [0 for value in enumerate(padded_img[i])])\n",
        "    for i, row in enumerate(padded_img):\n",
        "        for j in range(pwy):\n",
        "            row.insert(0, 0)\n",
        "            row.insert(len(row), 0)\n",
        "    return padded_img"
      ],
      "execution_count": 0,
      "outputs": []
    },
    {
      "cell_type": "code",
      "metadata": {
        "id": "mbfnk7XOn2Au",
        "colab_type": "code",
        "colab": {
          "base_uri": "https://localhost:8080/",
          "height": 34
        },
        "outputId": "fa93c71d-7df4-4997-c3f8-da579683d6ec"
      },
      "source": [
        "a=[[2,1],[3,2]]\n",
        "zero_pad(a,1,1)"
      ],
      "execution_count": 93,
      "outputs": [
        {
          "output_type": "execute_result",
          "data": {
            "text/plain": [
              "[[0, 0, 0, 0], [0, 2, 1, 0], [0, 3, 2, 0], [0, 0, 0, 0]]"
            ]
          },
          "metadata": {
            "tags": []
          },
          "execution_count": 93
        }
      ]
    },
    {
      "cell_type": "code",
      "metadata": {
        "id": "fmJa96S5oCIB",
        "colab_type": "code",
        "colab": {}
      },
      "source": [
        "prewitt_x = [[1, 0, -1]] * 3\n",
        "prewitt_y = [[1] * 3, [0] * 3, [-1] * 3]\n"
      ],
      "execution_count": 0,
      "outputs": []
    },
    {
      "cell_type": "code",
      "metadata": {
        "id": "3YyvNlXBU15F",
        "colab_type": "code",
        "colab": {}
      },
      "source": [
        "def convolve2d(img, kernel):\n",
        "    \"\"\"Convolves a given image and a given kernel.\n",
        "\n",
        "    Steps:\n",
        "        (1) flips the either the img or the kernel.\n",
        "        (2) pads the img or the flipped img.\n",
        "            this step handles pixels along the border of the img,\n",
        "            and makes sure that the output img is of the same size as the input image.\n",
        "        (3) applies the flipped kernel to the image or the kernel to the flipped image,\n",
        "            using nested for loop.\n",
        "\n",
        "    Args:\n",
        "        img: nested list (int), image.\n",
        "        kernel: nested list (int), kernel.\n",
        "\n",
        "    Returns:\n",
        "        img_conv: nested list (int), image.\n",
        "    \"\"\"\n",
        "    # TODO: implement this function.\n",
        "    pre_padded_img = copy.deepcopy(img)\n",
        "    l=len(pre_padded_img)\n",
        "    b=len(pre_padded_img[0])\n",
        "    img_conv=[[0]*b]*l\n",
        "    pad_size=int((len(kernel)-1)/2)\n",
        "    # print(pad_size)\n",
        "    padded_img=zero_pad(pre_padded_img,pad_size,pad_size)\n",
        "    # print(padded_img)\n",
        "    for i in range(l):\n",
        "      for j in range(b):\n",
        "        # print(np.array([k[j:j+len(kernel)] for k in padded_img[i:i+len(kernel)]]))\n",
        "        # print(np.array(kernel))\n",
        "        img_conv[i][j]= np.multiply(np.array([k[j:j+len(kernel)] for k in padded_img[i:i+len(kernel)]]),np.array(kernel)).sum()\n",
        "    # raise NotImplementedError\n",
        "    return img_conv\n"
      ],
      "execution_count": 0,
      "outputs": []
    },
    {
      "cell_type": "code",
      "metadata": {
        "id": "mFkCXmJvV0ra",
        "colab_type": "code",
        "colab": {
          "base_uri": "https://localhost:8080/",
          "height": 34
        },
        "outputId": "a1b62e88-d7ed-4d1c-8c17-c688303e84e4"
      },
      "source": [
        "a=[[1,2,3,4],[1,2,3,4],[1,2,3,4],[1,2,3,4]]\n",
        "b=[[1,1,1],[1,1,1],[1,1,1]]\n",
        "convolve2d(a,b)"
      ],
      "execution_count": 115,
      "outputs": [
        {
          "output_type": "execute_result",
          "data": {
            "text/plain": [
              "[[6, 12, 18, 14], [6, 12, 18, 14], [6, 12, 18, 14], [6, 12, 18, 14]]"
            ]
          },
          "metadata": {
            "tags": []
          },
          "execution_count": 115
        }
      ]
    },
    {
      "cell_type": "code",
      "metadata": {
        "id": "1RFDiG6DV42m",
        "colab_type": "code",
        "colab": {}
      },
      "source": [
        ""
      ],
      "execution_count": 0,
      "outputs": []
    },
    {
      "cell_type": "code",
      "metadata": {
        "id": "BPJQJLSSWbG3",
        "colab_type": "code",
        "colab": {}
      },
      "source": [
        ""
      ],
      "execution_count": 0,
      "outputs": []
    }
  ]
}